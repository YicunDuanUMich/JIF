{
 "cells": [
  {
   "cell_type": "markdown",
   "metadata": {},
   "source": [
    "This assumes that you have run the following in the terminal before starting up the ipython notebook:\n",
    "\n",
    "```\n",
    "source $HOME/loadLSST.bash\n",
    "setup pipe_tasks\n",
    "```"
   ]
  },
  {
   "cell_type": "code",
   "execution_count": 12,
   "metadata": {
    "collapsed": true
   },
   "outputs": [],
   "source": [
    "import lsst.afw.math        as math\n",
    "import lsst.afw.table       as afwTable\n",
    "import lsst.afw.image       as afwImg\n",
    "import lsst.afw.detection   as afwDetect\n",
    "import lsst.meas.algorithms as measAlg\n",
    "\n",
    "%matplotlib inline\n",
    "from matplotlib.colors  import LogNorm\n",
    "import matplotlib.pyplot as plt"
   ]
  },
  {
   "cell_type": "markdown",
   "metadata": {},
   "source": [
    "# User Input"
   ]
  },
  {
   "cell_type": "code",
   "execution_count": 21,
   "metadata": {
    "collapsed": true
   },
   "outputs": [],
   "source": [
    "# name of the fits file\n",
    "fitsfile = '../TestData/test_lsst_image_paper1_ex1.fits'\n",
    "# gain; once this is in the fits header it should be read from that using metaData = exposure.getMetadata()\n",
    "gain = 2.1"
   ]
  },
  {
   "cell_type": "code",
   "execution_count": 35,
   "metadata": {
    "collapsed": false
   },
   "outputs": [],
   "source": [
    "# load the fits image into an exposure\n",
    "exposure = afwImg.ExposureF(fitsfile)\n",
    "\n",
    "# add links to the various exposure parts\n",
    "maskedImage = exposure.getMaskedImage()\n",
    "image = maskedImage.getImage()\n",
    "mask = maskedImage.getMask()\n",
    "variance = maskedImage.getVariance()"
   ]
  },
  {
   "cell_type": "code",
   "execution_count": 38,
   "metadata": {
    "collapsed": false
   },
   "outputs": [],
   "source": [
    "## Note that we need to manually make the variance image; lets just define\n",
    "## this a image pixel values / gain\n",
    "variance_array = variance.getArray()\n",
    "image_array = image.getArray()\n",
    "variance_array[:] = image_array / gain"
   ]
  },
  {
   "cell_type": "code",
   "execution_count": 42,
   "metadata": {
    "collapsed": false
   },
   "outputs": [
    {
     "data": {
      "text/plain": [
       "<matplotlib.colorbar.Colorbar instance at 0x114f1cb48>"
      ]
     },
     "execution_count": 42,
     "metadata": {},
     "output_type": "execute_result"
    },
    {
     "data": {
      "image/png": "[encoded data removed]",
      "text/plain": [
       "<matplotlib.figure.Figure at 0x114b7da90>"
      ]
     },
     "metadata": {},
     "output_type": "display_data"
    }
   ],
   "source": [
    "plt.imshow(image.getArray(),norm=LogNorm(),origin='lower',interpolation='nearest')\n",
    "plt.colorbar()"
   ]
  },
  {
   "cell_type": "code",
   "execution_count": 43,
   "metadata": {
    "collapsed": false
   },
   "outputs": [
    {
     "data": {
      "text/plain": [
       "<matplotlib.colorbar.Colorbar instance at 0x1154d5ab8>"
      ]
     },
     "execution_count": 43,
     "metadata": {},
     "output_type": "execute_result"
    },
    {
     "data": {
      "image/png": "[encoded data removed]",
      "text/plain": [
       "<matplotlib.figure.Figure at 0x11502ef90>"
      ]
     },
     "metadata": {},
     "output_type": "display_data"
    }
   ],
   "source": [
    "plt.imshow(variance.getArray(),norm=LogNorm(),origin='lower',interpolation='nearest')\n",
    "plt.colorbar()"
   ]
  },
  {
   "cell_type": "code",
   "execution_count": 99,
   "metadata": {
    "collapsed": true
   },
   "outputs": [],
   "source": [
    "# Configure the detection and measurement algorithms\n",
    "schema                = afwTable.SourceTable.makeMinimalSchema()\n",
    "detectSourcesConfig   = measAlg.SourceDetectionConfig(thresholdType='value')\n",
    "# turn off the background reestimation since this is such a small field, otherwise it won't\n",
    "# will not detect the source due to subtracting it as background\n",
    "detectSourcesConfig.reEstimateBackground = False\n",
    "#detectSourcesConfig   = measAlg.SourceDetectionConfig(thresholdType='value',thresholdValue=0)\n",
    "#detectSourcesConfig   = measAlg.SourceDetectionConfig(thresholdType='pixel_stdev')\n",
    "measureSourcesConfig  = measAlg.SourceMeasurementConfig()"
   ]
  },
  {
   "cell_type": "code",
   "execution_count": 100,
   "metadata": {
    "collapsed": false
   },
   "outputs": [],
   "source": [
    "# Setup the detection and measurement tasks\n",
    "detect  = measAlg.SourceDetectionTask(config=detectSourcesConfig,  schema=schema)\n",
    "measure = measAlg.SourceMeasurementTask(config=measureSourcesConfig, schema=schema)\n",
    "\n",
    "# Set flux aliases to None; a hack for an incompatability between\n",
    "# makeMinimalSchema() and the default SourceMeasurementConfig() options.\n",
    "measureSourcesConfig.slots.psfFlux    = None\n",
    "measureSourcesConfig.slots.apFlux     = None\n",
    "measureSourcesConfig.slots.modelFlux  = None\n",
    "measureSourcesConfig.slots.instFlux   = None\n",
    "measureSourcesConfig.validate()"
   ]
  },
  {
   "cell_type": "code",
   "execution_count": 136,
   "metadata": {
    "collapsed": false
   },
   "outputs": [],
   "source": [
    "# Detect the sources,then put them into a catalog (the table is where the\n",
    "# catalog atually stores stuff)\n",
    "table   = afwTable.SourceTable.make(schema)\n",
    "catalog = detect.makeSourceCatalog(table, exposure, sigma=3)"
   ]
  },
  {
   "cell_type": "code",
   "execution_count": 137,
   "metadata": {
    "collapsed": false
   },
   "outputs": [
    {
     "name": "stdout",
     "output_type": "stream",
     "text": [
      "(13.44, 13.437)\n",
      "     centroid.sdss (13.44, 13.437)\n",
      "     shape.sdss (ixx=3.63687392279, iyy=3.17690277203, ixy=0.487577036626)\n",
      "     shape.sdss.centroid (13.47, 13.468)\n",
      "     flux.gaussian 199082.285648\n"
     ]
    }
   ],
   "source": [
    "# Get the sources out of the catalog\n",
    "sources = catalog.sources\n",
    "\n",
    "# Apply the measurement routines to the exposure using the sources as input\n",
    "measure.run(exposure, sources)\n",
    "\n",
    "# Now let's look at the output from some of the measurment algorithms.\n",
    "fields = ['centroid.sdss', 'shape.sdss', 'shape.sdss.centroid','flux.gaussian']\n",
    "keys   = [schema.find(f).key for f in fields]\n",
    "\n",
    "for source in sources:\n",
    "    print source.getCentroid() #This uses one of the aliases\n",
    "\n",
    "    # Now loop through the keys we want\n",
    "    for f,k in zip(fields, keys):\n",
    "        print '    ', f, source.get(k)\n"
   ]
  },
  {
   "cell_type": "code",
   "execution_count": 138,
   "metadata": {
    "collapsed": false
   },
   "outputs": [
    {
     "name": "stdout",
     "output_type": "stream",
     "text": [
      "ds9 doesn't appear to be running (XPA: XPA returned NULL, (;iconify no; raise)), I'll exec it for you\n"
     ]
    }
   ],
   "source": [
    "# look at the detected objects in ds9\n",
    "import lsst.afw.display.ds9 as ds9\n",
    "#ds9.setMaskPlaneVisibility(\"DETECTED\",False)\n",
    "ds9.setMaskTransparency(75)\n",
    "ds9.mtv(maskedImage)\n",
    "ds9.dot(\"+\", source.getX(), source.getY())"
   ]
  },
  {
   "cell_type": "markdown",
   "metadata": {},
   "source": [
    "Something seems off about the properties of the detected source. It is strange that the footprint in the ds9 display looks round and it is suprising that ixy of shape.sdss is so much smaller than ixx and iyy since this object has a clearly diagonally orientated ellipticity. This could be OK though since the ellipticity is primarily present in a log streach of the data. I need to do some independent basic measurements of the data to make sure I understand the results."
   ]
  },
  {
   "cell_type": "code",
   "execution_count": 129,
   "metadata": {
    "collapsed": false
   },
   "outputs": [
    {
     "data": {
      "text/plain": [
       "Schema(\n",
       "    (Field['L'](name=\"id\", doc=\"unique ID\"), Key<L>(offset=0, nElements=1)),\n",
       "    (Field['Coord'](name=\"coord\", doc=\"position in ra/dec\", units=\"IRCS; radians\"), Key<Coord>(offset=8, nElements=2)),\n",
       "    (Field['L'](name=\"parent\", doc=\"unique ID of parent source\"), Key<L>(offset=24, nElements=1)),\n",
       "    (Field['Flag'](name=\"flags_negative\", doc=\"set if source was detected as significantly negative\"), Key['Flag'](offset=32, bit=0)),\n",
       "    (Field['Flag'](name=\"flags.badcentroid\", doc=\"the centroid algorithm used to feed centers to other algorithms failed\"), Key['Flag'](offset=32, bit=1)),\n",
       "    (Field['PointD'](name=\"centroid.sdss\", doc=\"SDSS-algorithm centroid measurement\", units=\"pixels\"), Key<PointD>(offset=40, nElements=2)),\n",
       "    (Field['CovPointF'](name=\"centroid.sdss.err\", doc=\"covariance matrix for centroid.sdss\", units=\"pixels^2\"), Key<CovPointF>(offset=56, nElements=3)),\n",
       "    (Field['Flag'](name=\"centroid.sdss.flags\", doc=\"set if the centroid.sdss measurement did not fully succeed\"), Key['Flag'](offset=32, bit=2)),\n",
       "    (Field['PointD'](name=\"centroid.gaussian\", doc=\"centroid measured with weighted Gaussian\", units=\"pixels\"), Key<PointD>(offset=72, nElements=2)),\n",
       "    (Field['CovPointF'](name=\"centroid.gaussian.err\", doc=\"covariance matrix for centroid.gaussian\", units=\"pixels^2\"), Key<CovPointF>(offset=88, nElements=3)),\n",
       "    (Field['Flag'](name=\"centroid.gaussian.flags\", doc=\"set if the centroid.gaussian measurement did not fully succeed\"), Key['Flag'](offset=32, bit=3)),\n",
       "    (Field['PointD'](name=\"centroid.naive\", doc=\"unweighted 3x3 first moment centroid\", units=\"pixels\"), Key<PointD>(offset=104, nElements=2)),\n",
       "    (Field['CovPointF'](name=\"centroid.naive.err\", doc=\"covariance matrix for centroid.naive\", units=\"pixels^2\"), Key<CovPointF>(offset=120, nElements=3)),\n",
       "    (Field['Flag'](name=\"centroid.naive.flags\", doc=\"set if the centroid.naive measurement did not fully succeed\"), Key['Flag'](offset=32, bit=4)),\n",
       "    (Field['Flag'](name=\"flags.pixel.edge\", doc=\"source is in region labeled EDGE\"), Key['Flag'](offset=32, bit=5)),\n",
       "    (Field['Flag'](name=\"flags.pixel.interpolated.any\", doc=\"source's footprint includes interpolated pixels\"), Key['Flag'](offset=32, bit=6)),\n",
       "    (Field['Flag'](name=\"flags.pixel.interpolated.center\", doc=\"source's center is close to interpolated pixels\"), Key['Flag'](offset=32, bit=7)),\n",
       "    (Field['Flag'](name=\"flags.pixel.saturated.any\", doc=\"source's footprint includes saturated pixels\"), Key['Flag'](offset=32, bit=8)),\n",
       "    (Field['Flag'](name=\"flags.pixel.saturated.center\", doc=\"source's center is close to saturated pixels\"), Key['Flag'](offset=32, bit=9)),\n",
       "    (Field['Flag'](name=\"flags.pixel.cr.any\", doc=\"source's footprint includes suspected CR pixels\"), Key['Flag'](offset=32, bit=10)),\n",
       "    (Field['Flag'](name=\"flags.pixel.cr.center\", doc=\"source's center is close to suspected CR pixels\"), Key['Flag'](offset=32, bit=11)),\n",
       "    (Field['Flag'](name=\"flags.pixel.bad\", doc=\"source is in region labeled BAD\"), Key['Flag'](offset=32, bit=12)),\n",
       "    (Field['MomentsD'](name=\"shape.sdss\", doc=\"shape measured with SDSS adaptive moment algorithm\", units=\"pixels^2\"), Key<MomentsD>(offset=136, nElements=3)),\n",
       "    (Field['CovMomentsF'](name=\"shape.sdss.err\", doc=\"covariance matrix for shape.sdss\", units=\"pixels^4\"), Key<CovMomentsF>(offset=160, nElements=6)),\n",
       "    (Field['Flag'](name=\"shape.sdss.flags\", doc=\"set if the shape.sdss measurement failed\"), Key['Flag'](offset=32, bit=13)),\n",
       "    (Field['PointD'](name=\"shape.sdss.centroid\", doc=\"centroid measured with SDSS adaptive moment shape algorithm\", units=\"pixels\"), Key<PointD>(offset=184, nElements=2)),\n",
       "    (Field['CovPointF'](name=\"shape.sdss.centroid.err\", doc=\"covariance matrix for shape.sdss.centroid\", units=\"pixels^2\"), Key<CovPointF>(offset=200, nElements=3)),\n",
       "    (Field['Flag'](name=\"shape.sdss.centroid.flags\", doc=\"set if the shape.sdss.centroid measurement did not fully succeed\"), Key['Flag'](offset=32, bit=14)),\n",
       "    (Field['Flag'](name=\"shape.sdss.flags.unweightedbad\", doc=\"even the unweighted moments were bad\"), Key['Flag'](offset=32, bit=15)),\n",
       "    (Field['Flag'](name=\"shape.sdss.flags.unweighted\", doc=\"adaptive moments failed; fall back to unweighted moments\"), Key['Flag'](offset=32, bit=16)),\n",
       "    (Field['Flag'](name=\"shape.sdss.flags.shift\", doc=\"centroid shifted while estimating adaptive moments\"), Key['Flag'](offset=32, bit=17)),\n",
       "    (Field['Flag'](name=\"shape.sdss.flags.maxiter\", doc=\"too many iterations for adaptive moments\"), Key['Flag'](offset=32, bit=18)),\n",
       "    (Field['D'](name=\"flux.gaussian\", doc=\"linear fit to an elliptical Gaussian with shape parameters set by adaptive moments\", units=\"dn\"), Key<D>(offset=216, nElements=1)),\n",
       "    (Field['D'](name=\"flux.gaussian.err\", doc=\"uncertainty for flux.gaussian\", units=\"dn\"), Key<D>(offset=224, nElements=1)),\n",
       "    (Field['Flag'](name=\"flux.gaussian.flags\", doc=\"set if the flux.gaussian measurement failed\"), Key['Flag'](offset=32, bit=19)),\n",
       "    (Field['F'](name=\"flux.gaussian.psffactor\", doc=\"'flux' from applying the algorithm to the PSF model\"), Key<F>(offset=232, nElements=1)),\n",
       "    (Field['Flag'](name=\"flux.gaussian.flags.psffactor\", doc=\"set if the algorithm could not be applied to the PSF model\"), Key['Flag'](offset=32, bit=20)),\n",
       "    (Field['D'](name=\"flux.naive\", doc=\"simple sum over pixels in a circular aperture\", units=\"dn\"), Key<D>(offset=240, nElements=1)),\n",
       "    (Field['D'](name=\"flux.naive.err\", doc=\"uncertainty for flux.naive\", units=\"dn\"), Key<D>(offset=248, nElements=1)),\n",
       "    (Field['Flag'](name=\"flux.naive.flags\", doc=\"set if the flux.naive measurement failed\"), Key['Flag'](offset=32, bit=21)),\n",
       "    (Field['D'](name=\"flux.psf\", doc=\"flux measured by a fit to the PSF model\", units=\"dn\"), Key<D>(offset=256, nElements=1)),\n",
       "    (Field['D'](name=\"flux.psf.err\", doc=\"uncertainty for flux.psf\", units=\"dn\"), Key<D>(offset=264, nElements=1)),\n",
       "    (Field['Flag'](name=\"flux.psf.flags\", doc=\"set if the flux.psf measurement failed\"), Key['Flag'](offset=32, bit=22)),\n",
       "    (Field['F'](name=\"flux.psf.psffactor\", doc=\"'flux' from applying the algorithm to the PSF model\"), Key<F>(offset=272, nElements=1)),\n",
       "    (Field['Flag'](name=\"flux.psf.flags.psffactor\", doc=\"set if the algorithm could not be applied to the PSF model\"), Key['Flag'](offset=32, bit=23)),\n",
       "    (Field['D'](name=\"flux.sinc\", doc=\"elliptical aperture photometry using sinc interpolation\", units=\"dn\"), Key<D>(offset=280, nElements=1)),\n",
       "    (Field['D'](name=\"flux.sinc.err\", doc=\"uncertainty for flux.sinc\", units=\"dn\"), Key<D>(offset=288, nElements=1)),\n",
       "    (Field['Flag'](name=\"flux.sinc.flags\", doc=\"set if the flux.sinc measurement failed\"), Key['Flag'](offset=32, bit=24)),\n",
       "    (Field['F'](name=\"correctfluxes.apcorr\", doc=\"correction applied to model fluxes to match to 7.000000-pixel aperture\"), Key<F>(offset=296, nElements=1)),\n",
       "    (Field['Flag'](name=\"correctfluxes.apcorr.flags\", doc=\"flag set if aperture correction failed\"), Key['Flag'](offset=32, bit=25)),\n",
       "    (Field['D'](name=\"classification.extendedness\", doc=\"probability of being extended\"), Key<D>(offset=304, nElements=1)),\n",
       ")"
      ]
     },
     "execution_count": 129,
     "metadata": {},
     "output_type": "execute_result"
    }
   ],
   "source": [
    "# look at the fields that have calculated and can be called\n",
    "source.schema"
   ]
  },
  {
   "cell_type": "code",
   "execution_count": null,
   "metadata": {
    "collapsed": true
   },
   "outputs": [],
   "source": [
    "source.getShape()"
   ]
  },
  {
   "cell_type": "markdown",
   "metadata": {},
   "source": [
    "Note that originally the above did not work. I think it is because the image is too small for the detection scheme to acurately determine the background. So in what follows I use a more manual method of detection."
   ]
  },
  {
   "cell_type": "code",
   "execution_count": 76,
   "metadata": {
    "collapsed": true
   },
   "outputs": [],
   "source": [
    "thresholdValue = 100\n",
    "npixMin        = 5 \n",
    "grow           = 1\n",
    "isotropic      = False\n",
    "\n",
    "#threshold = afwDetect.Threshold(thresholdValue, afwDetect.Threshold.VALUE)\n",
    "threshold = afwDetect.Threshold(thresholdValue)\n",
    "footPrintSet  = afwDetect.FootprintSet(maskedImage, threshold, \"DETECTED\", npixMin)\n",
    "footPrintSet  = afwDetect.FootprintSet(footPrintSet, grow, isotropic)\n",
    "\n",
    "footPrints = footPrintSet.getFootprints()\n",
    "\n",
    "footPrintSet.setMask(maskedImage.getMask(), \"DETECTED\")"
   ]
  },
  {
   "cell_type": "code",
   "execution_count": 77,
   "metadata": {
    "collapsed": false
   },
   "outputs": [
    {
     "name": "stdout",
     "output_type": "stream",
     "text": [
      "I found  1 footPrint(s)\n",
      "\n",
      "Footprint: 0\n",
      "A peak of value 12165.3378906\n",
      "was found at X = 13.0 Y = 13.0\n"
     ]
    }
   ],
   "source": [
    "print \"I found \", footPrints.size(), \"footPrint(s)\"\n",
    "print\n",
    "\n",
    "for i in range(0,footPrints.size()):\n",
    "    print \"Footprint:\",i\n",
    "    \n",
    "    peak = footPrints[i].getPeaks()[0]\n",
    "    print \"A peak of value\", peak.getPeakValue()\n",
    "    print \"was found at X =\", peak.getFx(),\"Y =\",peak.getFy()"
   ]
  },
  {
   "cell_type": "code",
   "execution_count": 80,
   "metadata": {
    "collapsed": false
   },
   "outputs": [
    {
     "name": "stdout",
     "output_type": "stream",
     "text": [
      "Help on class Footprint in module lsst.afw.detection.detectionLib:\n",
      "\n",
      "class Footprint(lsst.daf.base.baseLib.Citizen, FootprintPersistableFacade, lsst.afw.table.io.ioLib.Persistable)\n",
      " |  Proxy of C++ lsst::afw::detection::Footprint class\n",
      " |  \n",
      " |  Method resolution order:\n",
      " |      Footprint\n",
      " |      lsst.daf.base.baseLib.Citizen\n",
      " |      FootprintPersistableFacade\n",
      " |      lsst.afw.table.io.ioLib.Persistable\n",
      " |      __builtin__.object\n",
      " |  \n",
      " |  Methods defined here:\n",
      " |  \n",
      " |  __del__ lambda self\n",
      " |  \n",
      " |  __getattr__ lambda self, name\n",
      " |  \n",
      " |  __init__(self, *args)\n",
      " |      __init__(lsst::afw::detection::Footprint self, int nspan=0, Box2I region=lsst::afw::geom::Box2I()) -> Footprint\n",
      " |      __init__(lsst::afw::detection::Footprint self, int nspan=0) -> Footprint\n",
      " |      __init__(lsst::afw::detection::Footprint self) -> Footprint\n",
      " |      __init__(lsst::afw::detection::Footprint self, Box2I bbox, Box2I region=lsst::afw::geom::Box2I()) -> Footprint\n",
      " |      __init__(lsst::afw::detection::Footprint self, Box2I bbox) -> Footprint\n",
      " |      __init__(lsst::afw::detection::Footprint self, Point2I center, double const radius, Box2I arg4=lsst::afw::geom::Box2I()) -> Footprint\n",
      " |      __init__(lsst::afw::detection::Footprint self, Point2I center, double const radius) -> Footprint\n",
      " |      __init__(lsst::afw::detection::Footprint self, Ellipse ellipse, Box2I region=lsst::afw::geom::Box2I()) -> Footprint\n",
      " |      __init__(lsst::afw::detection::Footprint self, Ellipse ellipse) -> Footprint\n",
      " |      __init__(lsst::afw::detection::Footprint self, SpanContainerT spans, Box2I region=lsst::afw::geom::Box2I()) -> Footprint\n",
      " |      __init__(lsst::afw::detection::Footprint self, SpanContainerT spans) -> Footprint\n",
      " |      __init__(lsst::afw::detection::Footprint self, Footprint other) -> Footprint\n",
      " |  \n",
      " |  __repr__ = _swig_repr(self)\n",
      " |  \n",
      " |  __setattr__ lambda self, name, value\n",
      " |  \n",
      " |  addSpan(self, *args)\n",
      " |      addSpan(Footprint self, int const y, int const x0, int const x1) -> Span\n",
      " |      addSpan(Footprint self, Span span) -> Span\n",
      " |      addSpan(Footprint self, Span span, int dx, int dy) -> Span\n",
      " |  \n",
      " |  addSpanInSeries(self, *args)\n",
      " |      addSpanInSeries(Footprint self, int const y, int const x0, int const x1) -> Span\n",
      " |  \n",
      " |  assign(self, *args)\n",
      " |      assign(Footprint self, Footprint other) -> Footprint\n",
      " |  \n",
      " |  clipTo(self, *args)\n",
      " |      clipTo(Footprint self, Box2I bbox)\n",
      " |  \n",
      " |  clipToNonzero(self, *args)\n",
      " |      clipToNonzero(Footprint self, ImageF img)\n",
      " |      clipToNonzero(Footprint self, ImageD img)\n",
      " |      clipToNonzero(Footprint self, ImageU img)\n",
      " |      clipToNonzero(Footprint self, ImageI img)\n",
      " |      clipToNonzero(Footprint self, ImageL img)\n",
      " |  \n",
      " |  contains(self, *args)\n",
      " |      contains(Footprint self, Point2I pix) -> bool\n",
      " |  \n",
      " |  getArea(self)\n",
      " |      getArea(Footprint self) -> int\n",
      " |  \n",
      " |  getBBox(self, *args)\n",
      " |      getBBox(Footprint self) -> Box2I\n",
      " |      getBBox(Footprint self) -> Box2I\n",
      " |  \n",
      " |  getCentroid(self)\n",
      " |      getCentroid(Footprint self) -> Point2D\n",
      " |  \n",
      " |  getId(self)\n",
      " |      getId(Footprint self) -> int\n",
      " |  \n",
      " |  getNpix(self)\n",
      " |      getNpix(Footprint self) -> int\n",
      " |  \n",
      " |  getPeaks(self, *args)\n",
      " |      getPeaks(Footprint self) -> PeakContainerT\n",
      " |      getPeaks(Footprint self) -> PeakContainerT\n",
      " |  \n",
      " |  getRegion(self)\n",
      " |      getRegion(Footprint self) -> Box2I\n",
      " |  \n",
      " |  getShape(self)\n",
      " |      getShape(Footprint self) -> Quadrupole\n",
      " |  \n",
      " |  getSpans(self, *args)\n",
      " |      getSpans(Footprint self) -> SpanContainerT\n",
      " |      getSpans(Footprint self) -> SpanContainerT\n",
      " |  \n",
      " |  insertIntoImage(self, *args)\n",
      " |      insertIntoImage(Footprint self, ImageU idImage, boost::uint64_t const id, Box2I region=lsst::afw::geom::Box2I())\n",
      " |      insertIntoImage(Footprint self, ImageU idImage, boost::uint64_t const id)\n",
      " |      insertIntoImage(Footprint self, ImageU idImage, boost::uint64_t const id, bool const overwriteId, long const idMask, \n",
      " |          std::set< uint64_t,std::less< uint64_t >,std::allocator< uint64_t > > * oldIds, \n",
      " |          Box2I region=lsst::afw::geom::Box2I())\n",
      " |      insertIntoImage(Footprint self, ImageU idImage, boost::uint64_t const id, bool const overwriteId, long const idMask, \n",
      " |          std::set< uint64_t,std::less< uint64_t >,std::allocator< uint64_t > > * oldIds)\n",
      " |      insertIntoImage(Footprint self, ImageI idImage, boost::uint64_t const id, Box2I region=lsst::afw::geom::Box2I())\n",
      " |      insertIntoImage(Footprint self, ImageI idImage, boost::uint64_t const id)\n",
      " |      insertIntoImage(Footprint self, ImageI idImage, boost::uint64_t const id, bool const overwriteId, long const idMask, \n",
      " |          std::set< uint64_t,std::less< uint64_t >,std::allocator< uint64_t > > * oldIds, \n",
      " |          Box2I region=lsst::afw::geom::Box2I())\n",
      " |      insertIntoImage(Footprint self, ImageI idImage, boost::uint64_t const id, bool const overwriteId, long const idMask, \n",
      " |          std::set< uint64_t,std::less< uint64_t >,std::allocator< uint64_t > > * oldIds)\n",
      " |      insertIntoImage(Footprint self, ImageL idImage, boost::uint64_t const id, Box2I region=lsst::afw::geom::Box2I())\n",
      " |      insertIntoImage(Footprint self, ImageL idImage, boost::uint64_t const id)\n",
      " |      insertIntoImage(Footprint self, ImageL idImage, boost::uint64_t const id, bool const overwriteId, long const idMask, \n",
      " |          std::set< uint64_t,std::less< uint64_t >,std::allocator< uint64_t > > * oldIds, \n",
      " |          Box2I region=lsst::afw::geom::Box2I())\n",
      " |      insertIntoImage(Footprint self, ImageL idImage, boost::uint64_t const id, bool const overwriteId, long const idMask, \n",
      " |          std::set< uint64_t,std::less< uint64_t >,std::allocator< uint64_t > > * oldIds)\n",
      " |  \n",
      " |  intersectMask(self, *args)\n",
      " |      intersectMask(Footprint self, MaskU mask, unsigned short bitmask=~0x0)\n",
      " |      intersectMask(Footprint self, MaskU mask)\n",
      " |  \n",
      " |  isHeavy(self)\n",
      " |      isHeavy(Footprint self) -> bool\n",
      " |  \n",
      " |  isNormalized(self)\n",
      " |      isNormalized(Footprint self) -> bool\n",
      " |  \n",
      " |  isPersistable(self)\n",
      " |      isPersistable(Footprint self) -> bool\n",
      " |  \n",
      " |  normalize(self)\n",
      " |      normalize(Footprint self)\n",
      " |  \n",
      " |  setRegion(self, *args)\n",
      " |      setRegion(Footprint self, Box2I region)\n",
      " |  \n",
      " |  shift(self, *args)\n",
      " |      shift(Footprint self, int dx, int dy)\n",
      " |      shift(Footprint self, Extent2I d)\n",
      " |  \n",
      " |  transform(self, *args)\n",
      " |      transform(Footprint self, Wcs source, Wcs target, Box2I region, bool doClip=True) -> boost::shared_ptr< lsst::afw::detection::Footprint >\n",
      " |      transform(Footprint self, Wcs source, Wcs target, Box2I region) -> boost::shared_ptr< lsst::afw::detection::Footprint >\n",
      " |  \n",
      " |  ----------------------------------------------------------------------\n",
      " |  Data and other attributes defined here:\n",
      " |  \n",
      " |  __swig_destroy__ = <built-in function delete_Footprint>\n",
      " |      delete_Footprint(Footprint self)\n",
      " |  \n",
      " |  __swig_getmethods__ = {'census': <function <lambda>>, 'getNextMemId': ...\n",
      " |  \n",
      " |  __swig_setmethods__ = {}\n",
      " |  \n",
      " |  ----------------------------------------------------------------------\n",
      " |  Methods inherited from lsst.daf.base.baseLib.Citizen:\n",
      " |  \n",
      " |  markPersistent(self)\n",
      " |      markPersistent(Citizen self)\n",
      " |  \n",
      " |  repr(self)\n",
      " |      repr(Citizen self) -> std::string\n",
      " |  \n",
      " |  ----------------------------------------------------------------------\n",
      " |  Static methods inherited from lsst.daf.base.baseLib.Citizen:\n",
      " |  \n",
      " |  census(*args)\n",
      " |      census(int arg1, lsst::daf::base::Citizen::memId startingMemId=0) -> int\n",
      " |      census(int arg1) -> int\n",
      " |      census(ostream stream, lsst::daf::base::Citizen::memId startingMemId=0)\n",
      " |      census(ostream stream)\n",
      " |      census() -> vectorCitizen\n",
      " |  \n",
      " |  getNextMemId()\n",
      " |      getNextMemId() -> lsst::daf::base::Citizen::memId\n",
      " |  \n",
      " |  hasBeenCorrupted()\n",
      " |      hasBeenCorrupted() -> bool\n",
      " |  \n",
      " |  init()\n",
      " |      init() -> int\n",
      " |  \n",
      " |  setCorruptionCallback(*args)\n",
      " |      setCorruptionCallback(lsst::daf::base::Citizen::memCallback func) -> lsst::daf::base::Citizen::memCallback\n",
      " |  \n",
      " |  setDeleteCallback(*args)\n",
      " |      setDeleteCallback(lsst::daf::base::Citizen::memCallback func) -> lsst::daf::base::Citizen::memCallback\n",
      " |  \n",
      " |  setDeleteCallbackId(*args)\n",
      " |      setDeleteCallbackId(lsst::daf::base::Citizen::memId id) -> lsst::daf::base::Citizen::memId\n",
      " |  \n",
      " |  setNewCallback(*args)\n",
      " |      setNewCallback(lsst::daf::base::Citizen::memNewCallback func) -> lsst::daf::base::Citizen::memNewCallback\n",
      " |  \n",
      " |  setNewCallbackId(*args)\n",
      " |      setNewCallbackId(lsst::daf::base::Citizen::memId id) -> lsst::daf::base::Citizen::memId\n",
      " |  \n",
      " |  ----------------------------------------------------------------------\n",
      " |  Data descriptors inherited from lsst.daf.base.baseLib.Citizen:\n",
      " |  \n",
      " |  __dict__\n",
      " |      dictionary for instance variables (if defined)\n",
      " |  \n",
      " |  __weakref__\n",
      " |      list of weak references to the object (if defined)\n",
      " |  \n",
      " |  ----------------------------------------------------------------------\n",
      " |  Data and other attributes inherited from lsst.daf.base.baseLib.Citizen:\n",
      " |  \n",
      " |  magicSentinel = -559038737\n",
      " |  \n",
      " |  ----------------------------------------------------------------------\n",
      " |  Static methods inherited from FootprintPersistableFacade:\n",
      " |  \n",
      " |  readFits(*args)\n",
      " |      readFits(std::string const & fileName, int hdu=0) -> boost::shared_ptr< lsst::afw::detection::Footprint >\n",
      " |      readFits(std::string const & fileName) -> boost::shared_ptr< lsst::afw::detection::Footprint >\n",
      " |      readFits(MemFileManager manager, int hdu=0) -> boost::shared_ptr< lsst::afw::detection::Footprint >\n",
      " |      readFits(MemFileManager manager) -> boost::shared_ptr< lsst::afw::detection::Footprint >\n",
      " |  \n",
      " |  ----------------------------------------------------------------------\n",
      " |  Methods inherited from lsst.afw.table.io.ioLib.Persistable:\n",
      " |  \n",
      " |  writeFits(self, *args)\n",
      " |      writeFits(Persistable self, std::string const & fileName, std::string const & mode=\"w\")\n",
      " |      writeFits(Persistable self, std::string const & fileName)\n",
      " |      writeFits(Persistable self, lsst::afw::fits::MemFileManager & manager, std::string const & mode=\"w\")\n",
      " |      writeFits(Persistable self, lsst::afw::fits::MemFileManager & manager)\n",
      "\n"
     ]
    }
   ],
   "source": [
    "help(afwDetect.Footprint)"
   ]
  },
  {
   "cell_type": "code",
   "execution_count": 81,
   "metadata": {
    "collapsed": true
   },
   "outputs": [],
   "source": [
    "reg = footPrints[0].getRegion()"
   ]
  },
  {
   "cell_type": "code",
   "execution_count": 92,
   "metadata": {
    "collapsed": false
   },
   "outputs": [
    {
     "data": {
      "text/plain": [
       "Box2I(Point2I(2, 2), Extent2I(24, 24))"
      ]
     },
     "execution_count": 92,
     "metadata": {},
     "output_type": "execute_result"
    }
   ],
   "source": [
    "footPrints[0].getBBox()"
   ]
  },
  {
   "cell_type": "code",
   "execution_count": 98,
   "metadata": {
    "collapsed": false
   },
   "outputs": [
    {
     "name": "stdout",
     "output_type": "stream",
     "text": [
      "Help on Footprint in module lsst.afw.detection.detectionLib object:\n",
      "\n",
      "class Footprint(lsst.daf.base.baseLib.Citizen, FootprintPersistableFacade, lsst.afw.table.io.ioLib.Persistable)\n",
      " |  Proxy of C++ lsst::afw::detection::Footprint class\n",
      " |  \n",
      " |  Method resolution order:\n",
      " |      Footprint\n",
      " |      lsst.daf.base.baseLib.Citizen\n",
      " |      FootprintPersistableFacade\n",
      " |      lsst.afw.table.io.ioLib.Persistable\n",
      " |      __builtin__.object\n",
      " |  \n",
      " |  Methods defined here:\n",
      " |  \n",
      " |  __del__ lambda self\n",
      " |  \n",
      " |  __getattr__ lambda self, name\n",
      " |  \n",
      " |  __init__(self, *args)\n",
      " |      __init__(lsst::afw::detection::Footprint self, int nspan=0, Box2I region=lsst::afw::geom::Box2I()) -> Footprint\n",
      " |      __init__(lsst::afw::detection::Footprint self, int nspan=0) -> Footprint\n",
      " |      __init__(lsst::afw::detection::Footprint self) -> Footprint\n",
      " |      __init__(lsst::afw::detection::Footprint self, Box2I bbox, Box2I region=lsst::afw::geom::Box2I()) -> Footprint\n",
      " |      __init__(lsst::afw::detection::Footprint self, Box2I bbox) -> Footprint\n",
      " |      __init__(lsst::afw::detection::Footprint self, Point2I center, double const radius, Box2I arg4=lsst::afw::geom::Box2I()) -> Footprint\n",
      " |      __init__(lsst::afw::detection::Footprint self, Point2I center, double const radius) -> Footprint\n",
      " |      __init__(lsst::afw::detection::Footprint self, Ellipse ellipse, Box2I region=lsst::afw::geom::Box2I()) -> Footprint\n",
      " |      __init__(lsst::afw::detection::Footprint self, Ellipse ellipse) -> Footprint\n",
      " |      __init__(lsst::afw::detection::Footprint self, SpanContainerT spans, Box2I region=lsst::afw::geom::Box2I()) -> Footprint\n",
      " |      __init__(lsst::afw::detection::Footprint self, SpanContainerT spans) -> Footprint\n",
      " |      __init__(lsst::afw::detection::Footprint self, Footprint other) -> Footprint\n",
      " |  \n",
      " |  __repr__ = _swig_repr(self)\n",
      " |  \n",
      " |  __setattr__ lambda self, name, value\n",
      " |  \n",
      " |  addSpan(self, *args)\n",
      " |      addSpan(Footprint self, int const y, int const x0, int const x1) -> Span\n",
      " |      addSpan(Footprint self, Span span) -> Span\n",
      " |      addSpan(Footprint self, Span span, int dx, int dy) -> Span\n",
      " |  \n",
      " |  addSpanInSeries(self, *args)\n",
      " |      addSpanInSeries(Footprint self, int const y, int const x0, int const x1) -> Span\n",
      " |  \n",
      " |  assign(self, *args)\n",
      " |      assign(Footprint self, Footprint other) -> Footprint\n",
      " |  \n",
      " |  clipTo(self, *args)\n",
      " |      clipTo(Footprint self, Box2I bbox)\n",
      " |  \n",
      " |  clipToNonzero(self, *args)\n",
      " |      clipToNonzero(Footprint self, ImageF img)\n",
      " |      clipToNonzero(Footprint self, ImageD img)\n",
      " |      clipToNonzero(Footprint self, ImageU img)\n",
      " |      clipToNonzero(Footprint self, ImageI img)\n",
      " |      clipToNonzero(Footprint self, ImageL img)\n",
      " |  \n",
      " |  contains(self, *args)\n",
      " |      contains(Footprint self, Point2I pix) -> bool\n",
      " |  \n",
      " |  getArea(self)\n",
      " |      getArea(Footprint self) -> int\n",
      " |  \n",
      " |  getBBox(self, *args)\n",
      " |      getBBox(Footprint self) -> Box2I\n",
      " |      getBBox(Footprint self) -> Box2I\n",
      " |  \n",
      " |  getCentroid(self)\n",
      " |      getCentroid(Footprint self) -> Point2D\n",
      " |  \n",
      " |  getId(self)\n",
      " |      getId(Footprint self) -> int\n",
      " |  \n",
      " |  getNpix(self)\n",
      " |      getNpix(Footprint self) -> int\n",
      " |  \n",
      " |  getPeaks(self, *args)\n",
      " |      getPeaks(Footprint self) -> PeakContainerT\n",
      " |      getPeaks(Footprint self) -> PeakContainerT\n",
      " |  \n",
      " |  getRegion(self)\n",
      " |      getRegion(Footprint self) -> Box2I\n",
      " |  \n",
      " |  getShape(self)\n",
      " |      getShape(Footprint self) -> Quadrupole\n",
      " |  \n",
      " |  getSpans(self, *args)\n",
      " |      getSpans(Footprint self) -> SpanContainerT\n",
      " |      getSpans(Footprint self) -> SpanContainerT\n",
      " |  \n",
      " |  insertIntoImage(self, *args)\n",
      " |      insertIntoImage(Footprint self, ImageU idImage, boost::uint64_t const id, Box2I region=lsst::afw::geom::Box2I())\n",
      " |      insertIntoImage(Footprint self, ImageU idImage, boost::uint64_t const id)\n",
      " |      insertIntoImage(Footprint self, ImageU idImage, boost::uint64_t const id, bool const overwriteId, long const idMask, \n",
      " |          std::set< uint64_t,std::less< uint64_t >,std::allocator< uint64_t > > * oldIds, \n",
      " |          Box2I region=lsst::afw::geom::Box2I())\n",
      " |      insertIntoImage(Footprint self, ImageU idImage, boost::uint64_t const id, bool const overwriteId, long const idMask, \n",
      " |          std::set< uint64_t,std::less< uint64_t >,std::allocator< uint64_t > > * oldIds)\n",
      " |      insertIntoImage(Footprint self, ImageI idImage, boost::uint64_t const id, Box2I region=lsst::afw::geom::Box2I())\n",
      " |      insertIntoImage(Footprint self, ImageI idImage, boost::uint64_t const id)\n",
      " |      insertIntoImage(Footprint self, ImageI idImage, boost::uint64_t const id, bool const overwriteId, long const idMask, \n",
      " |          std::set< uint64_t,std::less< uint64_t >,std::allocator< uint64_t > > * oldIds, \n",
      " |          Box2I region=lsst::afw::geom::Box2I())\n",
      " |      insertIntoImage(Footprint self, ImageI idImage, boost::uint64_t const id, bool const overwriteId, long const idMask, \n",
      " |          std::set< uint64_t,std::less< uint64_t >,std::allocator< uint64_t > > * oldIds)\n",
      " |      insertIntoImage(Footprint self, ImageL idImage, boost::uint64_t const id, Box2I region=lsst::afw::geom::Box2I())\n",
      " |      insertIntoImage(Footprint self, ImageL idImage, boost::uint64_t const id)\n",
      " |      insertIntoImage(Footprint self, ImageL idImage, boost::uint64_t const id, bool const overwriteId, long const idMask, \n",
      " |          std::set< uint64_t,std::less< uint64_t >,std::allocator< uint64_t > > * oldIds, \n",
      " |          Box2I region=lsst::afw::geom::Box2I())\n",
      " |      insertIntoImage(Footprint self, ImageL idImage, boost::uint64_t const id, bool const overwriteId, long const idMask, \n",
      " |          std::set< uint64_t,std::less< uint64_t >,std::allocator< uint64_t > > * oldIds)\n",
      " |  \n",
      " |  intersectMask(self, *args)\n",
      " |      intersectMask(Footprint self, MaskU mask, unsigned short bitmask=~0x0)\n",
      " |      intersectMask(Footprint self, MaskU mask)\n",
      " |  \n",
      " |  isHeavy(self)\n",
      " |      isHeavy(Footprint self) -> bool\n",
      " |  \n",
      " |  isNormalized(self)\n",
      " |      isNormalized(Footprint self) -> bool\n",
      " |  \n",
      " |  isPersistable(self)\n",
      " |      isPersistable(Footprint self) -> bool\n",
      " |  \n",
      " |  normalize(self)\n",
      " |      normalize(Footprint self)\n",
      " |  \n",
      " |  setRegion(self, *args)\n",
      " |      setRegion(Footprint self, Box2I region)\n",
      " |  \n",
      " |  shift(self, *args)\n",
      " |      shift(Footprint self, int dx, int dy)\n",
      " |      shift(Footprint self, Extent2I d)\n",
      " |  \n",
      " |  transform(self, *args)\n",
      " |      transform(Footprint self, Wcs source, Wcs target, Box2I region, bool doClip=True) -> boost::shared_ptr< lsst::afw::detection::Footprint >\n",
      " |      transform(Footprint self, Wcs source, Wcs target, Box2I region) -> boost::shared_ptr< lsst::afw::detection::Footprint >\n",
      " |  \n",
      " |  ----------------------------------------------------------------------\n",
      " |  Data and other attributes defined here:\n",
      " |  \n",
      " |  __swig_destroy__ = <built-in function delete_Footprint>\n",
      " |      delete_Footprint(Footprint self)\n",
      " |  \n",
      " |  __swig_getmethods__ = {'census': <function <lambda>>, 'getNextMemId': ...\n",
      " |  \n",
      " |  __swig_setmethods__ = {}\n",
      " |  \n",
      " |  ----------------------------------------------------------------------\n",
      " |  Methods inherited from lsst.daf.base.baseLib.Citizen:\n",
      " |  \n",
      " |  markPersistent(self)\n",
      " |      markPersistent(Citizen self)\n",
      " |  \n",
      " |  repr(self)\n",
      " |      repr(Citizen self) -> std::string\n",
      " |  \n",
      " |  ----------------------------------------------------------------------\n",
      " |  Static methods inherited from lsst.daf.base.baseLib.Citizen:\n",
      " |  \n",
      " |  census(*args)\n",
      " |      census(int arg1, lsst::daf::base::Citizen::memId startingMemId=0) -> int\n",
      " |      census(int arg1) -> int\n",
      " |      census(ostream stream, lsst::daf::base::Citizen::memId startingMemId=0)\n",
      " |      census(ostream stream)\n",
      " |      census() -> vectorCitizen\n",
      " |  \n",
      " |  getNextMemId()\n",
      " |      getNextMemId() -> lsst::daf::base::Citizen::memId\n",
      " |  \n",
      " |  hasBeenCorrupted()\n",
      " |      hasBeenCorrupted() -> bool\n",
      " |  \n",
      " |  init()\n",
      " |      init() -> int\n",
      " |  \n",
      " |  setCorruptionCallback(*args)\n",
      " |      setCorruptionCallback(lsst::daf::base::Citizen::memCallback func) -> lsst::daf::base::Citizen::memCallback\n",
      " |  \n",
      " |  setDeleteCallback(*args)\n",
      " |      setDeleteCallback(lsst::daf::base::Citizen::memCallback func) -> lsst::daf::base::Citizen::memCallback\n",
      " |  \n",
      " |  setDeleteCallbackId(*args)\n",
      " |      setDeleteCallbackId(lsst::daf::base::Citizen::memId id) -> lsst::daf::base::Citizen::memId\n",
      " |  \n",
      " |  setNewCallback(*args)\n",
      " |      setNewCallback(lsst::daf::base::Citizen::memNewCallback func) -> lsst::daf::base::Citizen::memNewCallback\n",
      " |  \n",
      " |  setNewCallbackId(*args)\n",
      " |      setNewCallbackId(lsst::daf::base::Citizen::memId id) -> lsst::daf::base::Citizen::memId\n",
      " |  \n",
      " |  ----------------------------------------------------------------------\n",
      " |  Data descriptors inherited from lsst.daf.base.baseLib.Citizen:\n",
      " |  \n",
      " |  __dict__\n",
      " |      dictionary for instance variables (if defined)\n",
      " |  \n",
      " |  __weakref__\n",
      " |      list of weak references to the object (if defined)\n",
      " |  \n",
      " |  ----------------------------------------------------------------------\n",
      " |  Data and other attributes inherited from lsst.daf.base.baseLib.Citizen:\n",
      " |  \n",
      " |  magicSentinel = -559038737\n",
      " |  \n",
      " |  ----------------------------------------------------------------------\n",
      " |  Static methods inherited from FootprintPersistableFacade:\n",
      " |  \n",
      " |  readFits(*args)\n",
      " |      readFits(std::string const & fileName, int hdu=0) -> boost::shared_ptr< lsst::afw::detection::Footprint >\n",
      " |      readFits(std::string const & fileName) -> boost::shared_ptr< lsst::afw::detection::Footprint >\n",
      " |      readFits(MemFileManager manager, int hdu=0) -> boost::shared_ptr< lsst::afw::detection::Footprint >\n",
      " |      readFits(MemFileManager manager) -> boost::shared_ptr< lsst::afw::detection::Footprint >\n",
      " |  \n",
      " |  ----------------------------------------------------------------------\n",
      " |  Methods inherited from lsst.afw.table.io.ioLib.Persistable:\n",
      " |  \n",
      " |  writeFits(self, *args)\n",
      " |      writeFits(Persistable self, std::string const & fileName, std::string const & mode=\"w\")\n",
      " |      writeFits(Persistable self, std::string const & fileName)\n",
      " |      writeFits(Persistable self, lsst::afw::fits::MemFileManager & manager, std::string const & mode=\"w\")\n",
      " |      writeFits(Persistable self, lsst::afw::fits::MemFileManager & manager)\n",
      "\n"
     ]
    }
   ],
   "source": [
    "help(footPrints[0])"
   ]
  },
  {
   "cell_type": "code",
   "execution_count": 97,
   "metadata": {
    "collapsed": false
   },
   "outputs": [
    {
     "ename": "AttributeError",
     "evalue": "getArray",
     "output_type": "error",
     "traceback": [
      "\u001b[0;31m---------------------------------------------------------------------------\u001b[0m",
      "\u001b[0;31mAttributeError\u001b[0m                            Traceback (most recent call last)",
      "\u001b[0;32m<ipython-input-97-d8a3a8e779ed>\u001b[0m in \u001b[0;36m<module>\u001b[0;34m()\u001b[0m\n\u001b[0;32m----> 1\u001b[0;31m \u001b[0mfootPrints\u001b[0m\u001b[0;34m[\u001b[0m\u001b[0;36m0\u001b[0m\u001b[0;34m]\u001b[0m\u001b[0;34m.\u001b[0m\u001b[0mgetArray\u001b[0m\u001b[0;34m(\u001b[0m\u001b[0;34m)\u001b[0m\u001b[0;34m\u001b[0m\u001b[0m\n\u001b[0m",
      "\u001b[0;32m/Users/dawson/lsst/DarwinX86/afw/10.0+3/python/lsst/afw/detection/detectionLib.pyc\u001b[0m in \u001b[0;36m<lambda>\u001b[0;34m(self, name)\u001b[0m\n\u001b[1;32m    876\u001b[0m     \u001b[0m__swig_getmethods__\u001b[0m \u001b[0;34m=\u001b[0m \u001b[0;34m{\u001b[0m\u001b[0;34m}\u001b[0m\u001b[0;34m\u001b[0m\u001b[0m\n\u001b[1;32m    877\u001b[0m     \u001b[0;32mfor\u001b[0m \u001b[0m_s\u001b[0m \u001b[0;32min\u001b[0m \u001b[0;34m[\u001b[0m\u001b[0mlsst\u001b[0m\u001b[0;34m.\u001b[0m\u001b[0mdaf\u001b[0m\u001b[0;34m.\u001b[0m\u001b[0mbase\u001b[0m\u001b[0;34m.\u001b[0m\u001b[0mbaseLib\u001b[0m\u001b[0;34m.\u001b[0m\u001b[0mCitizen\u001b[0m\u001b[0;34m,\u001b[0m\u001b[0mFootprintPersistableFacade\u001b[0m\u001b[0;34m,\u001b[0m\u001b[0mlsst\u001b[0m\u001b[0;34m.\u001b[0m\u001b[0mafw\u001b[0m\u001b[0;34m.\u001b[0m\u001b[0mtable\u001b[0m\u001b[0;34m.\u001b[0m\u001b[0mio\u001b[0m\u001b[0;34m.\u001b[0m\u001b[0mioLib\u001b[0m\u001b[0;34m.\u001b[0m\u001b[0mPersistable\u001b[0m\u001b[0;34m]\u001b[0m\u001b[0;34m:\u001b[0m \u001b[0m__swig_getmethods__\u001b[0m\u001b[0;34m.\u001b[0m\u001b[0mupdate\u001b[0m\u001b[0;34m(\u001b[0m\u001b[0mgetattr\u001b[0m\u001b[0;34m(\u001b[0m\u001b[0m_s\u001b[0m\u001b[0;34m,\u001b[0m\u001b[0;34m'__swig_getmethods__'\u001b[0m\u001b[0;34m,\u001b[0m\u001b[0;34m{\u001b[0m\u001b[0;34m}\u001b[0m\u001b[0;34m)\u001b[0m\u001b[0;34m)\u001b[0m\u001b[0;34m\u001b[0m\u001b[0m\n\u001b[0;32m--> 878\u001b[0;31m     \u001b[0m__getattr__\u001b[0m \u001b[0;34m=\u001b[0m \u001b[0;32mlambda\u001b[0m \u001b[0mself\u001b[0m\u001b[0;34m,\u001b[0m \u001b[0mname\u001b[0m\u001b[0;34m:\u001b[0m \u001b[0m_swig_getattr\u001b[0m\u001b[0;34m(\u001b[0m\u001b[0mself\u001b[0m\u001b[0;34m,\u001b[0m \u001b[0mFootprint\u001b[0m\u001b[0;34m,\u001b[0m \u001b[0mname\u001b[0m\u001b[0;34m)\u001b[0m\u001b[0;34m\u001b[0m\u001b[0m\n\u001b[0m\u001b[1;32m    879\u001b[0m     \u001b[0m__repr__\u001b[0m \u001b[0;34m=\u001b[0m \u001b[0m_swig_repr\u001b[0m\u001b[0;34m\u001b[0m\u001b[0m\n\u001b[1;32m    880\u001b[0m     \u001b[0;32mdef\u001b[0m \u001b[0m__init__\u001b[0m\u001b[0;34m(\u001b[0m\u001b[0mself\u001b[0m\u001b[0;34m,\u001b[0m \u001b[0;34m*\u001b[0m\u001b[0margs\u001b[0m\u001b[0;34m)\u001b[0m\u001b[0;34m:\u001b[0m\u001b[0;34m\u001b[0m\u001b[0m\n",
      "\u001b[0;32m/Users/dawson/lsst/DarwinX86/afw/10.0+3/python/lsst/afw/detection/detectionLib.pyc\u001b[0m in \u001b[0;36m_swig_getattr\u001b[0;34m(self, class_type, name)\u001b[0m\n\u001b[1;32m     61\u001b[0m     \u001b[0mmethod\u001b[0m \u001b[0;34m=\u001b[0m \u001b[0mclass_type\u001b[0m\u001b[0;34m.\u001b[0m\u001b[0m__swig_getmethods__\u001b[0m\u001b[0;34m.\u001b[0m\u001b[0mget\u001b[0m\u001b[0;34m(\u001b[0m\u001b[0mname\u001b[0m\u001b[0;34m,\u001b[0m\u001b[0mNone\u001b[0m\u001b[0;34m)\u001b[0m\u001b[0;34m\u001b[0m\u001b[0m\n\u001b[1;32m     62\u001b[0m     \u001b[0;32mif\u001b[0m \u001b[0mmethod\u001b[0m\u001b[0;34m:\u001b[0m \u001b[0;32mreturn\u001b[0m \u001b[0mmethod\u001b[0m\u001b[0;34m(\u001b[0m\u001b[0mself\u001b[0m\u001b[0;34m)\u001b[0m\u001b[0;34m\u001b[0m\u001b[0m\n\u001b[0;32m---> 63\u001b[0;31m     \u001b[0;32mraise\u001b[0m \u001b[0mAttributeError\u001b[0m\u001b[0;34m(\u001b[0m\u001b[0mname\u001b[0m\u001b[0;34m)\u001b[0m\u001b[0;34m\u001b[0m\u001b[0m\n\u001b[0m\u001b[1;32m     64\u001b[0m \u001b[0;34m\u001b[0m\u001b[0m\n\u001b[1;32m     65\u001b[0m \u001b[0;32mdef\u001b[0m \u001b[0m_swig_repr\u001b[0m\u001b[0;34m(\u001b[0m\u001b[0mself\u001b[0m\u001b[0;34m)\u001b[0m\u001b[0;34m:\u001b[0m\u001b[0;34m\u001b[0m\u001b[0m\n",
      "\u001b[0;31mAttributeError\u001b[0m: getArray"
     ]
    }
   ],
   "source": [
    "footPrints[0].insertIntoImage"
   ]
  },
  {
   "cell_type": "code",
   "execution_count": null,
   "metadata": {
    "collapsed": true
   },
   "outputs": [],
   "source": []
  }
 ],
 "metadata": {
  "kernelspec": {
   "display_name": "Python 2",
   "language": "python",
   "name": "python2"
  },
  "language_info": {
   "codemirror_mode": {
    "name": "ipython",
    "version": 2
   },
   "file_extension": ".py",
   "mimetype": "text/x-python",
   "name": "python",
   "nbconvert_exporter": "python",
   "pygments_lexer": "ipython2",
   "version": "2.7.9"
  }
 },
 "nbformat": 4,
 "nbformat_minor": 0
}
