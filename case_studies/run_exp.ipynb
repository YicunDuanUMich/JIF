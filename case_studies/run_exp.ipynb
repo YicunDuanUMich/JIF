{
 "cells": [
  {
   "cell_type": "code",
   "execution_count": 1,
   "metadata": {},
   "outputs": [],
   "source": [
    "from jiffy import roaster, roaster_inspector\n",
    "from jiffy.decoder import Decoder, DC2PriorDistribution\n",
    "import yaml\n",
    "from jiffy.roaster_args import RoasterArgs\n",
    "from jiffy.roaster_inspector_args import RoasterInspectorArgs"
   ]
  },
  {
   "cell_type": "code",
   "execution_count": 2,
   "metadata": {},
   "outputs": [],
   "source": [
    "with open(\"../config/base_infer.yaml\", \"r\") as f:\n",
    "    base_infer_config = yaml.safe_load(f)"
   ]
  },
  {
   "cell_type": "code",
   "execution_count": null,
   "metadata": {},
   "outputs": [],
   "source": [
    "decoder = Decoder(prior_dist=DC2PriorDistribution(\"../jiffy/gmfile_disk.pkl\"),\n",
    "                  image_infer_config_template=base_infer_config)"
   ]
  },
  {
   "cell_type": "code",
   "execution_count": 4,
   "metadata": {},
   "outputs": [],
   "source": [
    "n_images = 1\n",
    "n_samples_per_image = 2"
   ]
  },
  {
   "cell_type": "code",
   "execution_count": null,
   "metadata": {},
   "outputs": [],
   "source": [
    "infer_config_file_paths = []\n",
    "for i_image in range(n_images):\n",
    "    print(f\"generating image [{i_image}]\")\n",
    "    infer_config_file_path = decoder.sample_one_footprint(n_samples=n_samples_per_image, image_index=i_image)\n",
    "    infer_config_file_paths.append(infer_config_file_path)"
   ]
  },
  {
   "cell_type": "code",
   "execution_count": null,
   "metadata": {},
   "outputs": [],
   "source": [
    "for i_image in range(n_images):\n",
    "    roaster_args = RoasterArgs(config_file=infer_config_file_paths[i_image],\n",
    "                               parallize=False)\n",
    "    cur_roaster = roaster.init_roaster(roaster_args)\n",
    "    roaster.do_sampling(roaster_args, cur_roaster)"
   ]
  },
  {
   "cell_type": "code",
   "execution_count": null,
   "metadata": {},
   "outputs": [],
   "source": [
    "for i_image in range(n_images):\n",
    "    print(\"diagnosis:\")\n",
    "    inspector_args = RoasterInspectorArgs(infile=f\"./encoder_output/jiffy_encoder_out_{i_image:04d}_seg0.h5\",\n",
    "                                          roaster_config=infer_config_file_paths[i_image],\n",
    "                                          keeplast=0)\n",
    "    inspector = roaster_inspector.RoasterInspector(inspector_args)\n",
    "    inspector.summary()\n",
    "    inspector.report()\n",
    "    # inspector.plot()\n",
    "    inspector.plot_data_and_model()\n",
    "    inspector.plot_GR_statistic()\n",
    "    # run_record = dict()\n",
    "    # for i, param in enumerate(inspector.paramnames):\n",
    "    #     run_record[param] = inspector.data[-inspector.args.keeplast:, :, i]\n",
    "    # run_logprob = inspector.logprob[-inspector.args.keeplast:, :]\n",
    "    # print(run_record)\n",
    "    # print(run_logprob)"
   ]
  }
 ],
 "metadata": {
  "kernelspec": {
   "display_name": ".venv",
   "language": "python",
   "name": "python3"
  },
  "language_info": {
   "codemirror_mode": {
    "name": "ipython",
    "version": 3
   },
   "file_extension": ".py",
   "mimetype": "text/x-python",
   "name": "python",
   "nbconvert_exporter": "python",
   "pygments_lexer": "ipython3",
   "version": "3.10.12"
  }
 },
 "nbformat": 4,
 "nbformat_minor": 2
}
