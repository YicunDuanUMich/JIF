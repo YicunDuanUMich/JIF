{
 "cells": [
  {
   "cell_type": "code",
   "execution_count": 1,
   "metadata": {},
   "outputs": [],
   "source": [
    "import matplotlib.pyplot as plt\n",
    "from jiffy.decoder import Decoder, DC2PriorDistribution\n",
    "import yaml"
   ]
  },
  {
   "cell_type": "code",
   "execution_count": 2,
   "metadata": {},
   "outputs": [],
   "source": [
    "with open(\"../config/base_infer.yaml\", \"r\") as f:\n",
    "    base_infer_config = yaml.safe_load(f)"
   ]
  },
  {
   "cell_type": "code",
   "execution_count": 3,
   "metadata": {},
   "outputs": [
    {
     "name": "stderr",
     "output_type": "stream",
     "text": [
      "/home/pduan/jif_related/JIF/.venv/lib/python3.10/site-packages/sklearn/base.py:376: InconsistentVersionWarning: Trying to unpickle estimator BayesianGaussianMixture from version 1.2.2 when using version 1.5.2. This might lead to breaking code or invalid results. Use at your own risk. For more info please refer to:\n",
      "https://scikit-learn.org/stable/model_persistence.html#security-maintainability-limitations\n",
      "  warnings.warn(\n"
     ]
    }
   ],
   "source": [
    "decoder = Decoder(prior_dist=DC2PriorDistribution(\"../jiffy/gmfile_disk.pkl\"),\n",
    "                  image_infer_config_template=base_infer_config)"
   ]
  },
  {
   "cell_type": "code",
   "execution_count": 4,
   "metadata": {},
   "outputs": [],
   "source": [
    "truth_params, image = decoder.sample_one_image(2)"
   ]
  },
  {
   "cell_type": "code",
   "execution_count": 5,
   "metadata": {},
   "outputs": [
    {
     "data": {
      "text/html": [
       "<div>\n",
       "<style scoped>\n",
       "    .dataframe tbody tr th:only-of-type {\n",
       "        vertical-align: middle;\n",
       "    }\n",
       "\n",
       "    .dataframe tbody tr th {\n",
       "        vertical-align: top;\n",
       "    }\n",
       "\n",
       "    .dataframe thead th {\n",
       "        text-align: right;\n",
       "    }\n",
       "</style>\n",
       "<table border=\"1\" class=\"dataframe\">\n",
       "  <thead>\n",
       "    <tr style=\"text-align: right;\">\n",
       "      <th></th>\n",
       "      <th>nu</th>\n",
       "      <th>hlr</th>\n",
       "      <th>flux</th>\n",
       "      <th>dx</th>\n",
       "      <th>dy</th>\n",
       "      <th>e1</th>\n",
       "      <th>e2</th>\n",
       "    </tr>\n",
       "  </thead>\n",
       "  <tbody>\n",
       "    <tr>\n",
       "      <th>0</th>\n",
       "      <td>0.5</td>\n",
       "      <td>0.947547</td>\n",
       "      <td>47.288416</td>\n",
       "      <td>0.639002</td>\n",
       "      <td>0.499243</td>\n",
       "      <td>0.008819</td>\n",
       "      <td>0.004112</td>\n",
       "    </tr>\n",
       "    <tr>\n",
       "      <th>1</th>\n",
       "      <td>0.5</td>\n",
       "      <td>0.935261</td>\n",
       "      <td>5.175173</td>\n",
       "      <td>0.069613</td>\n",
       "      <td>-0.279201</td>\n",
       "      <td>0.083581</td>\n",
       "      <td>0.020839</td>\n",
       "    </tr>\n",
       "  </tbody>\n",
       "</table>\n",
       "</div>"
      ],
      "text/plain": [
       "    nu       hlr       flux        dx        dy        e1        e2\n",
       "0  0.5  0.947547  47.288416  0.639002  0.499243  0.008819  0.004112\n",
       "1  0.5  0.935261   5.175173  0.069613 -0.279201  0.083581  0.020839"
      ]
     },
     "execution_count": 5,
     "metadata": {},
     "output_type": "execute_result"
    }
   ],
   "source": [
    "truth_params"
   ]
  },
  {
   "cell_type": "code",
   "execution_count": 6,
   "metadata": {},
   "outputs": [
    {
     "data": {
      "text/plain": [
       "galsim.Image(bounds=galsim.BoundsI(xmin=1, xmax=80, ymin=1, ymax=80), array=\n",
       "array([[ 1.91800224e-04,  2.03374075e-05, -1.53596513e-04, ...,\n",
       "         7.01587051e-05,  1.51114553e-04,  3.58271136e-05],\n",
       "       [ 5.13595114e-05, -1.69013816e-04, -1.51953063e-05, ...,\n",
       "        -1.20754448e-04, -9.98837641e-06, -1.61147691e-05],\n",
       "       [ 9.67496380e-05,  1.90171922e-05, -5.77959290e-05, ...,\n",
       "         2.19460780e-04, -9.75344446e-05, -7.61904084e-05],\n",
       "       ...,\n",
       "       [-8.79088184e-05,  2.02818774e-04,  1.00283796e-04, ...,\n",
       "         1.31132721e-04, -7.21973265e-06,  1.48226054e-05],\n",
       "       [-3.80083038e-05,  1.04387254e-04, -4.35926777e-05, ...,\n",
       "         6.74546463e-05,  1.94269778e-05,  1.43683010e-05],\n",
       "       [-1.60499367e-05, -1.50111504e-04, -1.15114264e-04, ...,\n",
       "        -8.82327149e-05, -2.04546741e-04, -9.93207868e-05]], dtype=float32), wcs=galsim.PixelScale(0.2))"
      ]
     },
     "execution_count": 6,
     "metadata": {},
     "output_type": "execute_result"
    }
   ],
   "source": [
    "image"
   ]
  },
  {
   "cell_type": "code",
   "execution_count": 7,
   "metadata": {},
   "outputs": [
    {
     "data": {
      "image/png": "[encoded data removed]",
      "text/plain": [
       "<Figure size 640x480 with 2 Axes>"
      ]
     },
     "metadata": {},
     "output_type": "display_data"
    }
   ],
   "source": [
    "plt.imshow(image.array, interpolation=\"none\")\n",
    "plt.colorbar()\n",
    "plt.show()"
   ]
  },
  {
   "cell_type": "code",
   "execution_count": 8,
   "metadata": {},
   "outputs": [],
   "source": [
    "decoder.sample_one_footprint(n_samples=3, image_index=0)"
   ]
  }
 ],
 "metadata": {
  "kernelspec": {
   "display_name": ".venv",
   "language": "python",
   "name": "python3"
  },
  "language_info": {
   "codemirror_mode": {
    "name": "ipython",
    "version": 3
   },
   "file_extension": ".py",
   "mimetype": "text/x-python",
   "name": "python",
   "nbconvert_exporter": "python",
   "pygments_lexer": "ipython3",
   "version": "3.10.12"
  }
 },
 "nbformat": 4,
 "nbformat_minor": 2
}
