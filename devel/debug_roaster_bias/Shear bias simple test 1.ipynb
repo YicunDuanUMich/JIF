{
 "cells": [
  {
   "cell_type": "markdown",
   "metadata": {
    "deletable": true,
    "editable": true
   },
   "source": [
    "# Shear bias simple test 1"
   ]
  },
  {
   "cell_type": "markdown",
   "metadata": {
    "deletable": true,
    "editable": true
   },
   "source": [
    "**2017-04-27** \n",
    "\n",
    "This is a numerical test of shear bias inferred from GalSim simulations of galaxy stamps. \n",
    "\n",
    "If we have identically zero shape noise, then we only need one galaxy to measure the shear. So, we simulated only one galaxy stamp for a given shear assuming zero intrinsic shape noise. However, the pixel noise still contributes to the variance of the shear estimator (which we take to be the mode of the conditional posterior for one shear component).\n",
    "\n",
    "A simple validation of shear bias is then to simulate sheared galaxy images with different applied shears and make the measured vs input shear plot and regression. If this doesn't work, then there's a fundamental bug. \n",
    "\n",
    "\n",
    "**Simulation procedure:**\n",
    "1. Make a galaxy image with zero intrinsic ellipticity\n",
    "2. Shear the image\n",
    "3. Plot the shear component 1D conditional and marginal posteriors\n",
    "4. Calculate the shear component marginal posterior constraints\n",
    "5. Repeat steps 1-4 with different applied shears\n",
    "6. Repeat steps 1-5 with different SNRs\n",
    "\n",
    "We simulate just one noise realization for any given shear value and simply increase the number of shear values (and associated noise realizations) for estimating the shear bias parameters $m, c$."
   ]
  },
  {
   "cell_type": "code",
   "execution_count": 1,
   "metadata": {
    "collapsed": true,
    "deletable": true,
    "editable": true
   },
   "outputs": [],
   "source": [
    "import numpy as np\n",
    "import matplotlib.pyplot as plt\n",
    "%matplotlib inline\n",
    "\n",
    "import galsim"
   ]
  },
  {
   "cell_type": "markdown",
   "metadata": {},
   "source": [
    "## Fiducial model\n",
    "\n",
    "Here are the model parameters, stamp size, and noise level that are held fixed throughout."
   ]
  },
  {
   "cell_type": "code",
   "execution_count": 2,
   "metadata": {
    "collapsed": true,
    "deletable": true,
    "editable": true
   },
   "outputs": [],
   "source": [
    "HLR = 1.0\n",
    "PSF = galsim.Kolmogorov(fwhm=0.6)\n",
    "scale = 0.2\n",
    "nx = ny = 64\n",
    "var = 3e-10\n",
    "noise = galsim.GaussianNoise(sigma=np.sqrt(var))"
   ]
  },
  {
   "cell_type": "code",
   "execution_count": 3,
   "metadata": {
    "collapsed": true,
    "deletable": true,
    "editable": true
   },
   "outputs": [],
   "source": [
    "def make_data(e1, e2, nu=0.5):\n",
    "    \"\"\" Simulate the fake data: a galaxy stamp image\n",
    "    \"\"\"\n",
    "    gal = galsim.Spergel(nu, half_light_radius=HLR)\n",
    "    gal = gal.shear(galsim.Shear(e1=e1, e2=e2))    \n",
    "    obj = galsim.Convolve(PSF, gal)\n",
    "    img = obj.drawImage(nx=nx, ny=ny, scale=scale)\n",
    "    img.addNoise(noise)    \n",
    "    return img"
   ]
  },
  {
   "cell_type": "code",
   "execution_count": 4,
   "metadata": {
    "collapsed": true,
    "deletable": true,
    "editable": true
   },
   "outputs": [],
   "source": [
    "def lnlike1(e1, e2, img, nu=0.5):\n",
    "    \"\"\" Evaluate the log-likelihood of the galaxy stamp image\n",
    "    \n",
    "    Use the fiducial parameters listed above to build the data model.\n",
    "    \"\"\"\n",
    "    gal = galsim.Spergel(nu, half_light_radius=HLR)\n",
    "    gal = gal.shear(galsim.Shear(e1=e1, e2=e2))    \n",
    "    obj = galsim.Convolve(PSF, gal)\n",
    "    model = obj.drawImage(nx=nx, ny=ny, scale=scale)\n",
    "    delta = (model.array - img.array)**2\n",
    "    lnnorm = - 0.5 * nx * ny * np.sqrt(var * 2 * np.pi)\n",
    "    return -0.5*np.sum(delta / var) + lnnorm"
   ]
  },
  {
   "cell_type": "markdown",
   "metadata": {},
   "source": [
    "Define methods to fit a univariate log-Gaussian function to the conditional shear component posterior. The mean and variance of the fit define the shear estimator and uncertainty on said estimator."
   ]
  },
  {
   "cell_type": "code",
   "execution_count": 5,
   "metadata": {
    "collapsed": false,
    "deletable": true,
    "editable": true
   },
   "outputs": [],
   "source": [
    "def ln_gaus(x, a, x0, sigma):\n",
    "    return a - 0.5 * (x - x0)**2 / sigma**2\n",
    "    \n",
    "def fit_gaussian(dat_x, dat_y):\n",
    "    from scipy.optimize import curve_fit\n",
    "\n",
    "    p0 = [-100, 0., 0.001]\n",
    "\n",
    "    popt, pcov = curve_fit(ln_gaus, dat_x, dat_y, p0=p0)\n",
    "    return popt, pcov"
   ]
  },
  {
   "cell_type": "markdown",
   "metadata": {},
   "source": [
    "Plot an instance of the mock stamp data with an asserted shear. This helps visualize the SNR level and the galaxy size relative to the stamp size."
   ]
  },
  {
   "cell_type": "code",
   "execution_count": 6,
   "metadata": {
    "collapsed": false,
    "deletable": true,
    "editable": true
   },
   "outputs": [
    {
     "data": {
      "text/plain": [
       "<matplotlib.image.AxesImage at 0x1134f5710>"
      ]
     },
     "execution_count": 6,
     "metadata": {},
     "output_type": "execute_result"
    },
    {
     "data": {
      "image/png": "[encoded data removed]",
      "text/plain": [
       "<matplotlib.figure.Figure at 0x1133f4590>"
      ]
     },
     "metadata": {},
     "output_type": "display_data"
    }
   ],
   "source": [
    "g2 = 0.05\n",
    "\n",
    "img = make_data(e1=0.0, e2=g2, nu=0.5)\n",
    "plt.imshow(img.array, interpolation='none', cmap=plt.cm.viridis)"
   ]
  },
  {
   "cell_type": "markdown",
   "metadata": {},
   "source": [
    "The plot of the conditional shear component posterior shows it is well approximated by a Gaussian distribution and that the mode is close to the truth value."
   ]
  },
  {
   "cell_type": "code",
   "execution_count": 7,
   "metadata": {
    "collapsed": false,
    "deletable": true,
    "editable": true
   },
   "outputs": [
    {
     "name": "stdout",
     "output_type": "stream",
     "text": [
      "[ 0.05093353  0.00079776]\n",
      "shear bias: 9.335e-04 +/- 7.978e-04\n"
     ]
    },
    {
     "data": {
      "text/plain": [
       "<matplotlib.lines.Line2D at 0x114937390>"
      ]
     },
     "execution_count": 7,
     "metadata": {},
     "output_type": "execute_result"
    },
    {
     "data": {
      "image/png": "[encoded data removed]",
      "text/plain": [
       "<matplotlib.figure.Figure at 0x1133f4350>"
      ]
     },
     "metadata": {},
     "output_type": "display_data"
    }
   ],
   "source": [
    "g = np.linspace(g2 - 0.01, g2 + 0.01, 200)\n",
    "lnp = np.array([lnlike1(e1=0.0, e2=g_val, img=img, nu=0.5) for g_val in g])\n",
    "\n",
    "popt, pcov = fit_gaussian(g, lnp)\n",
    "print popt[1:3]\n",
    "\n",
    "print \"shear bias: {:4.3e} +/- {:4.3e}\".format(popt[1] - g2, popt[2])\n",
    "\n",
    "plt.plot(g, lnp)\n",
    "plt.plot(g, ln_gaus(g, popt[0], popt[1], popt[2]), linestyle='dotted')\n",
    "plt.axvline(g2, color='grey', linestyle='dashed')\n",
    "plt.axvline(g[np.argmax(lnp)], color='red', linestyle='dashed')"
   ]
  },
  {
   "cell_type": "markdown",
   "metadata": {},
   "source": [
    "## Shear bias from an ensemble of stamps\n",
    "\n",
    "Now that we understand the (simple) model, we simulate a sequence of stamp images with different applied shears. We fit the conditional shear component posterior for each simulated stamp, and aggregate the shear estimator and shear estimator variance."
   ]
  },
  {
   "cell_type": "code",
   "execution_count": 8,
   "metadata": {
    "collapsed": false,
    "deletable": true,
    "editable": true
   },
   "outputs": [
    {
     "name": "stdout",
     "output_type": "stream",
     "text": [
      "--- 0 / 200 ---\n",
      "--- 20 / 200 ---\n",
      "--- 40 / 200 ---\n",
      "--- 60 / 200 ---\n",
      "--- 80 / 200 ---\n",
      "--- 100 / 200 ---\n",
      "--- 120 / 200 ---\n",
      "--- 140 / 200 ---\n",
      "--- 160 / 200 ---\n",
      "--- 180 / 200 ---\n"
     ]
    }
   ],
   "source": [
    "g_true = np.linspace(-0.5, 0.5, 200)\n",
    "\n",
    "bias = np.zeros((len(g_true), 2), dtype=np.float64)\n",
    "for i, gt in enumerate(g_true):\n",
    "    if np.mod(i, 20) == 0:\n",
    "        print \"--- {:d} / {:d} ---\".format(i, len(g_true))\n",
    "    img = make_data(e1=0.0, e2=gt, nu=0.5)\n",
    "    g = np.linspace(gt - 0.01, gt + 0.01, 100)\n",
    "    lnp = np.array([lnlike1(e1=0.0, e2=g_val, img=img, nu=0.5) for g_val in g])\n",
    "    popt, pcov = fit_gaussian(g, lnp)\n",
    "    bias[i, 0] = popt[1] - gt\n",
    "    bias[i, 1] = popt[2]"
   ]
  },
  {
   "cell_type": "markdown",
   "metadata": {},
   "source": [
    "Plotting the difference between the shear estimator and true applied shear versus the true applied shear lets us test the linear bias model for the shear (in the standard fashion)."
   ]
  },
  {
   "cell_type": "code",
   "execution_count": 9,
   "metadata": {
    "collapsed": false,
    "deletable": true,
    "editable": true
   },
   "outputs": [
    {
     "data": {
      "text/plain": [
       "<matplotlib.text.Text at 0x114dff110>"
      ]
     },
     "execution_count": 9,
     "metadata": {},
     "output_type": "execute_result"
    },
    {
     "data": {
      "image/png": "[encoded data removed]",
      "text/plain": [
       "<matplotlib.figure.Figure at 0x114cbe310>"
      ]
     },
     "metadata": {},
     "output_type": "display_data"
    }
   ],
   "source": [
    "from scipy.stats import linregress\n",
    "slope, intercept, r_value, p_value, std_err = linregress(g_true, bias[:,0])\n",
    "xl = np.linspace(np.min(g_true), np.max(g_true), 50)\n",
    "\n",
    "plt.errorbar(g_true, bias[:,0], yerr=bias[:,1], fmt='o')\n",
    "plt.axhline(0., color='grey')\n",
    "plt.plot(xl, slope*xl + intercept, '--')\n",
    "plt.xlabel(r\"$g_2$\", fontsize=18)\n",
    "plt.ylabel(r\"$\\Delta g_{:d}$\".format(2), fontsize=18)\n",
    "plt.xlim(-0.5, 0.5)\n",
    "plt.title(r\"$m = {:3.2e} +/- {:3.2e}$, $c = {:3.2e}$\".format(slope, std_err, intercept))"
   ]
  },
  {
   "cell_type": "markdown",
   "metadata": {},
   "source": [
    "**Result:** We find negligible multiplicative and additive shear biases over a very large range in applied shear. \n",
    "\n",
    "**Conclusion:** We have succeeded in building a simple simulated model that has zero shear bias compared to the simulated data that is generated in the same way as the model."
   ]
  },
  {
   "cell_type": "markdown",
   "metadata": {
    "collapsed": true,
    "deletable": true,
    "editable": true
   },
   "source": [
    "## Next steps\n",
    "\n",
    "Our very simple model succeeds. It's time to start adding complications until it fails.\n",
    "\n",
    "1. Replace the  `lnlike1` function with that from `jif.Roaster`\n",
    "2. Calculate shear biases using **marginal** rather than **conditional** posteriors\n",
    "3. Specify the PSF as an `InterpolatedImage` object rather than a GalSim parametric model"
   ]
  },
  {
   "cell_type": "code",
   "execution_count": null,
   "metadata": {
    "collapsed": true
   },
   "outputs": [],
   "source": []
  }
 ],
 "metadata": {
  "kernelspec": {
   "display_name": "Python 2",
   "language": "python",
   "name": "python2"
  },
  "language_info": {
   "codemirror_mode": {
    "name": "ipython",
    "version": 2
   },
   "file_extension": ".py",
   "mimetype": "text/x-python",
   "name": "python",
   "nbconvert_exporter": "python",
   "pygments_lexer": "ipython2",
   "version": "2.7.10"
  },
  "widgets": {
   "state": {},
   "version": "1.1.1"
  }
 },
 "nbformat": 4,
 "nbformat_minor": 0
}
