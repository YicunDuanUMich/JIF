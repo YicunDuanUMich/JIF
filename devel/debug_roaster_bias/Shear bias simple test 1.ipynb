{
 "cells": [
  {
   "cell_type": "markdown",
   "metadata": {},
   "source": [
    "# Shear bias simple test 1"
   ]
  },
  {
   "cell_type": "markdown",
   "metadata": {},
   "source": [
    "If we have identically zero shape noise, then we only need one galaxy to measure the shear.\n",
    "\n",
    "A simple validation of shear bias is then to simulate sheared galaxy images with different applied shears and make the measured vs input shear plot and regression. If this doesn't work, then there's a fundamental bug. \n",
    "\n",
    "\n",
    "**Simulation procedure:**\n",
    "1. Make a galaxy image with zero intrinsic ellipticity\n",
    "2. Shear the image\n",
    "3. Plot the shear component 1D conditional and marginal posteriors\n",
    "4. Calculate the shear component marginal posterior constraints\n",
    "5. Repeat steps 1-4 with different applied shears\n",
    "6. Repeat steps 1-5 with different SNRs"
   ]
  },
  {
   "cell_type": "code",
   "execution_count": 2,
   "metadata": {
    "collapsed": true
   },
   "outputs": [],
   "source": [
    "import numpy as np\n",
    "import matplotlib.pyplot as plt\n",
    "%matplotlib inline\n",
    "\n",
    "import galsim"
   ]
  },
  {
   "cell_type": "code",
   "execution_count": 238,
   "metadata": {
    "collapsed": true
   },
   "outputs": [],
   "source": [
    "HLR = 1.0\n",
    "PSF = galsim.Kolmogorov(fwhm=0.6)\n",
    "scale = 0.2\n",
    "nx = ny = 64\n",
    "# var = 3e-7  # Approximately SNR of 100\n",
    "var = 3e-9\n",
    "noise = galsim.GaussianNoise(sigma=np.sqrt(var))"
   ]
  },
  {
   "cell_type": "code",
   "execution_count": 239,
   "metadata": {
    "collapsed": true
   },
   "outputs": [],
   "source": [
    "def make_data(e1, e2, nu=0.5):\n",
    "    gal = galsim.Spergel(nu, half_light_radius=HLR)\n",
    "    obj = galsim.Convolve(PSF, gal)\n",
    "    obj = obj.shear(galsim.Shear(e1=e1, e2=e2))\n",
    "    img = obj.drawImage(nx=nx, ny=ny, scale=scale)\n",
    "    img.addNoise(noise)    \n",
    "    return img"
   ]
  },
  {
   "cell_type": "code",
   "execution_count": 240,
   "metadata": {
    "collapsed": true
   },
   "outputs": [],
   "source": [
    "def lnlike1(e1, e2, nu=0.5):\n",
    "    gal = galsim.Spergel(nu, half_light_radius=HLR)\n",
    "    obj = galsim.Convolve(PSF, gal)\n",
    "    obj = obj.shear(galsim.Shear(e1=e1, e2=e2))\n",
    "    model = obj.drawImage(nx=nx, ny=ny, scale=scale)\n",
    "    delta = (model.array - img.array)**2\n",
    "    lnnorm = - 0.5 * nx * ny * np.sqrt(var * 2 * np.pi)\n",
    "    return -0.5*np.sum(delta / var) + lnnorm"
   ]
  },
  {
   "cell_type": "code",
   "execution_count": 241,
   "metadata": {
    "collapsed": false
   },
   "outputs": [],
   "source": [
    "def ln_gaus(x, a, x0, sigma):\n",
    "    return a - 0.5 * (x - x0)**2 / sigma**2\n",
    "    \n",
    "def fit_gaussian(dat_x, dat_y):\n",
    "    from scipy.optimize import curve_fit\n",
    "\n",
    "    p0 = [-100, 0., 0.001]\n",
    "\n",
    "    popt, pcov = curve_fit(ln_gaus, dat_x, dat_y, p0=p0)\n",
    "    return popt, pcov"
   ]
  },
  {
   "cell_type": "code",
   "execution_count": 242,
   "metadata": {
    "collapsed": false
   },
   "outputs": [
    {
     "data": {
      "text/plain": [
       "<matplotlib.image.AxesImage at 0x11d159c90>"
      ]
     },
     "execution_count": 242,
     "metadata": {},
     "output_type": "execute_result"
    },
    {
     "data": {
      "image/png": "[encoded data removed]",
      "text/plain": [
       "<matplotlib.figure.Figure at 0x11cb2ae90>"
      ]
     },
     "metadata": {},
     "output_type": "display_data"
    }
   ],
   "source": [
    "g2 = 0.05\n",
    "\n",
    "img = make_data(e1=0.0, e2=g2, nu=0.5)\n",
    "plt.imshow(img.array, interpolation='none', cmap=plt.cm.viridis)"
   ]
  },
  {
   "cell_type": "code",
   "execution_count": 244,
   "metadata": {
    "collapsed": false
   },
   "outputs": [
    {
     "name": "stdout",
     "output_type": "stream",
     "text": [
      "[ 0.04775932  0.00206167]\n",
      "shear bias: -2.241e-03 +/- 2.062e-03\n"
     ]
    },
    {
     "data": {
      "text/plain": [
       "<matplotlib.lines.Line2D at 0x11d3d01d0>"
      ]
     },
     "execution_count": 244,
     "metadata": {},
     "output_type": "execute_result"
    },
    {
     "data": {
      "image/png": "[encoded data removed]",
      "text/plain": [
       "<matplotlib.figure.Figure at 0x11cd5bdd0>"
      ]
     },
     "metadata": {},
     "output_type": "display_data"
    }
   ],
   "source": [
    "g = np.linspace(g2 - 0.01, g2 + 0.01, 200)\n",
    "lnp = np.array([lnlike1(e1=0.0, e2=g_val, nu=0.5) for g_val in g])\n",
    "\n",
    "popt, pcov = fit_gaussian(g, lnp)\n",
    "print popt[1:3]\n",
    "\n",
    "print \"shear bias: {:4.3e} +/- {:4.3e}\".format(popt[1] - g2, popt[2])\n",
    "\n",
    "plt.plot(g, lnp)\n",
    "plt.plot(g, ln_gaus(g, popt[0], popt[1], popt[2]), linestyle='dotted')\n",
    "plt.axvline(g2, color='grey', linestyle='dashed')\n",
    "plt.axvline(g[np.argmax(lnp)], color='red', linestyle='dashed')"
   ]
  },
  {
   "cell_type": "code",
   "execution_count": 245,
   "metadata": {
    "collapsed": false
   },
   "outputs": [
    {
     "name": "stdout",
     "output_type": "stream",
     "text": [
      "--- 0 / 50 ---\n",
      "--- 5 / 50 ---\n",
      "--- 10 / 50 ---\n",
      "--- 15 / 50 ---\n",
      "--- 20 / 50 ---\n",
      "--- 25 / 50 ---\n",
      "--- 30 / 50 ---\n",
      "--- 35 / 50 ---\n",
      "--- 40 / 50 ---\n",
      "--- 45 / 50 ---\n"
     ]
    }
   ],
   "source": [
    "g_true = np.linspace(-0.1, 0.1, 50)\n",
    "g = np.linspace(g2 - 0.01, g2 + 0.01, 200)\n",
    "\n",
    "bias = np.zeros((len(g_true), 2), dtype=np.float64)\n",
    "for i, gt in enumerate(g_true):\n",
    "    if np.mod(i, 5) == 0:\n",
    "        print \"--- {:d} / {:d} ---\".format(i, len(g_true))\n",
    "    img = make_data(e1=0.0, e2=gt, nu=0.5)\n",
    "    lnp = np.array([lnlike1(e1=0.0, e2=g_val, nu=0.5) for g_val in g])\n",
    "    popt, pcov = fit_gaussian(g, lnp)\n",
    "    bias[i, 0] = popt[1] - gt\n",
    "    bias[i, 1] = popt[2]"
   ]
  },
  {
   "cell_type": "code",
   "execution_count": 246,
   "metadata": {
    "collapsed": false
   },
   "outputs": [
    {
     "data": {
      "text/plain": [
       "<matplotlib.text.Text at 0x11d4ddfd0>"
      ]
     },
     "execution_count": 246,
     "metadata": {},
     "output_type": "execute_result"
    },
    {
     "data": {
      "image/png": "[encoded data removed]",
      "text/plain": [
       "<matplotlib.figure.Figure at 0x11cb2a8d0>"
      ]
     },
     "metadata": {},
     "output_type": "display_data"
    }
   ],
   "source": [
    "from scipy.stats import linregress\n",
    "slope, intercept, r_value, p_value, std_err = linregress(g_true, bias[:,0])\n",
    "xl = np.linspace(np.min(g_true), np.max(g_true), 50)\n",
    "\n",
    "plt.errorbar(g_true, bias[:,0], yerr=bias[:,1], fmt='o')\n",
    "plt.axhline(0., color='grey')\n",
    "plt.plot(xl, slope*xl + intercept, '--')\n",
    "plt.xlabel(r\"$g_2$\", fontsize=18)\n",
    "plt.ylabel(r\"$\\Delta g_{:d}$\".format(2), fontsize=18)\n",
    "plt.xlim(-0.1, 0.1)\n",
    "plt.title(r\"$m = {:3.2e} +/- {:3.2e}$, $c = {:3.2e}$\".format(slope, std_err, intercept))"
   ]
  },
  {
   "cell_type": "code",
   "execution_count": null,
   "metadata": {
    "collapsed": true
   },
   "outputs": [],
   "source": []
  }
 ],
 "metadata": {
  "kernelspec": {
   "display_name": "Python 2",
   "language": "python",
   "name": "python2"
  },
  "language_info": {
   "codemirror_mode": {
    "name": "ipython",
    "version": 2
   },
   "file_extension": ".py",
   "mimetype": "text/x-python",
   "name": "python",
   "nbconvert_exporter": "python",
   "pygments_lexer": "ipython2",
   "version": "2.7.10"
  },
  "widgets": {
   "state": {},
   "version": "1.1.1"
  }
 },
 "nbformat": 4,
 "nbformat_minor": 0
}
