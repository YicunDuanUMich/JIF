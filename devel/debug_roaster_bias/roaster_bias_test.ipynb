{
 "cells": [
  {
   "cell_type": "code",
   "execution_count": 1,
   "metadata": {
    "collapsed": true,
    "deletable": true,
    "editable": true
   },
   "outputs": [],
   "source": [
    "import jif\n",
    "import numpy as np\n",
    "import pprint\n",
    "import matplotlib.pyplot as plt\n",
    "%matplotlib inline"
   ]
  },
  {
   "cell_type": "markdown",
   "metadata": {
    "deletable": true,
    "editable": true
   },
   "source": [
    "## Initialize roaster from YAML file"
   ]
  },
  {
   "cell_type": "code",
   "execution_count": 2,
   "metadata": {
    "collapsed": false,
    "deletable": true,
    "editable": true
   },
   "outputs": [],
   "source": [
    "rstr = jif.Roaster(\"roaster.yaml\")"
   ]
  },
  {
   "cell_type": "code",
   "execution_count": 3,
   "metadata": {
    "collapsed": false,
    "deletable": true,
    "editable": true
   },
   "outputs": [
    {
     "name": "stdout",
     "output_type": "stream",
     "text": [
      "{'data': {'data_format': 'jif_segment',\n",
      "          'epoch_num': -1,\n",
      "          'filters': 'r',\n",
      "          'segment_number': 0,\n",
      "          'telescope': 'LSST'},\n",
      " 'infiles': {'infile_1': 'output/roaster_model_image.h5'},\n",
      " 'init': {'init_param_file': 'roaster_params.cfg', 'seed': 9216526},\n",
      " 'metadata': {'outfile': '../output/TestData/roaster_out'},\n",
      " 'model': {'achromatic': True,\n",
      "           'galaxy_model_type': 'Spergel',\n",
      "           'model_params': 'nu',\n",
      "           'num_sources': 1},\n",
      " 'run': {'debug': False, 'output_model': True, 'quiet': True},\n",
      " 'sampling': {'nburn': 200,\n",
      "              'nsamples': 500,\n",
      "              'nthreads': 1,\n",
      "              'nwalkers': 32,\n",
      "              'sampler': 'emcee'}}\n"
     ]
    }
   ],
   "source": [
    "pprint.pprint(rstr.config)"
   ]
  },
  {
   "cell_type": "markdown",
   "metadata": {
    "deletable": true,
    "editable": true
   },
   "source": [
    "## Make the fake image data"
   ]
  },
  {
   "cell_type": "code",
   "execution_count": 5,
   "metadata": {
    "collapsed": false,
    "deletable": true,
    "editable": true
   },
   "outputs": [
    {
     "name": "stderr",
     "output_type": "stream",
     "text": [
      "2017-03-24 23:49:15,864 - DEBUG - Setting redshift to 1.000000\n",
      "2017-03-24 23:49:15,866 - DEBUG - Setting nu to 0.500000\n",
      "2017-03-24 23:49:15,868 - DEBUG - Setting hlr to 1.000000\n",
      "2017-03-24 23:49:15,869 - DEBUG - Setting e1 to 0.000000\n",
      "2017-03-24 23:49:15,870 - DEBUG - Setting e2 to 0.000000\n",
      "2017-03-24 23:49:15,871 - DEBUG - Setting mag_sed1 to 27.500000\n",
      "2017-03-24 23:49:15,873 - DEBUG - Setting mag_sed2 to 99.000000\n",
      "2017-03-24 23:49:15,874 - DEBUG - Setting mag_sed3 to 99.000000\n",
      "2017-03-24 23:49:15,875 - DEBUG - Setting mag_sed4 to 99.000000\n",
      "2017-03-24 23:49:15,877 - DEBUG - Setting dx to 0.000000\n",
      "2017-03-24 23:49:15,878 - DEBUG - Setting dy to 0.000000\n"
     ]
    }
   ],
   "source": [
    "images = rstr.render_model_images(nimages=1, nx=[80], ny=[80],\n",
    "                                  tel_names=['LSST'], psfs=['model'], noise_var=1.e2)"
   ]
  },
  {
   "cell_type": "code",
   "execution_count": 7,
   "metadata": {
    "collapsed": false,
    "deletable": true,
    "editable": true
   },
   "outputs": [
    {
     "data": {
      "text/plain": [
       "<matplotlib.colorbar.Colorbar at 0x10d654590>"
      ]
     },
     "execution_count": 7,
     "metadata": {},
     "output_type": "execute_result"
    },
    {
     "data": {
      "image/png": "[encoded data removed]",
      "text/plain": [
       "<matplotlib.figure.Figure at 0x10d565e90>"
      ]
     },
     "metadata": {},
     "output_type": "display_data"
    }
   ],
   "source": [
    "plt.imshow(images[0].array, interpolation='none', origin='lower')\n",
    "plt.colorbar()"
   ]
  },
  {
   "cell_type": "markdown",
   "metadata": {
    "deletable": true,
    "editable": true
   },
   "source": [
    "## Evaluate the image likelihood"
   ]
  },
  {
   "cell_type": "code",
   "execution_count": 8,
   "metadata": {
    "collapsed": false,
    "deletable": true,
    "editable": true
   },
   "outputs": [
    {
     "data": {
      "text/plain": [
       "['nu']"
      ]
     },
     "execution_count": 8,
     "metadata": {},
     "output_type": "execute_result"
    }
   ],
   "source": [
    "rstr.model_paramnames"
   ]
  },
  {
   "cell_type": "code",
   "execution_count": 9,
   "metadata": {
    "collapsed": false,
    "deletable": true,
    "editable": true
   },
   "outputs": [],
   "source": [
    "nu = np.linspace(0.2, 0.8, 160)\n",
    "\n",
    "lnp = np.array([rstr([nu_i]) for nu_i in nu])"
   ]
  },
  {
   "cell_type": "code",
   "execution_count": 10,
   "metadata": {
    "collapsed": false,
    "deletable": true,
    "editable": true
   },
   "outputs": [
    {
     "data": {
      "text/plain": [
       "<matplotlib.text.Text at 0x10d826bd0>"
      ]
     },
     "execution_count": 10,
     "metadata": {},
     "output_type": "execute_result"
    },
    {
     "data": {
      "image/png": "[encoded data removed]",
      "text/plain": [
       "<matplotlib.figure.Figure at 0x10d6f9250>"
      ]
     },
     "metadata": {},
     "output_type": "display_data"
    }
   ],
   "source": [
    "plt.plot(nu, np.exp(lnp - np.max(lnp)), color=\"#348ABD\", alpha=1)\n",
    "plt.axvline(0.5, color='grey')\n",
    "plt.xlabel(r\"$\\nu$\", fontsize=18)\n",
    "plt.ylabel(r\"Pr($\\nu$)\", fontsize=18)"
   ]
  },
  {
   "cell_type": "markdown",
   "metadata": {
    "deletable": true,
    "editable": true
   },
   "source": [
    "## Loop the above sequence of operations over noise realizations"
   ]
  },
  {
   "cell_type": "code",
   "execution_count": 11,
   "metadata": {
    "collapsed": false,
    "deletable": true,
    "editable": true
   },
   "outputs": [
    {
     "name": "stderr",
     "output_type": "stream",
     "text": [
      "2017-03-25 00:43:31,003 - DEBUG - Setting redshift to 1.000000\n",
      "2017-03-25 00:43:31,005 - DEBUG - Setting nu to 0.500000\n",
      "2017-03-25 00:43:31,007 - DEBUG - Setting hlr to 1.000000\n",
      "2017-03-25 00:43:31,008 - DEBUG - Setting e1 to 0.000000\n",
      "2017-03-25 00:43:31,009 - DEBUG - Setting e2 to 0.000000\n",
      "2017-03-25 00:43:31,010 - DEBUG - Setting mag_sed1 to 27.500000\n",
      "2017-03-25 00:43:31,012 - DEBUG - Setting mag_sed2 to 99.000000\n",
      "2017-03-25 00:43:31,013 - DEBUG - Setting mag_sed3 to 99.000000\n",
      "2017-03-25 00:43:31,014 - DEBUG - Setting mag_sed4 to 99.000000\n",
      "2017-03-25 00:43:31,015 - DEBUG - Setting dx to 0.000000\n",
      "2017-03-25 00:43:31,016 - DEBUG - Setting dy to 0.000000\n",
      "2017-03-25 00:43:31,414 - DEBUG - Setting redshift to 1.000000\n",
      "2017-03-25 00:43:31,414 - DEBUG - Setting nu to 0.500000\n",
      "2017-03-25 00:43:31,415 - DEBUG - Setting hlr to 1.000000\n",
      "2017-03-25 00:43:31,416 - DEBUG - Setting e1 to 0.000000\n",
      "2017-03-25 00:43:31,418 - DEBUG - Setting e2 to 0.000000\n",
      "2017-03-25 00:43:31,419 - DEBUG - Setting mag_sed1 to 27.500000\n",
      "2017-03-25 00:43:31,420 - DEBUG - Setting mag_sed2 to 99.000000\n",
      "2017-03-25 00:43:31,421 - DEBUG - Setting mag_sed3 to 99.000000\n",
      "2017-03-25 00:43:31,423 - DEBUG - Setting mag_sed4 to 99.000000\n",
      "2017-03-25 00:43:31,424 - DEBUG - Setting dx to 0.000000\n",
      "2017-03-25 00:43:31,426 - DEBUG - Setting dy to 0.000000\n",
      "2017-03-25 00:43:31,755 - DEBUG - Setting redshift to 1.000000\n",
      "2017-03-25 00:43:31,756 - DEBUG - Setting nu to 0.500000\n",
      "2017-03-25 00:43:31,757 - DEBUG - Setting hlr to 1.000000\n",
      "2017-03-25 00:43:31,759 - DEBUG - Setting e1 to 0.000000\n",
      "2017-03-25 00:43:31,761 - DEBUG - Setting e2 to 0.000000\n",
      "2017-03-25 00:43:31,762 - DEBUG - Setting mag_sed1 to 27.500000\n",
      "2017-03-25 00:43:31,764 - DEBUG - Setting mag_sed2 to 99.000000\n",
      "2017-03-25 00:43:31,765 - DEBUG - Setting mag_sed3 to 99.000000\n",
      "2017-03-25 00:43:31,766 - DEBUG - Setting mag_sed4 to 99.000000\n",
      "2017-03-25 00:43:31,767 - DEBUG - Setting dx to 0.000000\n",
      "2017-03-25 00:43:31,769 - DEBUG - Setting dy to 0.000000\n",
      "2017-03-25 00:43:32,087 - DEBUG - Setting redshift to 1.000000\n",
      "2017-03-25 00:43:32,088 - DEBUG - Setting nu to 0.500000\n",
      "2017-03-25 00:43:32,089 - DEBUG - Setting hlr to 1.000000\n",
      "2017-03-25 00:43:32,090 - DEBUG - Setting e1 to 0.000000\n",
      "2017-03-25 00:43:32,092 - DEBUG - Setting e2 to 0.000000\n",
      "2017-03-25 00:43:32,093 - DEBUG - Setting mag_sed1 to 27.500000\n",
      "2017-03-25 00:43:32,095 - DEBUG - Setting mag_sed2 to 99.000000\n",
      "2017-03-25 00:43:32,097 - DEBUG - Setting mag_sed3 to 99.000000\n",
      "2017-03-25 00:43:32,098 - DEBUG - Setting mag_sed4 to 99.000000\n",
      "2017-03-25 00:43:32,100 - DEBUG - Setting dx to 0.000000\n",
      "2017-03-25 00:43:32,101 - DEBUG - Setting dy to 0.000000\n",
      "2017-03-25 00:43:32,436 - DEBUG - Setting redshift to 1.000000\n",
      "2017-03-25 00:43:32,437 - DEBUG - Setting nu to 0.500000\n",
      "2017-03-25 00:43:32,439 - DEBUG - Setting hlr to 1.000000\n",
      "2017-03-25 00:43:32,440 - DEBUG - Setting e1 to 0.000000\n",
      "2017-03-25 00:43:32,441 - DEBUG - Setting e2 to 0.000000\n",
      "2017-03-25 00:43:32,442 - DEBUG - Setting mag_sed1 to 27.500000\n",
      "2017-03-25 00:43:32,443 - DEBUG - Setting mag_sed2 to 99.000000\n",
      "2017-03-25 00:43:32,444 - DEBUG - Setting mag_sed3 to 99.000000\n",
      "2017-03-25 00:43:32,445 - DEBUG - Setting mag_sed4 to 99.000000\n",
      "2017-03-25 00:43:32,448 - DEBUG - Setting dx to 0.000000\n",
      "2017-03-25 00:43:32,449 - DEBUG - Setting dy to 0.000000\n",
      "2017-03-25 00:43:32,791 - DEBUG - Setting redshift to 1.000000\n",
      "2017-03-25 00:43:32,792 - DEBUG - Setting nu to 0.500000\n",
      "2017-03-25 00:43:32,793 - DEBUG - Setting hlr to 1.000000\n",
      "2017-03-25 00:43:32,794 - DEBUG - Setting e1 to 0.000000\n",
      "2017-03-25 00:43:32,795 - DEBUG - Setting e2 to 0.000000\n",
      "2017-03-25 00:43:32,796 - DEBUG - Setting mag_sed1 to 27.500000\n",
      "2017-03-25 00:43:32,798 - DEBUG - Setting mag_sed2 to 99.000000\n",
      "2017-03-25 00:43:32,800 - DEBUG - Setting mag_sed3 to 99.000000\n",
      "2017-03-25 00:43:32,801 - DEBUG - Setting mag_sed4 to 99.000000\n",
      "2017-03-25 00:43:32,802 - DEBUG - Setting dx to 0.000000\n",
      "2017-03-25 00:43:32,803 - DEBUG - Setting dy to 0.000000\n",
      "2017-03-25 00:43:33,139 - DEBUG - Setting redshift to 1.000000\n",
      "2017-03-25 00:43:33,140 - DEBUG - Setting nu to 0.500000\n",
      "2017-03-25 00:43:33,141 - DEBUG - Setting hlr to 1.000000\n",
      "2017-03-25 00:43:33,142 - DEBUG - Setting e1 to 0.000000\n",
      "2017-03-25 00:43:33,144 - DEBUG - Setting e2 to 0.000000\n",
      "2017-03-25 00:43:33,145 - DEBUG - Setting mag_sed1 to 27.500000\n",
      "2017-03-25 00:43:33,146 - DEBUG - Setting mag_sed2 to 99.000000\n",
      "2017-03-25 00:43:33,147 - DEBUG - Setting mag_sed3 to 99.000000\n",
      "2017-03-25 00:43:33,148 - DEBUG - Setting mag_sed4 to 99.000000\n",
      "2017-03-25 00:43:33,149 - DEBUG - Setting dx to 0.000000\n",
      "2017-03-25 00:43:33,151 - DEBUG - Setting dy to 0.000000\n",
      "2017-03-25 00:43:33,485 - DEBUG - Setting redshift to 1.000000\n",
      "2017-03-25 00:43:33,486 - DEBUG - Setting nu to 0.500000\n",
      "2017-03-25 00:43:33,487 - DEBUG - Setting hlr to 1.000000\n",
      "2017-03-25 00:43:33,489 - DEBUG - Setting e1 to 0.000000\n",
      "2017-03-25 00:43:33,490 - DEBUG - Setting e2 to 0.000000\n",
      "2017-03-25 00:43:33,491 - DEBUG - Setting mag_sed1 to 27.500000\n",
      "2017-03-25 00:43:33,492 - DEBUG - Setting mag_sed2 to 99.000000\n",
      "2017-03-25 00:43:33,493 - DEBUG - Setting mag_sed3 to 99.000000\n",
      "2017-03-25 00:43:33,495 - DEBUG - Setting mag_sed4 to 99.000000\n",
      "2017-03-25 00:43:33,497 - DEBUG - Setting dx to 0.000000\n",
      "2017-03-25 00:43:33,499 - DEBUG - Setting dy to 0.000000\n",
      "2017-03-25 00:43:33,842 - DEBUG - Setting redshift to 1.000000\n",
      "2017-03-25 00:43:33,843 - DEBUG - Setting nu to 0.500000\n",
      "2017-03-25 00:43:33,844 - DEBUG - Setting hlr to 1.000000\n",
      "2017-03-25 00:43:33,845 - DEBUG - Setting e1 to 0.000000\n",
      "2017-03-25 00:43:33,847 - DEBUG - Setting e2 to 0.000000\n",
      "2017-03-25 00:43:33,848 - DEBUG - Setting mag_sed1 to 27.500000\n",
      "2017-03-25 00:43:33,850 - DEBUG - Setting mag_sed2 to 99.000000\n",
      "2017-03-25 00:43:33,851 - DEBUG - Setting mag_sed3 to 99.000000\n",
      "2017-03-25 00:43:33,852 - DEBUG - Setting mag_sed4 to 99.000000\n",
      "2017-03-25 00:43:33,853 - DEBUG - Setting dx to 0.000000\n",
      "2017-03-25 00:43:33,855 - DEBUG - Setting dy to 0.000000\n",
      "2017-03-25 00:43:34,246 - DEBUG - Setting redshift to 1.000000\n",
      "2017-03-25 00:43:34,247 - DEBUG - Setting nu to 0.500000\n",
      "2017-03-25 00:43:34,249 - DEBUG - Setting hlr to 1.000000\n",
      "2017-03-25 00:43:34,250 - DEBUG - Setting e1 to 0.000000\n",
      "2017-03-25 00:43:34,252 - DEBUG - Setting e2 to 0.000000\n",
      "2017-03-25 00:43:34,253 - DEBUG - Setting mag_sed1 to 27.500000\n",
      "2017-03-25 00:43:34,254 - DEBUG - Setting mag_sed2 to 99.000000\n",
      "2017-03-25 00:43:34,260 - DEBUG - Setting mag_sed3 to 99.000000\n",
      "2017-03-25 00:43:34,261 - DEBUG - Setting mag_sed4 to 99.000000\n",
      "2017-03-25 00:43:34,263 - DEBUG - Setting dx to 0.000000\n",
      "2017-03-25 00:43:34,264 - DEBUG - Setting dy to 0.000000\n",
      "2017-03-25 00:43:34,621 - DEBUG - Setting redshift to 1.000000\n",
      "2017-03-25 00:43:34,623 - DEBUG - Setting nu to 0.500000\n",
      "2017-03-25 00:43:34,624 - DEBUG - Setting hlr to 1.000000\n",
      "2017-03-25 00:43:34,625 - DEBUG - Setting e1 to 0.000000\n",
      "2017-03-25 00:43:34,626 - DEBUG - Setting e2 to 0.000000\n",
      "2017-03-25 00:43:34,627 - DEBUG - Setting mag_sed1 to 27.500000\n",
      "2017-03-25 00:43:34,629 - DEBUG - Setting mag_sed2 to 99.000000\n",
      "2017-03-25 00:43:34,631 - DEBUG - Setting mag_sed3 to 99.000000\n",
      "2017-03-25 00:43:34,633 - DEBUG - Setting mag_sed4 to 99.000000\n",
      "2017-03-25 00:43:34,634 - DEBUG - Setting dx to 0.000000\n",
      "2017-03-25 00:43:34,635 - DEBUG - Setting dy to 0.000000\n",
      "2017-03-25 00:43:34,975 - DEBUG - Setting redshift to 1.000000\n",
      "2017-03-25 00:43:34,977 - DEBUG - Setting nu to 0.500000\n",
      "2017-03-25 00:43:34,979 - DEBUG - Setting hlr to 1.000000\n",
      "2017-03-25 00:43:34,981 - DEBUG - Setting e1 to 0.000000\n",
      "2017-03-25 00:43:34,982 - DEBUG - Setting e2 to 0.000000\n",
      "2017-03-25 00:43:34,983 - DEBUG - Setting mag_sed1 to 27.500000\n",
      "2017-03-25 00:43:34,984 - DEBUG - Setting mag_sed2 to 99.000000\n",
      "2017-03-25 00:43:34,985 - DEBUG - Setting mag_sed3 to 99.000000\n",
      "2017-03-25 00:43:34,987 - DEBUG - Setting mag_sed4 to 99.000000\n",
      "2017-03-25 00:43:34,988 - DEBUG - Setting dx to 0.000000\n",
      "2017-03-25 00:43:34,989 - DEBUG - Setting dy to 0.000000\n",
      "2017-03-25 00:43:35,333 - DEBUG - Setting redshift to 1.000000\n",
      "2017-03-25 00:43:35,334 - DEBUG - Setting nu to 0.500000\n",
      "2017-03-25 00:43:35,335 - DEBUG - Setting hlr to 1.000000\n",
      "2017-03-25 00:43:35,336 - DEBUG - Setting e1 to 0.000000\n",
      "2017-03-25 00:43:35,337 - DEBUG - Setting e2 to 0.000000\n",
      "2017-03-25 00:43:35,339 - DEBUG - Setting mag_sed1 to 27.500000\n",
      "2017-03-25 00:43:35,340 - DEBUG - Setting mag_sed2 to 99.000000\n",
      "2017-03-25 00:43:35,342 - DEBUG - Setting mag_sed3 to 99.000000\n",
      "2017-03-25 00:43:35,343 - DEBUG - Setting mag_sed4 to 99.000000\n",
      "2017-03-25 00:43:35,344 - DEBUG - Setting dx to 0.000000\n",
      "2017-03-25 00:43:35,345 - DEBUG - Setting dy to 0.000000\n",
      "2017-03-25 00:43:35,683 - DEBUG - Setting redshift to 1.000000\n",
      "2017-03-25 00:43:35,684 - DEBUG - Setting nu to 0.500000\n",
      "2017-03-25 00:43:35,685 - DEBUG - Setting hlr to 1.000000\n",
      "2017-03-25 00:43:35,687 - DEBUG - Setting e1 to 0.000000\n",
      "2017-03-25 00:43:35,688 - DEBUG - Setting e2 to 0.000000\n",
      "2017-03-25 00:43:35,690 - DEBUG - Setting mag_sed1 to 27.500000\n",
      "2017-03-25 00:43:35,691 - DEBUG - Setting mag_sed2 to 99.000000\n",
      "2017-03-25 00:43:35,693 - DEBUG - Setting mag_sed3 to 99.000000\n",
      "2017-03-25 00:43:35,694 - DEBUG - Setting mag_sed4 to 99.000000\n",
      "2017-03-25 00:43:35,695 - DEBUG - Setting dx to 0.000000\n",
      "2017-03-25 00:43:35,697 - DEBUG - Setting dy to 0.000000\n",
      "2017-03-25 00:43:36,020 - DEBUG - Setting redshift to 1.000000\n",
      "2017-03-25 00:43:36,021 - DEBUG - Setting nu to 0.500000\n",
      "2017-03-25 00:43:36,023 - DEBUG - Setting hlr to 1.000000\n",
      "2017-03-25 00:43:36,024 - DEBUG - Setting e1 to 0.000000\n",
      "2017-03-25 00:43:36,026 - DEBUG - Setting e2 to 0.000000\n",
      "2017-03-25 00:43:36,027 - DEBUG - Setting mag_sed1 to 27.500000\n",
      "2017-03-25 00:43:36,028 - DEBUG - Setting mag_sed2 to 99.000000\n",
      "2017-03-25 00:43:36,030 - DEBUG - Setting mag_sed3 to 99.000000\n",
      "2017-03-25 00:43:36,032 - DEBUG - Setting mag_sed4 to 99.000000\n",
      "2017-03-25 00:43:36,034 - DEBUG - Setting dx to 0.000000\n",
      "2017-03-25 00:43:36,035 - DEBUG - Setting dy to 0.000000\n",
      "2017-03-25 00:43:36,388 - DEBUG - Setting redshift to 1.000000\n",
      "2017-03-25 00:43:36,390 - DEBUG - Setting nu to 0.500000\n",
      "2017-03-25 00:43:36,391 - DEBUG - Setting hlr to 1.000000\n",
      "2017-03-25 00:43:36,393 - DEBUG - Setting e1 to 0.000000\n",
      "2017-03-25 00:43:36,394 - DEBUG - Setting e2 to 0.000000\n",
      "2017-03-25 00:43:36,395 - DEBUG - Setting mag_sed1 to 27.500000\n",
      "2017-03-25 00:43:36,400 - DEBUG - Setting mag_sed2 to 99.000000\n",
      "2017-03-25 00:43:36,401 - DEBUG - Setting mag_sed3 to 99.000000\n",
      "2017-03-25 00:43:36,403 - DEBUG - Setting mag_sed4 to 99.000000\n",
      "2017-03-25 00:43:36,404 - DEBUG - Setting dx to 0.000000\n",
      "2017-03-25 00:43:36,407 - DEBUG - Setting dy to 0.000000\n",
      "2017-03-25 00:43:36,749 - DEBUG - Setting redshift to 1.000000\n",
      "2017-03-25 00:43:36,750 - DEBUG - Setting nu to 0.500000\n",
      "2017-03-25 00:43:36,751 - DEBUG - Setting hlr to 1.000000\n",
      "2017-03-25 00:43:36,752 - DEBUG - Setting e1 to 0.000000\n",
      "2017-03-25 00:43:36,753 - DEBUG - Setting e2 to 0.000000\n",
      "2017-03-25 00:43:36,754 - DEBUG - Setting mag_sed1 to 27.500000\n",
      "2017-03-25 00:43:36,756 - DEBUG - Setting mag_sed2 to 99.000000\n",
      "2017-03-25 00:43:36,757 - DEBUG - Setting mag_sed3 to 99.000000\n",
      "2017-03-25 00:43:36,759 - DEBUG - Setting mag_sed4 to 99.000000\n",
      "2017-03-25 00:43:36,761 - DEBUG - Setting dx to 0.000000\n",
      "2017-03-25 00:43:36,762 - DEBUG - Setting dy to 0.000000\n",
      "2017-03-25 00:43:37,083 - DEBUG - Setting redshift to 1.000000\n",
      "2017-03-25 00:43:37,084 - DEBUG - Setting nu to 0.500000\n",
      "2017-03-25 00:43:37,085 - DEBUG - Setting hlr to 1.000000\n",
      "2017-03-25 00:43:37,086 - DEBUG - Setting e1 to 0.000000\n",
      "2017-03-25 00:43:37,087 - DEBUG - Setting e2 to 0.000000\n",
      "2017-03-25 00:43:37,088 - DEBUG - Setting mag_sed1 to 27.500000\n",
      "2017-03-25 00:43:37,090 - DEBUG - Setting mag_sed2 to 99.000000\n",
      "2017-03-25 00:43:37,091 - DEBUG - Setting mag_sed3 to 99.000000\n",
      "2017-03-25 00:43:37,093 - DEBUG - Setting mag_sed4 to 99.000000\n",
      "2017-03-25 00:43:37,094 - DEBUG - Setting dx to 0.000000\n",
      "2017-03-25 00:43:37,096 - DEBUG - Setting dy to 0.000000\n",
      "2017-03-25 00:43:37,408 - DEBUG - Setting redshift to 1.000000\n",
      "2017-03-25 00:43:37,409 - DEBUG - Setting nu to 0.500000\n",
      "2017-03-25 00:43:37,410 - DEBUG - Setting hlr to 1.000000\n",
      "2017-03-25 00:43:37,411 - DEBUG - Setting e1 to 0.000000\n",
      "2017-03-25 00:43:37,412 - DEBUG - Setting e2 to 0.000000\n",
      "2017-03-25 00:43:37,414 - DEBUG - Setting mag_sed1 to 27.500000\n",
      "2017-03-25 00:43:37,415 - DEBUG - Setting mag_sed2 to 99.000000\n",
      "2017-03-25 00:43:37,417 - DEBUG - Setting mag_sed3 to 99.000000\n",
      "2017-03-25 00:43:37,418 - DEBUG - Setting mag_sed4 to 99.000000\n",
      "2017-03-25 00:43:37,419 - DEBUG - Setting dx to 0.000000\n",
      "2017-03-25 00:43:37,420 - DEBUG - Setting dy to 0.000000\n",
      "2017-03-25 00:43:37,742 - DEBUG - Setting redshift to 1.000000\n",
      "2017-03-25 00:43:37,743 - DEBUG - Setting nu to 0.500000\n",
      "2017-03-25 00:43:37,745 - DEBUG - Setting hlr to 1.000000\n",
      "2017-03-25 00:43:37,746 - DEBUG - Setting e1 to 0.000000\n",
      "2017-03-25 00:43:37,747 - DEBUG - Setting e2 to 0.000000\n",
      "2017-03-25 00:43:37,748 - DEBUG - Setting mag_sed1 to 27.500000\n",
      "2017-03-25 00:43:37,750 - DEBUG - Setting mag_sed2 to 99.000000\n",
      "2017-03-25 00:43:37,752 - DEBUG - Setting mag_sed3 to 99.000000\n",
      "2017-03-25 00:43:37,753 - DEBUG - Setting mag_sed4 to 99.000000\n",
      "2017-03-25 00:43:37,754 - DEBUG - Setting dx to 0.000000\n",
      "2017-03-25 00:43:37,755 - DEBUG - Setting dy to 0.000000\n",
      "2017-03-25 00:43:38,074 - DEBUG - Setting redshift to 1.000000\n",
      "2017-03-25 00:43:38,075 - DEBUG - Setting nu to 0.500000\n",
      "2017-03-25 00:43:38,076 - DEBUG - Setting hlr to 1.000000\n",
      "2017-03-25 00:43:38,077 - DEBUG - Setting e1 to 0.000000\n",
      "2017-03-25 00:43:38,078 - DEBUG - Setting e2 to 0.000000\n",
      "2017-03-25 00:43:38,080 - DEBUG - Setting mag_sed1 to 27.500000\n",
      "2017-03-25 00:43:38,081 - DEBUG - Setting mag_sed2 to 99.000000\n",
      "2017-03-25 00:43:38,082 - DEBUG - Setting mag_sed3 to 99.000000\n",
      "2017-03-25 00:43:38,083 - DEBUG - Setting mag_sed4 to 99.000000\n",
      "2017-03-25 00:43:38,084 - DEBUG - Setting dx to 0.000000\n",
      "2017-03-25 00:43:38,085 - DEBUG - Setting dy to 0.000000\n",
      "2017-03-25 00:43:38,411 - DEBUG - Setting redshift to 1.000000\n",
      "2017-03-25 00:43:38,411 - DEBUG - Setting nu to 0.500000\n",
      "2017-03-25 00:43:38,412 - DEBUG - Setting hlr to 1.000000\n",
      "2017-03-25 00:43:38,414 - DEBUG - Setting e1 to 0.000000\n",
      "2017-03-25 00:43:38,415 - DEBUG - Setting e2 to 0.000000\n",
      "2017-03-25 00:43:38,416 - DEBUG - Setting mag_sed1 to 27.500000\n",
      "2017-03-25 00:43:38,417 - DEBUG - Setting mag_sed2 to 99.000000\n",
      "2017-03-25 00:43:38,418 - DEBUG - Setting mag_sed3 to 99.000000\n",
      "2017-03-25 00:43:38,420 - DEBUG - Setting mag_sed4 to 99.000000\n",
      "2017-03-25 00:43:38,421 - DEBUG - Setting dx to 0.000000\n",
      "2017-03-25 00:43:38,422 - DEBUG - Setting dy to 0.000000\n",
      "2017-03-25 00:43:38,773 - DEBUG - Setting redshift to 1.000000\n",
      "2017-03-25 00:43:38,774 - DEBUG - Setting nu to 0.500000\n",
      "2017-03-25 00:43:38,775 - DEBUG - Setting hlr to 1.000000\n",
      "2017-03-25 00:43:38,776 - DEBUG - Setting e1 to 0.000000\n",
      "2017-03-25 00:43:38,777 - DEBUG - Setting e2 to 0.000000\n",
      "2017-03-25 00:43:38,778 - DEBUG - Setting mag_sed1 to 27.500000\n",
      "2017-03-25 00:43:38,780 - DEBUG - Setting mag_sed2 to 99.000000\n",
      "2017-03-25 00:43:38,781 - DEBUG - Setting mag_sed3 to 99.000000\n",
      "2017-03-25 00:43:38,782 - DEBUG - Setting mag_sed4 to 99.000000\n",
      "2017-03-25 00:43:38,783 - DEBUG - Setting dx to 0.000000\n",
      "2017-03-25 00:43:38,785 - DEBUG - Setting dy to 0.000000\n",
      "2017-03-25 00:43:39,157 - DEBUG - Setting redshift to 1.000000\n",
      "2017-03-25 00:43:39,158 - DEBUG - Setting nu to 0.500000\n",
      "2017-03-25 00:43:39,159 - DEBUG - Setting hlr to 1.000000\n",
      "2017-03-25 00:43:39,160 - DEBUG - Setting e1 to 0.000000\n",
      "2017-03-25 00:43:39,162 - DEBUG - Setting e2 to 0.000000\n",
      "2017-03-25 00:43:39,163 - DEBUG - Setting mag_sed1 to 27.500000\n",
      "2017-03-25 00:43:39,164 - DEBUG - Setting mag_sed2 to 99.000000\n",
      "2017-03-25 00:43:39,165 - DEBUG - Setting mag_sed3 to 99.000000\n",
      "2017-03-25 00:43:39,167 - DEBUG - Setting mag_sed4 to 99.000000\n",
      "2017-03-25 00:43:39,168 - DEBUG - Setting dx to 0.000000\n",
      "2017-03-25 00:43:39,169 - DEBUG - Setting dy to 0.000000\n",
      "2017-03-25 00:43:39,483 - DEBUG - Setting redshift to 1.000000\n",
      "2017-03-25 00:43:39,484 - DEBUG - Setting nu to 0.500000\n",
      "2017-03-25 00:43:39,485 - DEBUG - Setting hlr to 1.000000\n",
      "2017-03-25 00:43:39,486 - DEBUG - Setting e1 to 0.000000\n",
      "2017-03-25 00:43:39,487 - DEBUG - Setting e2 to 0.000000\n",
      "2017-03-25 00:43:39,488 - DEBUG - Setting mag_sed1 to 27.500000\n",
      "2017-03-25 00:43:39,489 - DEBUG - Setting mag_sed2 to 99.000000\n",
      "2017-03-25 00:43:39,491 - DEBUG - Setting mag_sed3 to 99.000000\n",
      "2017-03-25 00:43:39,491 - DEBUG - Setting mag_sed4 to 99.000000\n",
      "2017-03-25 00:43:39,493 - DEBUG - Setting dx to 0.000000\n",
      "2017-03-25 00:43:39,494 - DEBUG - Setting dy to 0.000000\n",
      "2017-03-25 00:43:39,803 - DEBUG - Setting redshift to 1.000000\n",
      "2017-03-25 00:43:39,804 - DEBUG - Setting nu to 0.500000\n",
      "2017-03-25 00:43:39,805 - DEBUG - Setting hlr to 1.000000\n",
      "2017-03-25 00:43:39,806 - DEBUG - Setting e1 to 0.000000\n",
      "2017-03-25 00:43:39,807 - DEBUG - Setting e2 to 0.000000\n",
      "2017-03-25 00:43:39,808 - DEBUG - Setting mag_sed1 to 27.500000\n",
      "2017-03-25 00:43:39,810 - DEBUG - Setting mag_sed2 to 99.000000\n",
      "2017-03-25 00:43:39,811 - DEBUG - Setting mag_sed3 to 99.000000\n",
      "2017-03-25 00:43:39,812 - DEBUG - Setting mag_sed4 to 99.000000\n",
      "2017-03-25 00:43:39,814 - DEBUG - Setting dx to 0.000000\n",
      "2017-03-25 00:43:39,816 - DEBUG - Setting dy to 0.000000\n",
      "2017-03-25 00:43:40,112 - DEBUG - Setting redshift to 1.000000\n",
      "2017-03-25 00:43:40,113 - DEBUG - Setting nu to 0.500000\n",
      "2017-03-25 00:43:40,114 - DEBUG - Setting hlr to 1.000000\n",
      "2017-03-25 00:43:40,115 - DEBUG - Setting e1 to 0.000000\n",
      "2017-03-25 00:43:40,116 - DEBUG - Setting e2 to 0.000000\n",
      "2017-03-25 00:43:40,118 - DEBUG - Setting mag_sed1 to 27.500000\n",
      "2017-03-25 00:43:40,119 - DEBUG - Setting mag_sed2 to 99.000000\n",
      "2017-03-25 00:43:40,120 - DEBUG - Setting mag_sed3 to 99.000000\n",
      "2017-03-25 00:43:40,121 - DEBUG - Setting mag_sed4 to 99.000000\n",
      "2017-03-25 00:43:40,122 - DEBUG - Setting dx to 0.000000\n",
      "2017-03-25 00:43:40,124 - DEBUG - Setting dy to 0.000000\n",
      "2017-03-25 00:43:40,457 - DEBUG - Setting redshift to 1.000000\n",
      "2017-03-25 00:43:40,459 - DEBUG - Setting nu to 0.500000\n",
      "2017-03-25 00:43:40,460 - DEBUG - Setting hlr to 1.000000\n",
      "2017-03-25 00:43:40,462 - DEBUG - Setting e1 to 0.000000\n",
      "2017-03-25 00:43:40,463 - DEBUG - Setting e2 to 0.000000\n",
      "2017-03-25 00:43:40,465 - DEBUG - Setting mag_sed1 to 27.500000\n",
      "2017-03-25 00:43:40,466 - DEBUG - Setting mag_sed2 to 99.000000\n",
      "2017-03-25 00:43:40,467 - DEBUG - Setting mag_sed3 to 99.000000\n",
      "2017-03-25 00:43:40,468 - DEBUG - Setting mag_sed4 to 99.000000\n",
      "2017-03-25 00:43:40,469 - DEBUG - Setting dx to 0.000000\n",
      "2017-03-25 00:43:40,470 - DEBUG - Setting dy to 0.000000\n",
      "2017-03-25 00:43:40,824 - DEBUG - Setting redshift to 1.000000\n",
      "2017-03-25 00:43:40,825 - DEBUG - Setting nu to 0.500000\n",
      "2017-03-25 00:43:40,825 - DEBUG - Setting hlr to 1.000000\n",
      "2017-03-25 00:43:40,826 - DEBUG - Setting e1 to 0.000000\n",
      "2017-03-25 00:43:40,830 - DEBUG - Setting e2 to 0.000000\n",
      "2017-03-25 00:43:40,831 - DEBUG - Setting mag_sed1 to 27.500000\n",
      "2017-03-25 00:43:40,833 - DEBUG - Setting mag_sed2 to 99.000000\n",
      "2017-03-25 00:43:40,834 - DEBUG - Setting mag_sed3 to 99.000000\n",
      "2017-03-25 00:43:40,835 - DEBUG - Setting mag_sed4 to 99.000000\n",
      "2017-03-25 00:43:40,837 - DEBUG - Setting dx to 0.000000\n",
      "2017-03-25 00:43:40,838 - DEBUG - Setting dy to 0.000000\n",
      "2017-03-25 00:43:41,159 - DEBUG - Setting redshift to 1.000000\n",
      "2017-03-25 00:43:41,160 - DEBUG - Setting nu to 0.500000\n",
      "2017-03-25 00:43:41,161 - DEBUG - Setting hlr to 1.000000\n",
      "2017-03-25 00:43:41,162 - DEBUG - Setting e1 to 0.000000\n",
      "2017-03-25 00:43:41,163 - DEBUG - Setting e2 to 0.000000\n",
      "2017-03-25 00:43:41,165 - DEBUG - Setting mag_sed1 to 27.500000\n",
      "2017-03-25 00:43:41,166 - DEBUG - Setting mag_sed2 to 99.000000\n",
      "2017-03-25 00:43:41,167 - DEBUG - Setting mag_sed3 to 99.000000\n",
      "2017-03-25 00:43:41,168 - DEBUG - Setting mag_sed4 to 99.000000\n",
      "2017-03-25 00:43:41,169 - DEBUG - Setting dx to 0.000000\n",
      "2017-03-25 00:43:41,170 - DEBUG - Setting dy to 0.000000\n",
      "2017-03-25 00:43:41,504 - DEBUG - Setting redshift to 1.000000\n",
      "2017-03-25 00:43:41,505 - DEBUG - Setting nu to 0.500000\n",
      "2017-03-25 00:43:41,507 - DEBUG - Setting hlr to 1.000000\n",
      "2017-03-25 00:43:41,509 - DEBUG - Setting e1 to 0.000000\n",
      "2017-03-25 00:43:41,510 - DEBUG - Setting e2 to 0.000000\n",
      "2017-03-25 00:43:41,511 - DEBUG - Setting mag_sed1 to 27.500000\n",
      "2017-03-25 00:43:41,512 - DEBUG - Setting mag_sed2 to 99.000000\n",
      "2017-03-25 00:43:41,513 - DEBUG - Setting mag_sed3 to 99.000000\n",
      "2017-03-25 00:43:41,515 - DEBUG - Setting mag_sed4 to 99.000000\n",
      "2017-03-25 00:43:41,517 - DEBUG - Setting dx to 0.000000\n",
      "2017-03-25 00:43:41,518 - DEBUG - Setting dy to 0.000000\n",
      "2017-03-25 00:43:41,846 - DEBUG - Setting redshift to 1.000000\n",
      "2017-03-25 00:43:41,847 - DEBUG - Setting nu to 0.500000\n",
      "2017-03-25 00:43:41,848 - DEBUG - Setting hlr to 1.000000\n",
      "2017-03-25 00:43:41,849 - DEBUG - Setting e1 to 0.000000\n",
      "2017-03-25 00:43:41,850 - DEBUG - Setting e2 to 0.000000\n",
      "2017-03-25 00:43:41,852 - DEBUG - Setting mag_sed1 to 27.500000\n",
      "2017-03-25 00:43:41,853 - DEBUG - Setting mag_sed2 to 99.000000\n",
      "2017-03-25 00:43:41,854 - DEBUG - Setting mag_sed3 to 99.000000\n",
      "2017-03-25 00:43:41,855 - DEBUG - Setting mag_sed4 to 99.000000\n",
      "2017-03-25 00:43:41,856 - DEBUG - Setting dx to 0.000000\n",
      "2017-03-25 00:43:41,857 - DEBUG - Setting dy to 0.000000\n",
      "2017-03-25 00:43:42,181 - DEBUG - Setting redshift to 1.000000\n",
      "2017-03-25 00:43:42,181 - DEBUG - Setting nu to 0.500000\n",
      "2017-03-25 00:43:42,182 - DEBUG - Setting hlr to 1.000000\n",
      "2017-03-25 00:43:42,184 - DEBUG - Setting e1 to 0.000000\n",
      "2017-03-25 00:43:42,185 - DEBUG - Setting e2 to 0.000000\n",
      "2017-03-25 00:43:42,186 - DEBUG - Setting mag_sed1 to 27.500000\n",
      "2017-03-25 00:43:42,188 - DEBUG - Setting mag_sed2 to 99.000000\n",
      "2017-03-25 00:43:42,189 - DEBUG - Setting mag_sed3 to 99.000000\n",
      "2017-03-25 00:43:42,191 - DEBUG - Setting mag_sed4 to 99.000000\n",
      "2017-03-25 00:43:42,191 - DEBUG - Setting dx to 0.000000\n",
      "2017-03-25 00:43:42,193 - DEBUG - Setting dy to 0.000000\n",
      "2017-03-25 00:43:42,492 - DEBUG - Setting redshift to 1.000000\n",
      "2017-03-25 00:43:42,493 - DEBUG - Setting nu to 0.500000\n",
      "2017-03-25 00:43:42,494 - DEBUG - Setting hlr to 1.000000\n",
      "2017-03-25 00:43:42,495 - DEBUG - Setting e1 to 0.000000\n",
      "2017-03-25 00:43:42,496 - DEBUG - Setting e2 to 0.000000\n",
      "2017-03-25 00:43:42,498 - DEBUG - Setting mag_sed1 to 27.500000\n",
      "2017-03-25 00:43:42,499 - DEBUG - Setting mag_sed2 to 99.000000\n",
      "2017-03-25 00:43:42,500 - DEBUG - Setting mag_sed3 to 99.000000\n",
      "2017-03-25 00:43:42,502 - DEBUG - Setting mag_sed4 to 99.000000\n",
      "2017-03-25 00:43:42,503 - DEBUG - Setting dx to 0.000000\n",
      "2017-03-25 00:43:42,504 - DEBUG - Setting dy to 0.000000\n",
      "2017-03-25 00:43:42,852 - DEBUG - Setting redshift to 1.000000\n",
      "2017-03-25 00:43:42,853 - DEBUG - Setting nu to 0.500000\n",
      "2017-03-25 00:43:42,854 - DEBUG - Setting hlr to 1.000000\n",
      "2017-03-25 00:43:42,855 - DEBUG - Setting e1 to 0.000000\n",
      "2017-03-25 00:43:42,856 - DEBUG - Setting e2 to 0.000000\n",
      "2017-03-25 00:43:42,857 - DEBUG - Setting mag_sed1 to 27.500000\n",
      "2017-03-25 00:43:42,858 - DEBUG - Setting mag_sed2 to 99.000000\n",
      "2017-03-25 00:43:42,859 - DEBUG - Setting mag_sed3 to 99.000000\n",
      "2017-03-25 00:43:42,860 - DEBUG - Setting mag_sed4 to 99.000000\n",
      "2017-03-25 00:43:42,862 - DEBUG - Setting dx to 0.000000\n",
      "2017-03-25 00:43:42,863 - DEBUG - Setting dy to 0.000000\n",
      "2017-03-25 00:43:43,184 - DEBUG - Setting redshift to 1.000000\n",
      "2017-03-25 00:43:43,185 - DEBUG - Setting nu to 0.500000\n",
      "2017-03-25 00:43:43,186 - DEBUG - Setting hlr to 1.000000\n",
      "2017-03-25 00:43:43,187 - DEBUG - Setting e1 to 0.000000\n",
      "2017-03-25 00:43:43,188 - DEBUG - Setting e2 to 0.000000\n",
      "2017-03-25 00:43:43,190 - DEBUG - Setting mag_sed1 to 27.500000\n",
      "2017-03-25 00:43:43,191 - DEBUG - Setting mag_sed2 to 99.000000\n",
      "2017-03-25 00:43:43,192 - DEBUG - Setting mag_sed3 to 99.000000\n",
      "2017-03-25 00:43:43,193 - DEBUG - Setting mag_sed4 to 99.000000\n",
      "2017-03-25 00:43:43,194 - DEBUG - Setting dx to 0.000000\n",
      "2017-03-25 00:43:43,195 - DEBUG - Setting dy to 0.000000\n",
      "2017-03-25 00:43:43,540 - DEBUG - Setting redshift to 1.000000\n",
      "2017-03-25 00:43:43,541 - DEBUG - Setting nu to 0.500000\n",
      "2017-03-25 00:43:43,542 - DEBUG - Setting hlr to 1.000000\n",
      "2017-03-25 00:43:43,543 - DEBUG - Setting e1 to 0.000000\n",
      "2017-03-25 00:43:43,545 - DEBUG - Setting e2 to 0.000000\n",
      "2017-03-25 00:43:43,546 - DEBUG - Setting mag_sed1 to 27.500000\n",
      "2017-03-25 00:43:43,548 - DEBUG - Setting mag_sed2 to 99.000000\n",
      "2017-03-25 00:43:43,550 - DEBUG - Setting mag_sed3 to 99.000000\n",
      "2017-03-25 00:43:43,551 - DEBUG - Setting mag_sed4 to 99.000000\n",
      "2017-03-25 00:43:43,553 - DEBUG - Setting dx to 0.000000\n",
      "2017-03-25 00:43:43,553 - DEBUG - Setting dy to 0.000000\n",
      "2017-03-25 00:43:43,888 - DEBUG - Setting redshift to 1.000000\n",
      "2017-03-25 00:43:43,890 - DEBUG - Setting nu to 0.500000\n",
      "2017-03-25 00:43:43,891 - DEBUG - Setting hlr to 1.000000\n",
      "2017-03-25 00:43:43,893 - DEBUG - Setting e1 to 0.000000\n",
      "2017-03-25 00:43:43,894 - DEBUG - Setting e2 to 0.000000\n",
      "2017-03-25 00:43:43,895 - DEBUG - Setting mag_sed1 to 27.500000\n",
      "2017-03-25 00:43:43,896 - DEBUG - Setting mag_sed2 to 99.000000\n",
      "2017-03-25 00:43:43,899 - DEBUG - Setting mag_sed3 to 99.000000\n",
      "2017-03-25 00:43:43,901 - DEBUG - Setting mag_sed4 to 99.000000\n",
      "2017-03-25 00:43:43,902 - DEBUG - Setting dx to 0.000000\n",
      "2017-03-25 00:43:43,903 - DEBUG - Setting dy to 0.000000\n",
      "2017-03-25 00:43:44,242 - DEBUG - Setting redshift to 1.000000\n",
      "2017-03-25 00:43:44,242 - DEBUG - Setting nu to 0.500000\n",
      "2017-03-25 00:43:44,243 - DEBUG - Setting hlr to 1.000000\n",
      "2017-03-25 00:43:44,244 - DEBUG - Setting e1 to 0.000000\n",
      "2017-03-25 00:43:44,245 - DEBUG - Setting e2 to 0.000000\n",
      "2017-03-25 00:43:44,247 - DEBUG - Setting mag_sed1 to 27.500000\n",
      "2017-03-25 00:43:44,249 - DEBUG - Setting mag_sed2 to 99.000000\n",
      "2017-03-25 00:43:44,251 - DEBUG - Setting mag_sed3 to 99.000000\n",
      "2017-03-25 00:43:44,252 - DEBUG - Setting mag_sed4 to 99.000000\n",
      "2017-03-25 00:43:44,254 - DEBUG - Setting dx to 0.000000\n",
      "2017-03-25 00:43:44,256 - DEBUG - Setting dy to 0.000000\n",
      "2017-03-25 00:43:44,583 - DEBUG - Setting redshift to 1.000000\n",
      "2017-03-25 00:43:44,584 - DEBUG - Setting nu to 0.500000\n",
      "2017-03-25 00:43:44,586 - DEBUG - Setting hlr to 1.000000\n",
      "2017-03-25 00:43:44,587 - DEBUG - Setting e1 to 0.000000\n",
      "2017-03-25 00:43:44,589 - DEBUG - Setting e2 to 0.000000\n",
      "2017-03-25 00:43:44,590 - DEBUG - Setting mag_sed1 to 27.500000\n",
      "2017-03-25 00:43:44,591 - DEBUG - Setting mag_sed2 to 99.000000\n",
      "2017-03-25 00:43:44,592 - DEBUG - Setting mag_sed3 to 99.000000\n",
      "2017-03-25 00:43:44,593 - DEBUG - Setting mag_sed4 to 99.000000\n",
      "2017-03-25 00:43:44,594 - DEBUG - Setting dx to 0.000000\n",
      "2017-03-25 00:43:44,596 - DEBUG - Setting dy to 0.000000\n",
      "2017-03-25 00:43:44,909 - DEBUG - Setting redshift to 1.000000\n",
      "2017-03-25 00:43:44,910 - DEBUG - Setting nu to 0.500000\n",
      "2017-03-25 00:43:44,911 - DEBUG - Setting hlr to 1.000000\n",
      "2017-03-25 00:43:44,912 - DEBUG - Setting e1 to 0.000000\n",
      "2017-03-25 00:43:44,913 - DEBUG - Setting e2 to 0.000000\n",
      "2017-03-25 00:43:44,915 - DEBUG - Setting mag_sed1 to 27.500000\n",
      "2017-03-25 00:43:44,916 - DEBUG - Setting mag_sed2 to 99.000000\n",
      "2017-03-25 00:43:44,917 - DEBUG - Setting mag_sed3 to 99.000000\n",
      "2017-03-25 00:43:44,919 - DEBUG - Setting mag_sed4 to 99.000000\n",
      "2017-03-25 00:43:44,920 - DEBUG - Setting dx to 0.000000\n",
      "2017-03-25 00:43:44,923 - DEBUG - Setting dy to 0.000000\n",
      "2017-03-25 00:43:45,262 - DEBUG - Setting redshift to 1.000000\n",
      "2017-03-25 00:43:45,263 - DEBUG - Setting nu to 0.500000\n",
      "2017-03-25 00:43:45,264 - DEBUG - Setting hlr to 1.000000\n",
      "2017-03-25 00:43:45,265 - DEBUG - Setting e1 to 0.000000\n",
      "2017-03-25 00:43:45,266 - DEBUG - Setting e2 to 0.000000\n",
      "2017-03-25 00:43:45,268 - DEBUG - Setting mag_sed1 to 27.500000\n",
      "2017-03-25 00:43:45,269 - DEBUG - Setting mag_sed2 to 99.000000\n",
      "2017-03-25 00:43:45,270 - DEBUG - Setting mag_sed3 to 99.000000\n",
      "2017-03-25 00:43:45,271 - DEBUG - Setting mag_sed4 to 99.000000\n",
      "2017-03-25 00:43:45,274 - DEBUG - Setting dx to 0.000000\n",
      "2017-03-25 00:43:45,275 - DEBUG - Setting dy to 0.000000\n",
      "2017-03-25 00:43:45,631 - DEBUG - Setting redshift to 1.000000\n",
      "2017-03-25 00:43:45,632 - DEBUG - Setting nu to 0.500000\n",
      "2017-03-25 00:43:45,633 - DEBUG - Setting hlr to 1.000000\n",
      "2017-03-25 00:43:45,634 - DEBUG - Setting e1 to 0.000000\n",
      "2017-03-25 00:43:45,635 - DEBUG - Setting e2 to 0.000000\n",
      "2017-03-25 00:43:45,637 - DEBUG - Setting mag_sed1 to 27.500000\n",
      "2017-03-25 00:43:45,638 - DEBUG - Setting mag_sed2 to 99.000000\n",
      "2017-03-25 00:43:45,639 - DEBUG - Setting mag_sed3 to 99.000000\n",
      "2017-03-25 00:43:45,641 - DEBUG - Setting mag_sed4 to 99.000000\n",
      "2017-03-25 00:43:45,642 - DEBUG - Setting dx to 0.000000\n",
      "2017-03-25 00:43:45,643 - DEBUG - Setting dy to 0.000000\n",
      "2017-03-25 00:43:45,960 - DEBUG - Setting redshift to 1.000000\n",
      "2017-03-25 00:43:45,961 - DEBUG - Setting nu to 0.500000\n",
      "2017-03-25 00:43:45,962 - DEBUG - Setting hlr to 1.000000\n",
      "2017-03-25 00:43:45,963 - DEBUG - Setting e1 to 0.000000\n",
      "2017-03-25 00:43:45,964 - DEBUG - Setting e2 to 0.000000\n",
      "2017-03-25 00:43:45,965 - DEBUG - Setting mag_sed1 to 27.500000\n",
      "2017-03-25 00:43:45,966 - DEBUG - Setting mag_sed2 to 99.000000\n",
      "2017-03-25 00:43:45,968 - DEBUG - Setting mag_sed3 to 99.000000\n",
      "2017-03-25 00:43:45,969 - DEBUG - Setting mag_sed4 to 99.000000\n",
      "2017-03-25 00:43:45,970 - DEBUG - Setting dx to 0.000000\n",
      "2017-03-25 00:43:45,972 - DEBUG - Setting dy to 0.000000\n",
      "2017-03-25 00:43:46,285 - DEBUG - Setting redshift to 1.000000\n",
      "2017-03-25 00:43:46,286 - DEBUG - Setting nu to 0.500000\n",
      "2017-03-25 00:43:46,287 - DEBUG - Setting hlr to 1.000000\n",
      "2017-03-25 00:43:46,288 - DEBUG - Setting e1 to 0.000000\n",
      "2017-03-25 00:43:46,289 - DEBUG - Setting e2 to 0.000000\n",
      "2017-03-25 00:43:46,290 - DEBUG - Setting mag_sed1 to 27.500000\n",
      "2017-03-25 00:43:46,291 - DEBUG - Setting mag_sed2 to 99.000000\n",
      "2017-03-25 00:43:46,292 - DEBUG - Setting mag_sed3 to 99.000000\n",
      "2017-03-25 00:43:46,294 - DEBUG - Setting mag_sed4 to 99.000000\n",
      "2017-03-25 00:43:46,295 - DEBUG - Setting dx to 0.000000\n",
      "2017-03-25 00:43:46,296 - DEBUG - Setting dy to 0.000000\n",
      "2017-03-25 00:43:46,598 - DEBUG - Setting redshift to 1.000000\n",
      "2017-03-25 00:43:46,599 - DEBUG - Setting nu to 0.500000\n",
      "2017-03-25 00:43:46,600 - DEBUG - Setting hlr to 1.000000\n",
      "2017-03-25 00:43:46,601 - DEBUG - Setting e1 to 0.000000\n",
      "2017-03-25 00:43:46,603 - DEBUG - Setting e2 to 0.000000\n",
      "2017-03-25 00:43:46,604 - DEBUG - Setting mag_sed1 to 27.500000\n",
      "2017-03-25 00:43:46,605 - DEBUG - Setting mag_sed2 to 99.000000\n",
      "2017-03-25 00:43:46,606 - DEBUG - Setting mag_sed3 to 99.000000\n",
      "2017-03-25 00:43:46,607 - DEBUG - Setting mag_sed4 to 99.000000\n",
      "2017-03-25 00:43:46,608 - DEBUG - Setting dx to 0.000000\n",
      "2017-03-25 00:43:46,609 - DEBUG - Setting dy to 0.000000\n",
      "2017-03-25 00:43:46,897 - DEBUG - Setting redshift to 1.000000\n",
      "2017-03-25 00:43:46,897 - DEBUG - Setting nu to 0.500000\n",
      "2017-03-25 00:43:46,898 - DEBUG - Setting hlr to 1.000000\n",
      "2017-03-25 00:43:46,899 - DEBUG - Setting e1 to 0.000000\n",
      "2017-03-25 00:43:46,900 - DEBUG - Setting e2 to 0.000000\n",
      "2017-03-25 00:43:46,901 - DEBUG - Setting mag_sed1 to 27.500000\n",
      "2017-03-25 00:43:46,902 - DEBUG - Setting mag_sed2 to 99.000000\n",
      "2017-03-25 00:43:46,903 - DEBUG - Setting mag_sed3 to 99.000000\n",
      "2017-03-25 00:43:46,905 - DEBUG - Setting mag_sed4 to 99.000000\n",
      "2017-03-25 00:43:46,906 - DEBUG - Setting dx to 0.000000\n",
      "2017-03-25 00:43:46,907 - DEBUG - Setting dy to 0.000000\n",
      "2017-03-25 00:43:47,227 - DEBUG - Setting redshift to 1.000000\n",
      "2017-03-25 00:43:47,228 - DEBUG - Setting nu to 0.500000\n",
      "2017-03-25 00:43:47,229 - DEBUG - Setting hlr to 1.000000\n",
      "2017-03-25 00:43:47,230 - DEBUG - Setting e1 to 0.000000\n",
      "2017-03-25 00:43:47,232 - DEBUG - Setting e2 to 0.000000\n",
      "2017-03-25 00:43:47,233 - DEBUG - Setting mag_sed1 to 27.500000\n",
      "2017-03-25 00:43:47,234 - DEBUG - Setting mag_sed2 to 99.000000\n",
      "2017-03-25 00:43:47,235 - DEBUG - Setting mag_sed3 to 99.000000\n",
      "2017-03-25 00:43:47,237 - DEBUG - Setting mag_sed4 to 99.000000\n",
      "2017-03-25 00:43:47,238 - DEBUG - Setting dx to 0.000000\n",
      "2017-03-25 00:43:47,239 - DEBUG - Setting dy to 0.000000\n",
      "2017-03-25 00:43:47,572 - DEBUG - Setting redshift to 1.000000\n",
      "2017-03-25 00:43:47,573 - DEBUG - Setting nu to 0.500000\n",
      "2017-03-25 00:43:47,574 - DEBUG - Setting hlr to 1.000000\n",
      "2017-03-25 00:43:47,575 - DEBUG - Setting e1 to 0.000000\n",
      "2017-03-25 00:43:47,576 - DEBUG - Setting e2 to 0.000000\n",
      "2017-03-25 00:43:47,577 - DEBUG - Setting mag_sed1 to 27.500000\n",
      "2017-03-25 00:43:47,578 - DEBUG - Setting mag_sed2 to 99.000000\n",
      "2017-03-25 00:43:47,580 - DEBUG - Setting mag_sed3 to 99.000000\n",
      "2017-03-25 00:43:47,581 - DEBUG - Setting mag_sed4 to 99.000000\n",
      "2017-03-25 00:43:47,583 - DEBUG - Setting dx to 0.000000\n",
      "2017-03-25 00:43:47,584 - DEBUG - Setting dy to 0.000000\n",
      "2017-03-25 00:43:47,898 - DEBUG - Setting redshift to 1.000000\n",
      "2017-03-25 00:43:47,899 - DEBUG - Setting nu to 0.500000\n",
      "2017-03-25 00:43:47,900 - DEBUG - Setting hlr to 1.000000\n",
      "2017-03-25 00:43:47,901 - DEBUG - Setting e1 to 0.000000\n",
      "2017-03-25 00:43:47,902 - DEBUG - Setting e2 to 0.000000\n",
      "2017-03-25 00:43:47,903 - DEBUG - Setting mag_sed1 to 27.500000\n",
      "2017-03-25 00:43:47,904 - DEBUG - Setting mag_sed2 to 99.000000\n",
      "2017-03-25 00:43:47,905 - DEBUG - Setting mag_sed3 to 99.000000\n",
      "2017-03-25 00:43:47,906 - DEBUG - Setting mag_sed4 to 99.000000\n",
      "2017-03-25 00:43:47,908 - DEBUG - Setting dx to 0.000000\n",
      "2017-03-25 00:43:47,909 - DEBUG - Setting dy to 0.000000\n"
     ]
    },
    {
     "data": {
      "text/plain": [
       "<matplotlib.text.Text at 0x10d91ff10>"
      ]
     },
     "execution_count": 11,
     "metadata": {},
     "output_type": "execute_result"
    },
    {
     "data": {
      "image/png": "[encoded data removed]",
      "text/plain": [
       "<matplotlib.figure.Figure at 0x10d565990>"
      ]
     },
     "metadata": {},
     "output_type": "display_data"
    }
   ],
   "source": [
    "niter = 50\n",
    "nu_ml = 0.0\n",
    "\n",
    "fig = plt.figure(figsize=(8, 8/1.618))\n",
    "for inoise in xrange(niter):\n",
    "    images = rstr.render_model_images(nimages=1, nx=[80], ny=[80],\n",
    "                                      tel_names=['LSST'], psfs=['model'], noise_var=1.e2)\n",
    "    lnp = np.array([rstr([nu_i]) for nu_i in nu])\n",
    "    nu_ml += nu[np.argmax(lnp)]\n",
    "    plt.plot(nu, np.exp(lnp - np.max(lnp)), color=\"#348ABD\", alpha=0.3)\n",
    "nu_ml /= niter\n",
    "plt.axvline(0.5, color='grey')\n",
    "plt.axvline(nu_ml, color='red', linestyle='dashed')\n",
    "plt.xlabel(r\"$\\nu$\", fontsize=18)\n",
    "plt.ylabel(r\"Pr($\\nu$)\", fontsize=18)"
   ]
  },
  {
   "cell_type": "markdown",
   "metadata": {
    "collapsed": true,
    "deletable": true,
    "editable": true
   },
   "source": [
    "## Input image from GREAT3-like simulation"
   ]
  },
  {
   "cell_type": "code",
   "execution_count": 74,
   "metadata": {
    "collapsed": true
   },
   "outputs": [],
   "source": [
    "from astropy.io import fits\n",
    "\n",
    "iepoch = 0"
   ]
  },
  {
   "cell_type": "code",
   "execution_count": 75,
   "metadata": {
    "collapsed": false
   },
   "outputs": [],
   "source": [
    "f = fits.open(\"sim/control/ground/constant/epoch_catalog-000-0.fits\")\n",
    "sim_catalog = f[1].data"
   ]
  },
  {
   "cell_type": "code",
   "execution_count": 76,
   "metadata": {
    "collapsed": false
   },
   "outputs": [
    {
     "name": "stdout",
     "output_type": "stream",
     "text": [
      "ColDefs(\n",
      "    name = 'num'; format = 'J'\n",
      "    name = 'x'; format = 'D'\n",
      "    name = 'y'; format = 'D'\n",
      "    name = 'dx'; format = 'D'\n",
      "    name = 'dy'; format = 'D'\n",
      "    name = 'psf_e1'; format = 'D'\n",
      "    name = 'psf_e2'; format = 'D'\n",
      "    name = 'psf_fwhm'; format = 'D'\n",
      "    name = 'g1'; format = 'D'\n",
      "    name = 'g2'; format = 'D'\n",
      "    name = 'gal_e1'; format = 'D'\n",
      "    name = 'gal_e2'; format = 'D'\n",
      ")\n"
     ]
    }
   ],
   "source": [
    "colnames = f[1].columns\n",
    "f.close()\n",
    "print colnames"
   ]
  },
  {
   "cell_type": "code",
   "execution_count": 77,
   "metadata": {
    "collapsed": false
   },
   "outputs": [
    {
     "name": "stdout",
     "output_type": "stream",
     "text": [
      "<class 'astropy.io.fits.column.ColDefs'>\n",
      "['num', 'x', 'y', 'dx', 'dy', 'psf_e1', 'psf_e2', 'psf_fwhm', 'g1', 'g2', 'gal_e1', 'gal_e2']\n",
      "10\n"
     ]
    }
   ],
   "source": [
    "print colnames.__class__\n",
    "print colnames.names\n",
    "\n",
    "def colndx(colname):\n",
    "    \"\"\"\n",
    "    Return the column index corresponding to the given name\n",
    "    \"\"\"\n",
    "    return np.argwhere([x == colname for x in colnames.names])[0][0]\n",
    "print colndx('gal_e1')"
   ]
  },
  {
   "cell_type": "code",
   "execution_count": 78,
   "metadata": {
    "collapsed": false
   },
   "outputs": [
    {
     "data": {
      "text/plain": [
       "(0, 24.5, 24.5, -0.98060578946024179, -0.41024529468268156, 0.0, 0.0, 0.69999999999999996, 0.0014178461995583019, -0.041486870981251006, 0.0019704378462152999, -0.0030702104754297879)"
      ]
     },
     "execution_count": 78,
     "metadata": {},
     "output_type": "execute_result"
    }
   ],
   "source": [
    "sim_catalog[iepoch]"
   ]
  },
  {
   "cell_type": "markdown",
   "metadata": {},
   "source": [
    "### Load the data image"
   ]
  },
  {
   "cell_type": "code",
   "execution_count": 79,
   "metadata": {
    "collapsed": false
   },
   "outputs": [],
   "source": [
    "f = fits.open(\"sim/control/ground/constant/image-000-0.fits\")\n",
    "dat = f[0].data\n",
    "f.close()"
   ]
  },
  {
   "cell_type": "code",
   "execution_count": 80,
   "metadata": {
    "collapsed": false
   },
   "outputs": [
    {
     "data": {
      "text/plain": [
       "<matplotlib.colorbar.Colorbar at 0x10efa8550>"
      ]
     },
     "execution_count": 80,
     "metadata": {},
     "output_type": "execute_result"
    },
    {
     "data": {
      "image/png": "[encoded data removed]",
      "text/plain": [
       "<matplotlib.figure.Figure at 0x10eaafb90>"
      ]
     },
     "metadata": {},
     "output_type": "display_data"
    }
   ],
   "source": [
    "nx = 48\n",
    "i, j = np.unravel_index(iepoch, (nx, nx))\n",
    "\n",
    "dat_seg = dat[(i*nx):((i+1)*nx), (j*nx):((j+1)*nx)]\n",
    "plt.imshow(dat_seg, interpolation='none', origin='lower')\n",
    "plt.colorbar()"
   ]
  },
  {
   "cell_type": "markdown",
   "metadata": {},
   "source": [
    "### Mimic the Roaster 'Load' function\n",
    "\n",
    "The Load() function is not flexible enough for this problem. So we mimic the load functionality here."
   ]
  },
  {
   "cell_type": "code",
   "execution_count": 81,
   "metadata": {
    "collapsed": false
   },
   "outputs": [],
   "source": [
    "rstr_sb = jif.Roaster(\"sim/roaster_shear_bias_test.yaml\")"
   ]
  },
  {
   "cell_type": "code",
   "execution_count": 82,
   "metadata": {
    "collapsed": false
   },
   "outputs": [
    {
     "name": "stdout",
     "output_type": "stream",
     "text": [
      "{'data': {'data_format': 'jif_segment',\n",
      "          'epoch_num': -1,\n",
      "          'filters': 'r',\n",
      "          'segment_number': 0,\n",
      "          'telescope': 'LSST'},\n",
      " 'infiles': {'infile_1': './sim/roaster_model_image.h5'},\n",
      " 'init': {'init_param_file': 'sim/roaster_params_shear_bias_test.cfg',\n",
      "          'seed': 9216526},\n",
      " 'metadata': {'outfile': './sim/roaster_out'},\n",
      " 'model': {'achromatic': True,\n",
      "           'galaxy_model_type': 'Spergel',\n",
      "           'model_params': 'nu',\n",
      "           'num_sources': 1},\n",
      " 'run': {'debug': False, 'output_model': True, 'quiet': True},\n",
      " 'sampling': {'nburn': 200,\n",
      "              'nsamples': 500,\n",
      "              'nthreads': 1,\n",
      "              'nwalkers': 32,\n",
      "              'sampler': 'emcee'}}\n"
     ]
    }
   ],
   "source": [
    "pprint.pprint(rstr_sb.config)"
   ]
  },
  {
   "cell_type": "code",
   "execution_count": 114,
   "metadata": {
    "collapsed": false
   },
   "outputs": [
    {
     "name": "stderr",
     "output_type": "stream",
     "text": [
      "2017-03-25 00:57:31,699 - DEBUG - Setting redshift to 1.000000\n",
      "2017-03-25 00:57:31,701 - DEBUG - Setting nu to 0.500000\n",
      "2017-03-25 00:57:31,702 - DEBUG - Setting hlr to 0.800000\n",
      "2017-03-25 00:57:31,704 - DEBUG - Setting e1 to 0.001970\n",
      "2017-03-25 00:57:31,705 - DEBUG - Setting e2 to -0.003070\n",
      "2017-03-25 00:57:31,706 - DEBUG - Setting mag_sed1 to 40.350000\n",
      "2017-03-25 00:57:31,707 - DEBUG - Setting mag_sed2 to 99.000000\n",
      "2017-03-25 00:57:31,708 - DEBUG - Setting mag_sed3 to 99.000000\n",
      "2017-03-25 00:57:31,710 - DEBUG - Setting mag_sed4 to 99.000000\n",
      "2017-03-25 00:57:31,711 - DEBUG - Setting dx to -0.196000\n",
      "2017-03-25 00:57:31,712 - DEBUG - Setting dy to -0.082000\n",
      "2017-03-25 00:57:31,713 - DEBUG - Setting psf_fwhm_0 to 0.700000\n",
      "2017-03-25 00:57:31,715 - DEBUG - Setting dx to -0.196121\n",
      "2017-03-25 00:57:31,717 - DEBUG - Setting dy to -0.082049\n",
      "2017-03-25 00:57:31,719 - DEBUG - Setting e1 to 0.000553\n",
      "2017-03-25 00:57:31,720 - DEBUG - Setting e2 to 0.038417\n",
      "2017-03-25 00:57:31,722 - DEBUG - Setting mag_sed1 to 40.350000\n",
      "2017-03-25 00:57:31,724 - DEBUG - Setting hlr to 0.700000\n"
     ]
    }
   ],
   "source": [
    "rstr_sb.pixel_data = [dat_seg]\n",
    "# rstr_sb.pix_noise_var = [np.var(dat_seg[0:20, 0:20])]\n",
    "rstr_sb.pix_noise_var = [1.e-6]\n",
    "\n",
    "rstr_sb.num_epochs = 1\n",
    "rstr_sb.nx = [nx]\n",
    "rstr_sb.ny = [nx]\n",
    "rstr_sb.filter_names = ['r']\n",
    "\n",
    "rstr_sb._init_galaxy_models(nimages=1, tel_names=['LSST'], psfs=['model'])\n",
    "rstr_sb.initialize_param_values(rstr_sb.config['init']['init_param_file'])\n",
    "\n",
    "rstr_sb.set_param_by_name('dx', sim_catalog[iepoch][colndx('dx')]*0.2)\n",
    "rstr_sb.set_param_by_name('dy', sim_catalog[iepoch][colndx('dy')]*0.2)\n",
    "rstr_sb.set_param_by_name('e1', sim_catalog[iepoch][colndx('gal_e1')] - sim_catalog[iepoch][colndx('g1')])\n",
    "rstr_sb.set_param_by_name('e2', sim_catalog[iepoch][colndx('gal_e2')] - sim_catalog[iepoch][colndx('g2')])\n",
    "\n",
    "rstr_sb.set_param_by_name('mag_sed1', 40.35)\n",
    "rstr_sb.set_param_by_name('hlr', 0.7)"
   ]
  },
  {
   "cell_type": "code",
   "execution_count": 115,
   "metadata": {
    "collapsed": false
   },
   "outputs": [
    {
     "data": {
      "text/plain": [
       "<matplotlib.image.AxesImage at 0x112bd5f10>"
      ]
     },
     "execution_count": 115,
     "metadata": {},
     "output_type": "execute_result"
    },
    {
     "data": {
      "image/png": "[encoded data removed]",
      "text/plain": [
       "<matplotlib.figure.Figure at 0x112767b50>"
      ]
     },
     "metadata": {},
     "output_type": "display_data"
    }
   ],
   "source": [
    "m = rstr_sb._get_model_image(iepochs=0)\n",
    "\n",
    "vmin=-0.005\n",
    "# vmax=0.013\n",
    "vmax = 0.005\n",
    "\n",
    "fig = plt.figure(figsize=(15,5))\n",
    "plt.subplot(1, 3, 1)\n",
    "plt.imshow(m.array, vmin=vmin, vmax=vmax)\n",
    "plt.subplot(1, 3, 2)\n",
    "plt.imshow(rstr_sb.pixel_data[0], vmin=vmin, vmax=vmax)\n",
    "plt.subplot(1, 3, 3)\n",
    "plt.imshow(rstr_sb.pixel_data[0] - m.array, vmin=vmin, vmax=vmax)"
   ]
  },
  {
   "cell_type": "markdown",
   "metadata": {},
   "source": [
    "### Check the 'nu' posterior"
   ]
  },
  {
   "cell_type": "code",
   "execution_count": 116,
   "metadata": {
    "collapsed": false
   },
   "outputs": [],
   "source": [
    "nu = np.linspace(-0.3, 0.8, 200)\n",
    "\n",
    "lnp = np.array([rstr_sb([nu_i]) for nu_i in nu])"
   ]
  },
  {
   "cell_type": "code",
   "execution_count": 117,
   "metadata": {
    "collapsed": false
   },
   "outputs": [
    {
     "data": {
      "text/plain": [
       "<matplotlib.text.Text at 0x112c814d0>"
      ]
     },
     "execution_count": 117,
     "metadata": {},
     "output_type": "execute_result"
    },
    {
     "data": {
      "image/png": "[encoded data removed]",
      "text/plain": [
       "<matplotlib.figure.Figure at 0x1125d6cd0>"
      ]
     },
     "metadata": {},
     "output_type": "display_data"
    }
   ],
   "source": [
    "plt.plot(nu, np.exp(lnp - np.max(lnp)), color=\"#348ABD\", alpha=1)\n",
    "plt.axvline(0.5, color='grey')\n",
    "plt.xlabel(r\"$\\nu$\", fontsize=18)\n",
    "plt.ylabel(r\"Pr($\\nu$)\", fontsize=18)"
   ]
  },
  {
   "cell_type": "code",
   "execution_count": null,
   "metadata": {
    "collapsed": true
   },
   "outputs": [],
   "source": []
  },
  {
   "cell_type": "code",
   "execution_count": null,
   "metadata": {
    "collapsed": true
   },
   "outputs": [],
   "source": []
  }
 ],
 "metadata": {
  "kernelspec": {
   "display_name": "Python 2",
   "language": "python",
   "name": "python2"
  },
  "language_info": {
   "codemirror_mode": {
    "name": "ipython",
    "version": 2
   },
   "file_extension": ".py",
   "mimetype": "text/x-python",
   "name": "python",
   "nbconvert_exporter": "python",
   "pygments_lexer": "ipython2",
   "version": "2.7.10"
  }
 },
 "nbformat": 4,
 "nbformat_minor": 2
}
