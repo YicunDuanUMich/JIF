{
 "cells": [
  {
   "cell_type": "code",
   "execution_count": 1,
   "metadata": {
    "collapsed": true,
    "deletable": true,
    "editable": true
   },
   "outputs": [],
   "source": [
    "import jif\n",
    "import numpy as np\n",
    "import pprint\n",
    "import matplotlib.pyplot as plt\n",
    "%matplotlib inline"
   ]
  },
  {
   "cell_type": "markdown",
   "metadata": {
    "deletable": true,
    "editable": true
   },
   "source": [
    "## Initialize roaster from YAML file"
   ]
  },
  {
   "cell_type": "code",
   "execution_count": 2,
   "metadata": {
    "collapsed": false,
    "deletable": true,
    "editable": true
   },
   "outputs": [],
   "source": [
    "rstr = jif.Roaster(\"roaster.yaml\")"
   ]
  },
  {
   "cell_type": "code",
   "execution_count": 3,
   "metadata": {
    "collapsed": false,
    "deletable": true,
    "editable": true
   },
   "outputs": [
    {
     "name": "stdout",
     "output_type": "stream",
     "text": [
      "{'data': {'data_format': 'jif_segment',\n",
      "          'epoch_num': -1,\n",
      "          'filters': 'r',\n",
      "          'segment_number': 0,\n",
      "          'telescope': 'LSST'},\n",
      " 'infiles': {'infile_1': 'output/roaster_model_image.h5'},\n",
      " 'init': {'init_param_file': 'roaster_params.cfg', 'seed': 9216526},\n",
      " 'metadata': {'outfile': '../output/TestData/roaster_out'},\n",
      " 'model': {'achromatic': True,\n",
      "           'galaxy_model_type': 'Spergel',\n",
      "           'model_params': 'nu',\n",
      "           'num_sources': 1},\n",
      " 'run': {'debug': False, 'output_model': True, 'quiet': True},\n",
      " 'sampling': {'nburn': 200,\n",
      "              'nsamples': 500,\n",
      "              'nthreads': 1,\n",
      "              'nwalkers': 32,\n",
      "              'sampler': 'emcee'}}\n"
     ]
    }
   ],
   "source": [
    "pprint.pprint(rstr.config)"
   ]
  },
  {
   "cell_type": "markdown",
   "metadata": {
    "deletable": true,
    "editable": true
   },
   "source": [
    "## Make the fake image data"
   ]
  },
  {
   "cell_type": "code",
   "execution_count": 4,
   "metadata": {
    "collapsed": false,
    "deletable": true,
    "editable": true
   },
   "outputs": [
    {
     "name": "stderr",
     "output_type": "stream",
     "text": [
      "2017-03-22 21:48:51,877 - DEBUG - Setting redshift to 1.000000\n",
      "2017-03-22 21:48:51,878 - DEBUG - Setting nu to 0.500000\n",
      "2017-03-22 21:48:51,880 - DEBUG - Setting hlr to 1.000000\n",
      "2017-03-22 21:48:51,882 - DEBUG - Setting e1 to 0.000000\n",
      "2017-03-22 21:48:51,883 - DEBUG - Setting e2 to 0.000000\n",
      "2017-03-22 21:48:51,884 - DEBUG - Setting mag_sed1 to 27.500000\n",
      "2017-03-22 21:48:51,885 - DEBUG - Setting mag_sed2 to 99.000000\n",
      "2017-03-22 21:48:51,887 - DEBUG - Setting mag_sed3 to 99.000000\n",
      "2017-03-22 21:48:51,888 - DEBUG - Setting mag_sed4 to 99.000000\n",
      "2017-03-22 21:48:51,889 - DEBUG - Setting dx to 0.000000\n",
      "2017-03-22 21:48:51,890 - DEBUG - Setting dy to 0.000000\n"
     ]
    }
   ],
   "source": [
    "images = rstr.render_model_images(nimages=1, nx=[80], ny=[80],\n",
    "                                  tel_names=['LSST'], psfs=['model'], noise_var=1.e2)"
   ]
  },
  {
   "cell_type": "code",
   "execution_count": 5,
   "metadata": {
    "collapsed": false,
    "deletable": true,
    "editable": true
   },
   "outputs": [
    {
     "data": {
      "text/plain": [
       "<matplotlib.colorbar.Colorbar at 0x10fa2ff10>"
      ]
     },
     "execution_count": 5,
     "metadata": {},
     "output_type": "execute_result"
    },
    {
     "data": {
      "image/png": "[encoded data removed]",
      "text/plain": [
       "<matplotlib.figure.Figure at 0x10f8c88d0>"
      ]
     },
     "metadata": {},
     "output_type": "display_data"
    }
   ],
   "source": [
    "plt.imshow(images[0].array, interpolation='none', origin='lower')\n",
    "plt.colorbar()"
   ]
  },
  {
   "cell_type": "markdown",
   "metadata": {
    "deletable": true,
    "editable": true
   },
   "source": [
    "## Evaluate the image likelihood"
   ]
  },
  {
   "cell_type": "code",
   "execution_count": 6,
   "metadata": {
    "collapsed": false,
    "deletable": true,
    "editable": true
   },
   "outputs": [
    {
     "data": {
      "text/plain": [
       "['nu']"
      ]
     },
     "execution_count": 6,
     "metadata": {},
     "output_type": "execute_result"
    }
   ],
   "source": [
    "rstr.model_paramnames"
   ]
  },
  {
   "cell_type": "code",
   "execution_count": 7,
   "metadata": {
    "collapsed": false,
    "deletable": true,
    "editable": true
   },
   "outputs": [],
   "source": [
    "nu = np.linspace(0.2, 0.8, 160)\n",
    "\n",
    "lnp = np.array([rstr([nu_i]) for nu_i in nu])"
   ]
  },
  {
   "cell_type": "code",
   "execution_count": 8,
   "metadata": {
    "collapsed": false,
    "deletable": true,
    "editable": true
   },
   "outputs": [
    {
     "data": {
      "text/plain": [
       "<matplotlib.text.Text at 0x10fbe9050>"
      ]
     },
     "execution_count": 8,
     "metadata": {},
     "output_type": "execute_result"
    },
    {
     "data": {
      "image/png": "[encoded data removed]",
      "text/plain": [
       "<matplotlib.figure.Figure at 0x10f8c8690>"
      ]
     },
     "metadata": {},
     "output_type": "display_data"
    }
   ],
   "source": [
    "plt.plot(nu, np.exp(lnp - np.max(lnp)), color=\"#348ABD\", alpha=1)\n",
    "plt.axvline(0.5, color='grey')\n",
    "plt.xlabel(r\"$\\nu$\", fontsize=18)\n",
    "plt.ylabel(r\"Pr($\\nu$)\", fontsize=18)"
   ]
  },
  {
   "cell_type": "markdown",
   "metadata": {
    "deletable": true,
    "editable": true
   },
   "source": [
    "## Loop the above sequence of operations over noise realizations"
   ]
  },
  {
   "cell_type": "code",
   "execution_count": 9,
   "metadata": {
    "collapsed": false,
    "deletable": true,
    "editable": true
   },
   "outputs": [
    {
     "name": "stderr",
     "output_type": "stream",
     "text": [
      "2017-03-22 21:48:56,680 - DEBUG - Setting redshift to 1.000000\n",
      "2017-03-22 21:48:56,682 - DEBUG - Setting nu to 0.500000\n",
      "2017-03-22 21:48:56,683 - DEBUG - Setting hlr to 1.000000\n",
      "2017-03-22 21:48:56,685 - DEBUG - Setting e1 to 0.000000\n",
      "2017-03-22 21:48:56,686 - DEBUG - Setting e2 to 0.000000\n",
      "2017-03-22 21:48:56,687 - DEBUG - Setting mag_sed1 to 27.500000\n",
      "2017-03-22 21:48:56,688 - DEBUG - Setting mag_sed2 to 99.000000\n",
      "2017-03-22 21:48:56,689 - DEBUG - Setting mag_sed3 to 99.000000\n",
      "2017-03-22 21:48:56,691 - DEBUG - Setting mag_sed4 to 99.000000\n",
      "2017-03-22 21:48:56,692 - DEBUG - Setting dx to 0.000000\n",
      "2017-03-22 21:48:56,693 - DEBUG - Setting dy to 0.000000\n",
      "2017-03-22 21:48:57,067 - DEBUG - Setting redshift to 1.000000\n",
      "2017-03-22 21:48:57,068 - DEBUG - Setting nu to 0.500000\n",
      "2017-03-22 21:48:57,069 - DEBUG - Setting hlr to 1.000000\n",
      "2017-03-22 21:48:57,071 - DEBUG - Setting e1 to 0.000000\n",
      "2017-03-22 21:48:57,072 - DEBUG - Setting e2 to 0.000000\n",
      "2017-03-22 21:48:57,073 - DEBUG - Setting mag_sed1 to 27.500000\n",
      "2017-03-22 21:48:57,075 - DEBUG - Setting mag_sed2 to 99.000000\n",
      "2017-03-22 21:48:57,076 - DEBUG - Setting mag_sed3 to 99.000000\n",
      "2017-03-22 21:48:57,077 - DEBUG - Setting mag_sed4 to 99.000000\n",
      "2017-03-22 21:48:57,079 - DEBUG - Setting dx to 0.000000\n",
      "2017-03-22 21:48:57,080 - DEBUG - Setting dy to 0.000000\n",
      "2017-03-22 21:48:57,444 - DEBUG - Setting redshift to 1.000000\n",
      "2017-03-22 21:48:57,445 - DEBUG - Setting nu to 0.500000\n",
      "2017-03-22 21:48:57,446 - DEBUG - Setting hlr to 1.000000\n",
      "2017-03-22 21:48:57,447 - DEBUG - Setting e1 to 0.000000\n",
      "2017-03-22 21:48:57,448 - DEBUG - Setting e2 to 0.000000\n",
      "2017-03-22 21:48:57,449 - DEBUG - Setting mag_sed1 to 27.500000\n",
      "2017-03-22 21:48:57,451 - DEBUG - Setting mag_sed2 to 99.000000\n",
      "2017-03-22 21:48:57,452 - DEBUG - Setting mag_sed3 to 99.000000\n",
      "2017-03-22 21:48:57,453 - DEBUG - Setting mag_sed4 to 99.000000\n",
      "2017-03-22 21:48:57,454 - DEBUG - Setting dx to 0.000000\n",
      "2017-03-22 21:48:57,456 - DEBUG - Setting dy to 0.000000\n",
      "2017-03-22 21:48:57,796 - DEBUG - Setting redshift to 1.000000\n",
      "2017-03-22 21:48:57,797 - DEBUG - Setting nu to 0.500000\n",
      "2017-03-22 21:48:57,798 - DEBUG - Setting hlr to 1.000000\n",
      "2017-03-22 21:48:57,799 - DEBUG - Setting e1 to 0.000000\n",
      "2017-03-22 21:48:57,800 - DEBUG - Setting e2 to 0.000000\n",
      "2017-03-22 21:48:57,801 - DEBUG - Setting mag_sed1 to 27.500000\n",
      "2017-03-22 21:48:57,803 - DEBUG - Setting mag_sed2 to 99.000000\n",
      "2017-03-22 21:48:57,804 - DEBUG - Setting mag_sed3 to 99.000000\n",
      "2017-03-22 21:48:57,805 - DEBUG - Setting mag_sed4 to 99.000000\n",
      "2017-03-22 21:48:57,806 - DEBUG - Setting dx to 0.000000\n",
      "2017-03-22 21:48:57,807 - DEBUG - Setting dy to 0.000000\n",
      "2017-03-22 21:48:58,114 - DEBUG - Setting redshift to 1.000000\n",
      "2017-03-22 21:48:58,115 - DEBUG - Setting nu to 0.500000\n",
      "2017-03-22 21:48:58,116 - DEBUG - Setting hlr to 1.000000\n",
      "2017-03-22 21:48:58,117 - DEBUG - Setting e1 to 0.000000\n",
      "2017-03-22 21:48:58,118 - DEBUG - Setting e2 to 0.000000\n",
      "2017-03-22 21:48:58,119 - DEBUG - Setting mag_sed1 to 27.500000\n",
      "2017-03-22 21:48:58,120 - DEBUG - Setting mag_sed2 to 99.000000\n",
      "2017-03-22 21:48:58,122 - DEBUG - Setting mag_sed3 to 99.000000\n",
      "2017-03-22 21:48:58,123 - DEBUG - Setting mag_sed4 to 99.000000\n",
      "2017-03-22 21:48:58,124 - DEBUG - Setting dx to 0.000000\n",
      "2017-03-22 21:48:58,125 - DEBUG - Setting dy to 0.000000\n",
      "2017-03-22 21:48:58,439 - DEBUG - Setting redshift to 1.000000\n",
      "2017-03-22 21:48:58,440 - DEBUG - Setting nu to 0.500000\n",
      "2017-03-22 21:48:58,441 - DEBUG - Setting hlr to 1.000000\n",
      "2017-03-22 21:48:58,442 - DEBUG - Setting e1 to 0.000000\n",
      "2017-03-22 21:48:58,443 - DEBUG - Setting e2 to 0.000000\n",
      "2017-03-22 21:48:58,445 - DEBUG - Setting mag_sed1 to 27.500000\n",
      "2017-03-22 21:48:58,446 - DEBUG - Setting mag_sed2 to 99.000000\n",
      "2017-03-22 21:48:58,447 - DEBUG - Setting mag_sed3 to 99.000000\n",
      "2017-03-22 21:48:58,448 - DEBUG - Setting mag_sed4 to 99.000000\n",
      "2017-03-22 21:48:58,449 - DEBUG - Setting dx to 0.000000\n",
      "2017-03-22 21:48:58,451 - DEBUG - Setting dy to 0.000000\n",
      "2017-03-22 21:48:58,743 - DEBUG - Setting redshift to 1.000000\n",
      "2017-03-22 21:48:58,744 - DEBUG - Setting nu to 0.500000\n",
      "2017-03-22 21:48:58,745 - DEBUG - Setting hlr to 1.000000\n",
      "2017-03-22 21:48:58,746 - DEBUG - Setting e1 to 0.000000\n",
      "2017-03-22 21:48:58,747 - DEBUG - Setting e2 to 0.000000\n",
      "2017-03-22 21:48:58,748 - DEBUG - Setting mag_sed1 to 27.500000\n",
      "2017-03-22 21:48:58,750 - DEBUG - Setting mag_sed2 to 99.000000\n",
      "2017-03-22 21:48:58,751 - DEBUG - Setting mag_sed3 to 99.000000\n",
      "2017-03-22 21:48:58,752 - DEBUG - Setting mag_sed4 to 99.000000\n",
      "2017-03-22 21:48:58,753 - DEBUG - Setting dx to 0.000000\n",
      "2017-03-22 21:48:58,754 - DEBUG - Setting dy to 0.000000\n",
      "2017-03-22 21:48:59,049 - DEBUG - Setting redshift to 1.000000\n",
      "2017-03-22 21:48:59,050 - DEBUG - Setting nu to 0.500000\n",
      "2017-03-22 21:48:59,051 - DEBUG - Setting hlr to 1.000000\n",
      "2017-03-22 21:48:59,052 - DEBUG - Setting e1 to 0.000000\n",
      "2017-03-22 21:48:59,053 - DEBUG - Setting e2 to 0.000000\n",
      "2017-03-22 21:48:59,054 - DEBUG - Setting mag_sed1 to 27.500000\n",
      "2017-03-22 21:48:59,056 - DEBUG - Setting mag_sed2 to 99.000000\n",
      "2017-03-22 21:48:59,057 - DEBUG - Setting mag_sed3 to 99.000000\n",
      "2017-03-22 21:48:59,058 - DEBUG - Setting mag_sed4 to 99.000000\n",
      "2017-03-22 21:48:59,059 - DEBUG - Setting dx to 0.000000\n",
      "2017-03-22 21:48:59,061 - DEBUG - Setting dy to 0.000000\n",
      "2017-03-22 21:48:59,373 - DEBUG - Setting redshift to 1.000000\n",
      "2017-03-22 21:48:59,374 - DEBUG - Setting nu to 0.500000\n",
      "2017-03-22 21:48:59,374 - DEBUG - Setting hlr to 1.000000\n",
      "2017-03-22 21:48:59,376 - DEBUG - Setting e1 to 0.000000\n",
      "2017-03-22 21:48:59,377 - DEBUG - Setting e2 to 0.000000\n",
      "2017-03-22 21:48:59,378 - DEBUG - Setting mag_sed1 to 27.500000\n",
      "2017-03-22 21:48:59,379 - DEBUG - Setting mag_sed2 to 99.000000\n",
      "2017-03-22 21:48:59,381 - DEBUG - Setting mag_sed3 to 99.000000\n",
      "2017-03-22 21:48:59,382 - DEBUG - Setting mag_sed4 to 99.000000\n",
      "2017-03-22 21:48:59,383 - DEBUG - Setting dx to 0.000000\n",
      "2017-03-22 21:48:59,384 - DEBUG - Setting dy to 0.000000\n",
      "2017-03-22 21:48:59,733 - DEBUG - Setting redshift to 1.000000\n",
      "2017-03-22 21:48:59,734 - DEBUG - Setting nu to 0.500000\n",
      "2017-03-22 21:48:59,735 - DEBUG - Setting hlr to 1.000000\n",
      "2017-03-22 21:48:59,736 - DEBUG - Setting e1 to 0.000000\n",
      "2017-03-22 21:48:59,738 - DEBUG - Setting e2 to 0.000000\n",
      "2017-03-22 21:48:59,739 - DEBUG - Setting mag_sed1 to 27.500000\n",
      "2017-03-22 21:48:59,740 - DEBUG - Setting mag_sed2 to 99.000000\n",
      "2017-03-22 21:48:59,741 - DEBUG - Setting mag_sed3 to 99.000000\n",
      "2017-03-22 21:48:59,742 - DEBUG - Setting mag_sed4 to 99.000000\n",
      "2017-03-22 21:48:59,744 - DEBUG - Setting dx to 0.000000\n",
      "2017-03-22 21:48:59,745 - DEBUG - Setting dy to 0.000000\n",
      "2017-03-22 21:49:00,069 - DEBUG - Setting redshift to 1.000000\n",
      "2017-03-22 21:49:00,070 - DEBUG - Setting nu to 0.500000\n",
      "2017-03-22 21:49:00,071 - DEBUG - Setting hlr to 1.000000\n",
      "2017-03-22 21:49:00,072 - DEBUG - Setting e1 to 0.000000\n",
      "2017-03-22 21:49:00,073 - DEBUG - Setting e2 to 0.000000\n",
      "2017-03-22 21:49:00,075 - DEBUG - Setting mag_sed1 to 27.500000\n",
      "2017-03-22 21:49:00,076 - DEBUG - Setting mag_sed2 to 99.000000\n",
      "2017-03-22 21:49:00,078 - DEBUG - Setting mag_sed3 to 99.000000\n",
      "2017-03-22 21:49:00,078 - DEBUG - Setting mag_sed4 to 99.000000\n",
      "2017-03-22 21:49:00,080 - DEBUG - Setting dx to 0.000000\n",
      "2017-03-22 21:49:00,081 - DEBUG - Setting dy to 0.000000\n",
      "2017-03-22 21:49:00,401 - DEBUG - Setting redshift to 1.000000\n",
      "2017-03-22 21:49:00,401 - DEBUG - Setting nu to 0.500000\n",
      "2017-03-22 21:49:00,402 - DEBUG - Setting hlr to 1.000000\n",
      "2017-03-22 21:49:00,403 - DEBUG - Setting e1 to 0.000000\n",
      "2017-03-22 21:49:00,405 - DEBUG - Setting e2 to 0.000000\n",
      "2017-03-22 21:49:00,406 - DEBUG - Setting mag_sed1 to 27.500000\n",
      "2017-03-22 21:49:00,407 - DEBUG - Setting mag_sed2 to 99.000000\n",
      "2017-03-22 21:49:00,408 - DEBUG - Setting mag_sed3 to 99.000000\n",
      "2017-03-22 21:49:00,410 - DEBUG - Setting mag_sed4 to 99.000000\n",
      "2017-03-22 21:49:00,411 - DEBUG - Setting dx to 0.000000\n",
      "2017-03-22 21:49:00,412 - DEBUG - Setting dy to 0.000000\n",
      "2017-03-22 21:49:00,742 - DEBUG - Setting redshift to 1.000000\n",
      "2017-03-22 21:49:00,743 - DEBUG - Setting nu to 0.500000\n",
      "2017-03-22 21:49:00,744 - DEBUG - Setting hlr to 1.000000\n",
      "2017-03-22 21:49:00,745 - DEBUG - Setting e1 to 0.000000\n",
      "2017-03-22 21:49:00,747 - DEBUG - Setting e2 to 0.000000\n",
      "2017-03-22 21:49:00,748 - DEBUG - Setting mag_sed1 to 27.500000\n",
      "2017-03-22 21:49:00,749 - DEBUG - Setting mag_sed2 to 99.000000\n",
      "2017-03-22 21:49:00,750 - DEBUG - Setting mag_sed3 to 99.000000\n",
      "2017-03-22 21:49:00,752 - DEBUG - Setting mag_sed4 to 99.000000\n",
      "2017-03-22 21:49:00,753 - DEBUG - Setting dx to 0.000000\n",
      "2017-03-22 21:49:00,754 - DEBUG - Setting dy to 0.000000\n",
      "2017-03-22 21:49:01,058 - DEBUG - Setting redshift to 1.000000\n",
      "2017-03-22 21:49:01,059 - DEBUG - Setting nu to 0.500000\n",
      "2017-03-22 21:49:01,060 - DEBUG - Setting hlr to 1.000000\n",
      "2017-03-22 21:49:01,061 - DEBUG - Setting e1 to 0.000000\n",
      "2017-03-22 21:49:01,063 - DEBUG - Setting e2 to 0.000000\n",
      "2017-03-22 21:49:01,064 - DEBUG - Setting mag_sed1 to 27.500000\n",
      "2017-03-22 21:49:01,065 - DEBUG - Setting mag_sed2 to 99.000000\n",
      "2017-03-22 21:49:01,066 - DEBUG - Setting mag_sed3 to 99.000000\n",
      "2017-03-22 21:49:01,067 - DEBUG - Setting mag_sed4 to 99.000000\n",
      "2017-03-22 21:49:01,068 - DEBUG - Setting dx to 0.000000\n",
      "2017-03-22 21:49:01,069 - DEBUG - Setting dy to 0.000000\n",
      "2017-03-22 21:49:01,363 - DEBUG - Setting redshift to 1.000000\n",
      "2017-03-22 21:49:01,364 - DEBUG - Setting nu to 0.500000\n",
      "2017-03-22 21:49:01,365 - DEBUG - Setting hlr to 1.000000\n",
      "2017-03-22 21:49:01,366 - DEBUG - Setting e1 to 0.000000\n",
      "2017-03-22 21:49:01,368 - DEBUG - Setting e2 to 0.000000\n",
      "2017-03-22 21:49:01,369 - DEBUG - Setting mag_sed1 to 27.500000\n",
      "2017-03-22 21:49:01,370 - DEBUG - Setting mag_sed2 to 99.000000\n",
      "2017-03-22 21:49:01,371 - DEBUG - Setting mag_sed3 to 99.000000\n",
      "2017-03-22 21:49:01,372 - DEBUG - Setting mag_sed4 to 99.000000\n",
      "2017-03-22 21:49:01,374 - DEBUG - Setting dx to 0.000000\n",
      "2017-03-22 21:49:01,375 - DEBUG - Setting dy to 0.000000\n",
      "2017-03-22 21:49:01,670 - DEBUG - Setting redshift to 1.000000\n",
      "2017-03-22 21:49:01,671 - DEBUG - Setting nu to 0.500000\n",
      "2017-03-22 21:49:01,672 - DEBUG - Setting hlr to 1.000000\n",
      "2017-03-22 21:49:01,672 - DEBUG - Setting e1 to 0.000000\n",
      "2017-03-22 21:49:01,674 - DEBUG - Setting e2 to 0.000000\n",
      "2017-03-22 21:49:01,676 - DEBUG - Setting mag_sed1 to 27.500000\n",
      "2017-03-22 21:49:01,678 - DEBUG - Setting mag_sed2 to 99.000000\n",
      "2017-03-22 21:49:01,679 - DEBUG - Setting mag_sed3 to 99.000000\n",
      "2017-03-22 21:49:01,680 - DEBUG - Setting mag_sed4 to 99.000000\n",
      "2017-03-22 21:49:01,681 - DEBUG - Setting dx to 0.000000\n",
      "2017-03-22 21:49:01,682 - DEBUG - Setting dy to 0.000000\n",
      "2017-03-22 21:49:01,999 - DEBUG - Setting redshift to 1.000000\n",
      "2017-03-22 21:49:02,000 - DEBUG - Setting nu to 0.500000\n",
      "2017-03-22 21:49:02,001 - DEBUG - Setting hlr to 1.000000\n",
      "2017-03-22 21:49:02,002 - DEBUG - Setting e1 to 0.000000\n",
      "2017-03-22 21:49:02,003 - DEBUG - Setting e2 to 0.000000\n",
      "2017-03-22 21:49:02,005 - DEBUG - Setting mag_sed1 to 27.500000\n",
      "2017-03-22 21:49:02,006 - DEBUG - Setting mag_sed2 to 99.000000\n",
      "2017-03-22 21:49:02,007 - DEBUG - Setting mag_sed3 to 99.000000\n",
      "2017-03-22 21:49:02,008 - DEBUG - Setting mag_sed4 to 99.000000\n",
      "2017-03-22 21:49:02,009 - DEBUG - Setting dx to 0.000000\n",
      "2017-03-22 21:49:02,010 - DEBUG - Setting dy to 0.000000\n",
      "2017-03-22 21:49:02,317 - DEBUG - Setting redshift to 1.000000\n",
      "2017-03-22 21:49:02,318 - DEBUG - Setting nu to 0.500000\n",
      "2017-03-22 21:49:02,319 - DEBUG - Setting hlr to 1.000000\n",
      "2017-03-22 21:49:02,320 - DEBUG - Setting e1 to 0.000000\n",
      "2017-03-22 21:49:02,321 - DEBUG - Setting e2 to 0.000000\n",
      "2017-03-22 21:49:02,322 - DEBUG - Setting mag_sed1 to 27.500000\n",
      "2017-03-22 21:49:02,323 - DEBUG - Setting mag_sed2 to 99.000000\n",
      "2017-03-22 21:49:02,324 - DEBUG - Setting mag_sed3 to 99.000000\n",
      "2017-03-22 21:49:02,325 - DEBUG - Setting mag_sed4 to 99.000000\n",
      "2017-03-22 21:49:02,327 - DEBUG - Setting dx to 0.000000\n",
      "2017-03-22 21:49:02,328 - DEBUG - Setting dy to 0.000000\n",
      "2017-03-22 21:49:02,648 - DEBUG - Setting redshift to 1.000000\n",
      "2017-03-22 21:49:02,650 - DEBUG - Setting nu to 0.500000\n",
      "2017-03-22 21:49:02,651 - DEBUG - Setting hlr to 1.000000\n",
      "2017-03-22 21:49:02,652 - DEBUG - Setting e1 to 0.000000\n",
      "2017-03-22 21:49:02,653 - DEBUG - Setting e2 to 0.000000\n",
      "2017-03-22 21:49:02,654 - DEBUG - Setting mag_sed1 to 27.500000\n",
      "2017-03-22 21:49:02,656 - DEBUG - Setting mag_sed2 to 99.000000\n",
      "2017-03-22 21:49:02,657 - DEBUG - Setting mag_sed3 to 99.000000\n",
      "2017-03-22 21:49:02,658 - DEBUG - Setting mag_sed4 to 99.000000\n",
      "2017-03-22 21:49:02,659 - DEBUG - Setting dx to 0.000000\n",
      "2017-03-22 21:49:02,661 - DEBUG - Setting dy to 0.000000\n",
      "2017-03-22 21:49:02,969 - DEBUG - Setting redshift to 1.000000\n",
      "2017-03-22 21:49:02,970 - DEBUG - Setting nu to 0.500000\n",
      "2017-03-22 21:49:02,971 - DEBUG - Setting hlr to 1.000000\n",
      "2017-03-22 21:49:02,972 - DEBUG - Setting e1 to 0.000000\n",
      "2017-03-22 21:49:02,974 - DEBUG - Setting e2 to 0.000000\n",
      "2017-03-22 21:49:02,975 - DEBUG - Setting mag_sed1 to 27.500000\n",
      "2017-03-22 21:49:02,976 - DEBUG - Setting mag_sed2 to 99.000000\n",
      "2017-03-22 21:49:02,977 - DEBUG - Setting mag_sed3 to 99.000000\n",
      "2017-03-22 21:49:02,979 - DEBUG - Setting mag_sed4 to 99.000000\n",
      "2017-03-22 21:49:02,980 - DEBUG - Setting dx to 0.000000\n",
      "2017-03-22 21:49:02,981 - DEBUG - Setting dy to 0.000000\n",
      "2017-03-22 21:49:03,285 - DEBUG - Setting redshift to 1.000000\n",
      "2017-03-22 21:49:03,287 - DEBUG - Setting nu to 0.500000\n",
      "2017-03-22 21:49:03,288 - DEBUG - Setting hlr to 1.000000\n",
      "2017-03-22 21:49:03,289 - DEBUG - Setting e1 to 0.000000\n",
      "2017-03-22 21:49:03,291 - DEBUG - Setting e2 to 0.000000\n",
      "2017-03-22 21:49:03,292 - DEBUG - Setting mag_sed1 to 27.500000\n",
      "2017-03-22 21:49:03,293 - DEBUG - Setting mag_sed2 to 99.000000\n",
      "2017-03-22 21:49:03,294 - DEBUG - Setting mag_sed3 to 99.000000\n",
      "2017-03-22 21:49:03,295 - DEBUG - Setting mag_sed4 to 99.000000\n",
      "2017-03-22 21:49:03,296 - DEBUG - Setting dx to 0.000000\n",
      "2017-03-22 21:49:03,298 - DEBUG - Setting dy to 0.000000\n",
      "2017-03-22 21:49:03,673 - DEBUG - Setting redshift to 1.000000\n",
      "2017-03-22 21:49:03,674 - DEBUG - Setting nu to 0.500000\n",
      "2017-03-22 21:49:03,675 - DEBUG - Setting hlr to 1.000000\n",
      "2017-03-22 21:49:03,677 - DEBUG - Setting e1 to 0.000000\n",
      "2017-03-22 21:49:03,678 - DEBUG - Setting e2 to 0.000000\n",
      "2017-03-22 21:49:03,679 - DEBUG - Setting mag_sed1 to 27.500000\n",
      "2017-03-22 21:49:03,680 - DEBUG - Setting mag_sed2 to 99.000000\n",
      "2017-03-22 21:49:03,681 - DEBUG - Setting mag_sed3 to 99.000000\n",
      "2017-03-22 21:49:03,682 - DEBUG - Setting mag_sed4 to 99.000000\n",
      "2017-03-22 21:49:03,684 - DEBUG - Setting dx to 0.000000\n",
      "2017-03-22 21:49:03,685 - DEBUG - Setting dy to 0.000000\n",
      "2017-03-22 21:49:03,993 - DEBUG - Setting redshift to 1.000000\n",
      "2017-03-22 21:49:03,994 - DEBUG - Setting nu to 0.500000\n",
      "2017-03-22 21:49:03,995 - DEBUG - Setting hlr to 1.000000\n",
      "2017-03-22 21:49:03,996 - DEBUG - Setting e1 to 0.000000\n",
      "2017-03-22 21:49:03,997 - DEBUG - Setting e2 to 0.000000\n",
      "2017-03-22 21:49:03,998 - DEBUG - Setting mag_sed1 to 27.500000\n",
      "2017-03-22 21:49:04,000 - DEBUG - Setting mag_sed2 to 99.000000\n",
      "2017-03-22 21:49:04,001 - DEBUG - Setting mag_sed3 to 99.000000\n",
      "2017-03-22 21:49:04,002 - DEBUG - Setting mag_sed4 to 99.000000\n",
      "2017-03-22 21:49:04,003 - DEBUG - Setting dx to 0.000000\n",
      "2017-03-22 21:49:04,005 - DEBUG - Setting dy to 0.000000\n",
      "2017-03-22 21:49:04,318 - DEBUG - Setting redshift to 1.000000\n",
      "2017-03-22 21:49:04,319 - DEBUG - Setting nu to 0.500000\n",
      "2017-03-22 21:49:04,320 - DEBUG - Setting hlr to 1.000000\n",
      "2017-03-22 21:49:04,321 - DEBUG - Setting e1 to 0.000000\n",
      "2017-03-22 21:49:04,322 - DEBUG - Setting e2 to 0.000000\n",
      "2017-03-22 21:49:04,324 - DEBUG - Setting mag_sed1 to 27.500000\n",
      "2017-03-22 21:49:04,326 - DEBUG - Setting mag_sed2 to 99.000000\n",
      "2017-03-22 21:49:04,327 - DEBUG - Setting mag_sed3 to 99.000000\n",
      "2017-03-22 21:49:04,328 - DEBUG - Setting mag_sed4 to 99.000000\n",
      "2017-03-22 21:49:04,329 - DEBUG - Setting dx to 0.000000\n",
      "2017-03-22 21:49:04,330 - DEBUG - Setting dy to 0.000000\n",
      "2017-03-22 21:49:04,667 - DEBUG - Setting redshift to 1.000000\n",
      "2017-03-22 21:49:04,669 - DEBUG - Setting nu to 0.500000\n",
      "2017-03-22 21:49:04,670 - DEBUG - Setting hlr to 1.000000\n",
      "2017-03-22 21:49:04,672 - DEBUG - Setting e1 to 0.000000\n",
      "2017-03-22 21:49:04,673 - DEBUG - Setting e2 to 0.000000\n",
      "2017-03-22 21:49:04,675 - DEBUG - Setting mag_sed1 to 27.500000\n",
      "2017-03-22 21:49:04,676 - DEBUG - Setting mag_sed2 to 99.000000\n",
      "2017-03-22 21:49:04,677 - DEBUG - Setting mag_sed3 to 99.000000\n",
      "2017-03-22 21:49:04,678 - DEBUG - Setting mag_sed4 to 99.000000\n",
      "2017-03-22 21:49:04,679 - DEBUG - Setting dx to 0.000000\n",
      "2017-03-22 21:49:04,680 - DEBUG - Setting dy to 0.000000\n",
      "2017-03-22 21:49:04,982 - DEBUG - Setting redshift to 1.000000\n",
      "2017-03-22 21:49:04,983 - DEBUG - Setting nu to 0.500000\n",
      "2017-03-22 21:49:04,984 - DEBUG - Setting hlr to 1.000000\n",
      "2017-03-22 21:49:04,985 - DEBUG - Setting e1 to 0.000000\n",
      "2017-03-22 21:49:04,986 - DEBUG - Setting e2 to 0.000000\n",
      "2017-03-22 21:49:04,987 - DEBUG - Setting mag_sed1 to 27.500000\n",
      "2017-03-22 21:49:04,988 - DEBUG - Setting mag_sed2 to 99.000000\n",
      "2017-03-22 21:49:04,990 - DEBUG - Setting mag_sed3 to 99.000000\n",
      "2017-03-22 21:49:04,991 - DEBUG - Setting mag_sed4 to 99.000000\n",
      "2017-03-22 21:49:04,992 - DEBUG - Setting dx to 0.000000\n",
      "2017-03-22 21:49:04,993 - DEBUG - Setting dy to 0.000000\n",
      "2017-03-22 21:49:05,294 - DEBUG - Setting redshift to 1.000000\n",
      "2017-03-22 21:49:05,294 - DEBUG - Setting nu to 0.500000\n",
      "2017-03-22 21:49:05,295 - DEBUG - Setting hlr to 1.000000\n",
      "2017-03-22 21:49:05,296 - DEBUG - Setting e1 to 0.000000\n",
      "2017-03-22 21:49:05,297 - DEBUG - Setting e2 to 0.000000\n",
      "2017-03-22 21:49:05,298 - DEBUG - Setting mag_sed1 to 27.500000\n",
      "2017-03-22 21:49:05,299 - DEBUG - Setting mag_sed2 to 99.000000\n",
      "2017-03-22 21:49:05,301 - DEBUG - Setting mag_sed3 to 99.000000\n",
      "2017-03-22 21:49:05,302 - DEBUG - Setting mag_sed4 to 99.000000\n",
      "2017-03-22 21:49:05,303 - DEBUG - Setting dx to 0.000000\n",
      "2017-03-22 21:49:05,304 - DEBUG - Setting dy to 0.000000\n",
      "2017-03-22 21:49:05,606 - DEBUG - Setting redshift to 1.000000\n",
      "2017-03-22 21:49:05,607 - DEBUG - Setting nu to 0.500000\n",
      "2017-03-22 21:49:05,608 - DEBUG - Setting hlr to 1.000000\n",
      "2017-03-22 21:49:05,609 - DEBUG - Setting e1 to 0.000000\n",
      "2017-03-22 21:49:05,610 - DEBUG - Setting e2 to 0.000000\n",
      "2017-03-22 21:49:05,611 - DEBUG - Setting mag_sed1 to 27.500000\n",
      "2017-03-22 21:49:05,613 - DEBUG - Setting mag_sed2 to 99.000000\n",
      "2017-03-22 21:49:05,614 - DEBUG - Setting mag_sed3 to 99.000000\n",
      "2017-03-22 21:49:05,615 - DEBUG - Setting mag_sed4 to 99.000000\n",
      "2017-03-22 21:49:05,616 - DEBUG - Setting dx to 0.000000\n",
      "2017-03-22 21:49:05,617 - DEBUG - Setting dy to 0.000000\n",
      "2017-03-22 21:49:05,948 - DEBUG - Setting redshift to 1.000000\n",
      "2017-03-22 21:49:05,949 - DEBUG - Setting nu to 0.500000\n",
      "2017-03-22 21:49:05,950 - DEBUG - Setting hlr to 1.000000\n",
      "2017-03-22 21:49:05,955 - DEBUG - Setting e1 to 0.000000\n",
      "2017-03-22 21:49:05,956 - DEBUG - Setting e2 to 0.000000\n",
      "2017-03-22 21:49:05,957 - DEBUG - Setting mag_sed1 to 27.500000\n",
      "2017-03-22 21:49:05,958 - DEBUG - Setting mag_sed2 to 99.000000\n",
      "2017-03-22 21:49:05,961 - DEBUG - Setting mag_sed3 to 99.000000\n",
      "2017-03-22 21:49:05,962 - DEBUG - Setting mag_sed4 to 99.000000\n",
      "2017-03-22 21:49:05,963 - DEBUG - Setting dx to 0.000000\n",
      "2017-03-22 21:49:05,964 - DEBUG - Setting dy to 0.000000\n",
      "2017-03-22 21:49:06,259 - DEBUG - Setting redshift to 1.000000\n",
      "2017-03-22 21:49:06,260 - DEBUG - Setting nu to 0.500000\n",
      "2017-03-22 21:49:06,261 - DEBUG - Setting hlr to 1.000000\n",
      "2017-03-22 21:49:06,262 - DEBUG - Setting e1 to 0.000000\n",
      "2017-03-22 21:49:06,264 - DEBUG - Setting e2 to 0.000000\n",
      "2017-03-22 21:49:06,265 - DEBUG - Setting mag_sed1 to 27.500000\n",
      "2017-03-22 21:49:06,266 - DEBUG - Setting mag_sed2 to 99.000000\n",
      "2017-03-22 21:49:06,267 - DEBUG - Setting mag_sed3 to 99.000000\n",
      "2017-03-22 21:49:06,269 - DEBUG - Setting mag_sed4 to 99.000000\n",
      "2017-03-22 21:49:06,270 - DEBUG - Setting dx to 0.000000\n",
      "2017-03-22 21:49:06,271 - DEBUG - Setting dy to 0.000000\n",
      "2017-03-22 21:49:06,571 - DEBUG - Setting redshift to 1.000000\n",
      "2017-03-22 21:49:06,572 - DEBUG - Setting nu to 0.500000\n",
      "2017-03-22 21:49:06,573 - DEBUG - Setting hlr to 1.000000\n",
      "2017-03-22 21:49:06,574 - DEBUG - Setting e1 to 0.000000\n",
      "2017-03-22 21:49:06,575 - DEBUG - Setting e2 to 0.000000\n",
      "2017-03-22 21:49:06,577 - DEBUG - Setting mag_sed1 to 27.500000\n",
      "2017-03-22 21:49:06,578 - DEBUG - Setting mag_sed2 to 99.000000\n",
      "2017-03-22 21:49:06,579 - DEBUG - Setting mag_sed3 to 99.000000\n",
      "2017-03-22 21:49:06,580 - DEBUG - Setting mag_sed4 to 99.000000\n",
      "2017-03-22 21:49:06,582 - DEBUG - Setting dx to 0.000000\n",
      "2017-03-22 21:49:06,583 - DEBUG - Setting dy to 0.000000\n",
      "2017-03-22 21:49:06,873 - DEBUG - Setting redshift to 1.000000\n",
      "2017-03-22 21:49:06,875 - DEBUG - Setting nu to 0.500000\n",
      "2017-03-22 21:49:06,876 - DEBUG - Setting hlr to 1.000000\n",
      "2017-03-22 21:49:06,877 - DEBUG - Setting e1 to 0.000000\n",
      "2017-03-22 21:49:06,878 - DEBUG - Setting e2 to 0.000000\n",
      "2017-03-22 21:49:06,880 - DEBUG - Setting mag_sed1 to 27.500000\n",
      "2017-03-22 21:49:06,881 - DEBUG - Setting mag_sed2 to 99.000000\n",
      "2017-03-22 21:49:06,883 - DEBUG - Setting mag_sed3 to 99.000000\n",
      "2017-03-22 21:49:06,885 - DEBUG - Setting mag_sed4 to 99.000000\n",
      "2017-03-22 21:49:06,886 - DEBUG - Setting dx to 0.000000\n",
      "2017-03-22 21:49:06,887 - DEBUG - Setting dy to 0.000000\n",
      "2017-03-22 21:49:07,180 - DEBUG - Setting redshift to 1.000000\n",
      "2017-03-22 21:49:07,181 - DEBUG - Setting nu to 0.500000\n",
      "2017-03-22 21:49:07,182 - DEBUG - Setting hlr to 1.000000\n",
      "2017-03-22 21:49:07,182 - DEBUG - Setting e1 to 0.000000\n",
      "2017-03-22 21:49:07,184 - DEBUG - Setting e2 to 0.000000\n",
      "2017-03-22 21:49:07,185 - DEBUG - Setting mag_sed1 to 27.500000\n",
      "2017-03-22 21:49:07,186 - DEBUG - Setting mag_sed2 to 99.000000\n",
      "2017-03-22 21:49:07,187 - DEBUG - Setting mag_sed3 to 99.000000\n",
      "2017-03-22 21:49:07,189 - DEBUG - Setting mag_sed4 to 99.000000\n",
      "2017-03-22 21:49:07,190 - DEBUG - Setting dx to 0.000000\n",
      "2017-03-22 21:49:07,191 - DEBUG - Setting dy to 0.000000\n",
      "2017-03-22 21:49:07,488 - DEBUG - Setting redshift to 1.000000\n",
      "2017-03-22 21:49:07,489 - DEBUG - Setting nu to 0.500000\n",
      "2017-03-22 21:49:07,490 - DEBUG - Setting hlr to 1.000000\n",
      "2017-03-22 21:49:07,491 - DEBUG - Setting e1 to 0.000000\n",
      "2017-03-22 21:49:07,492 - DEBUG - Setting e2 to 0.000000\n",
      "2017-03-22 21:49:07,493 - DEBUG - Setting mag_sed1 to 27.500000\n",
      "2017-03-22 21:49:07,495 - DEBUG - Setting mag_sed2 to 99.000000\n",
      "2017-03-22 21:49:07,497 - DEBUG - Setting mag_sed3 to 99.000000\n",
      "2017-03-22 21:49:07,498 - DEBUG - Setting mag_sed4 to 99.000000\n",
      "2017-03-22 21:49:07,499 - DEBUG - Setting dx to 0.000000\n",
      "2017-03-22 21:49:07,500 - DEBUG - Setting dy to 0.000000\n",
      "2017-03-22 21:49:07,795 - DEBUG - Setting redshift to 1.000000\n",
      "2017-03-22 21:49:07,796 - DEBUG - Setting nu to 0.500000\n",
      "2017-03-22 21:49:07,797 - DEBUG - Setting hlr to 1.000000\n",
      "2017-03-22 21:49:07,798 - DEBUG - Setting e1 to 0.000000\n",
      "2017-03-22 21:49:07,799 - DEBUG - Setting e2 to 0.000000\n",
      "2017-03-22 21:49:07,801 - DEBUG - Setting mag_sed1 to 27.500000\n",
      "2017-03-22 21:49:07,802 - DEBUG - Setting mag_sed2 to 99.000000\n",
      "2017-03-22 21:49:07,803 - DEBUG - Setting mag_sed3 to 99.000000\n",
      "2017-03-22 21:49:07,804 - DEBUG - Setting mag_sed4 to 99.000000\n",
      "2017-03-22 21:49:07,805 - DEBUG - Setting dx to 0.000000\n",
      "2017-03-22 21:49:07,806 - DEBUG - Setting dy to 0.000000\n",
      "2017-03-22 21:49:08,104 - DEBUG - Setting redshift to 1.000000\n",
      "2017-03-22 21:49:08,106 - DEBUG - Setting nu to 0.500000\n",
      "2017-03-22 21:49:08,106 - DEBUG - Setting hlr to 1.000000\n",
      "2017-03-22 21:49:08,107 - DEBUG - Setting e1 to 0.000000\n",
      "2017-03-22 21:49:08,109 - DEBUG - Setting e2 to 0.000000\n",
      "2017-03-22 21:49:08,110 - DEBUG - Setting mag_sed1 to 27.500000\n",
      "2017-03-22 21:49:08,111 - DEBUG - Setting mag_sed2 to 99.000000\n",
      "2017-03-22 21:49:08,112 - DEBUG - Setting mag_sed3 to 99.000000\n",
      "2017-03-22 21:49:08,113 - DEBUG - Setting mag_sed4 to 99.000000\n",
      "2017-03-22 21:49:08,114 - DEBUG - Setting dx to 0.000000\n",
      "2017-03-22 21:49:08,115 - DEBUG - Setting dy to 0.000000\n",
      "2017-03-22 21:49:08,402 - DEBUG - Setting redshift to 1.000000\n",
      "2017-03-22 21:49:08,403 - DEBUG - Setting nu to 0.500000\n",
      "2017-03-22 21:49:08,404 - DEBUG - Setting hlr to 1.000000\n",
      "2017-03-22 21:49:08,405 - DEBUG - Setting e1 to 0.000000\n",
      "2017-03-22 21:49:08,406 - DEBUG - Setting e2 to 0.000000\n",
      "2017-03-22 21:49:08,407 - DEBUG - Setting mag_sed1 to 27.500000\n",
      "2017-03-22 21:49:08,408 - DEBUG - Setting mag_sed2 to 99.000000\n",
      "2017-03-22 21:49:08,409 - DEBUG - Setting mag_sed3 to 99.000000\n",
      "2017-03-22 21:49:08,410 - DEBUG - Setting mag_sed4 to 99.000000\n",
      "2017-03-22 21:49:08,411 - DEBUG - Setting dx to 0.000000\n",
      "2017-03-22 21:49:08,413 - DEBUG - Setting dy to 0.000000\n",
      "2017-03-22 21:49:08,702 - DEBUG - Setting redshift to 1.000000\n",
      "2017-03-22 21:49:08,703 - DEBUG - Setting nu to 0.500000\n",
      "2017-03-22 21:49:08,704 - DEBUG - Setting hlr to 1.000000\n",
      "2017-03-22 21:49:08,705 - DEBUG - Setting e1 to 0.000000\n",
      "2017-03-22 21:49:08,706 - DEBUG - Setting e2 to 0.000000\n",
      "2017-03-22 21:49:08,707 - DEBUG - Setting mag_sed1 to 27.500000\n",
      "2017-03-22 21:49:08,708 - DEBUG - Setting mag_sed2 to 99.000000\n",
      "2017-03-22 21:49:08,710 - DEBUG - Setting mag_sed3 to 99.000000\n",
      "2017-03-22 21:49:08,711 - DEBUG - Setting mag_sed4 to 99.000000\n",
      "2017-03-22 21:49:08,712 - DEBUG - Setting dx to 0.000000\n",
      "2017-03-22 21:49:08,713 - DEBUG - Setting dy to 0.000000\n",
      "2017-03-22 21:49:09,005 - DEBUG - Setting redshift to 1.000000\n",
      "2017-03-22 21:49:09,006 - DEBUG - Setting nu to 0.500000\n",
      "2017-03-22 21:49:09,007 - DEBUG - Setting hlr to 1.000000\n",
      "2017-03-22 21:49:09,008 - DEBUG - Setting e1 to 0.000000\n",
      "2017-03-22 21:49:09,009 - DEBUG - Setting e2 to 0.000000\n",
      "2017-03-22 21:49:09,010 - DEBUG - Setting mag_sed1 to 27.500000\n",
      "2017-03-22 21:49:09,012 - DEBUG - Setting mag_sed2 to 99.000000\n",
      "2017-03-22 21:49:09,013 - DEBUG - Setting mag_sed3 to 99.000000\n",
      "2017-03-22 21:49:09,014 - DEBUG - Setting mag_sed4 to 99.000000\n",
      "2017-03-22 21:49:09,015 - DEBUG - Setting dx to 0.000000\n",
      "2017-03-22 21:49:09,016 - DEBUG - Setting dy to 0.000000\n",
      "2017-03-22 21:49:09,370 - DEBUG - Setting redshift to 1.000000\n",
      "2017-03-22 21:49:09,371 - DEBUG - Setting nu to 0.500000\n",
      "2017-03-22 21:49:09,372 - DEBUG - Setting hlr to 1.000000\n",
      "2017-03-22 21:49:09,373 - DEBUG - Setting e1 to 0.000000\n",
      "2017-03-22 21:49:09,374 - DEBUG - Setting e2 to 0.000000\n",
      "2017-03-22 21:49:09,376 - DEBUG - Setting mag_sed1 to 27.500000\n",
      "2017-03-22 21:49:09,377 - DEBUG - Setting mag_sed2 to 99.000000\n",
      "2017-03-22 21:49:09,378 - DEBUG - Setting mag_sed3 to 99.000000\n",
      "2017-03-22 21:49:09,379 - DEBUG - Setting mag_sed4 to 99.000000\n",
      "2017-03-22 21:49:09,380 - DEBUG - Setting dx to 0.000000\n",
      "2017-03-22 21:49:09,381 - DEBUG - Setting dy to 0.000000\n",
      "2017-03-22 21:49:09,688 - DEBUG - Setting redshift to 1.000000\n",
      "2017-03-22 21:49:09,689 - DEBUG - Setting nu to 0.500000\n",
      "2017-03-22 21:49:09,690 - DEBUG - Setting hlr to 1.000000\n",
      "2017-03-22 21:49:09,691 - DEBUG - Setting e1 to 0.000000\n",
      "2017-03-22 21:49:09,693 - DEBUG - Setting e2 to 0.000000\n",
      "2017-03-22 21:49:09,694 - DEBUG - Setting mag_sed1 to 27.500000\n",
      "2017-03-22 21:49:09,695 - DEBUG - Setting mag_sed2 to 99.000000\n",
      "2017-03-22 21:49:09,696 - DEBUG - Setting mag_sed3 to 99.000000\n",
      "2017-03-22 21:49:09,697 - DEBUG - Setting mag_sed4 to 99.000000\n",
      "2017-03-22 21:49:09,698 - DEBUG - Setting dx to 0.000000\n",
      "2017-03-22 21:49:09,699 - DEBUG - Setting dy to 0.000000\n",
      "2017-03-22 21:49:09,987 - DEBUG - Setting redshift to 1.000000\n",
      "2017-03-22 21:49:09,988 - DEBUG - Setting nu to 0.500000\n",
      "2017-03-22 21:49:09,989 - DEBUG - Setting hlr to 1.000000\n",
      "2017-03-22 21:49:09,990 - DEBUG - Setting e1 to 0.000000\n",
      "2017-03-22 21:49:09,991 - DEBUG - Setting e2 to 0.000000\n",
      "2017-03-22 21:49:09,992 - DEBUG - Setting mag_sed1 to 27.500000\n",
      "2017-03-22 21:49:09,993 - DEBUG - Setting mag_sed2 to 99.000000\n",
      "2017-03-22 21:49:09,994 - DEBUG - Setting mag_sed3 to 99.000000\n",
      "2017-03-22 21:49:09,996 - DEBUG - Setting mag_sed4 to 99.000000\n",
      "2017-03-22 21:49:09,997 - DEBUG - Setting dx to 0.000000\n",
      "2017-03-22 21:49:09,998 - DEBUG - Setting dy to 0.000000\n",
      "2017-03-22 21:49:10,311 - DEBUG - Setting redshift to 1.000000\n",
      "2017-03-22 21:49:10,312 - DEBUG - Setting nu to 0.500000\n",
      "2017-03-22 21:49:10,313 - DEBUG - Setting hlr to 1.000000\n",
      "2017-03-22 21:49:10,314 - DEBUG - Setting e1 to 0.000000\n",
      "2017-03-22 21:49:10,315 - DEBUG - Setting e2 to 0.000000\n",
      "2017-03-22 21:49:10,316 - DEBUG - Setting mag_sed1 to 27.500000\n",
      "2017-03-22 21:49:10,318 - DEBUG - Setting mag_sed2 to 99.000000\n",
      "2017-03-22 21:49:10,319 - DEBUG - Setting mag_sed3 to 99.000000\n",
      "2017-03-22 21:49:10,320 - DEBUG - Setting mag_sed4 to 99.000000\n",
      "2017-03-22 21:49:10,322 - DEBUG - Setting dx to 0.000000\n",
      "2017-03-22 21:49:10,323 - DEBUG - Setting dy to 0.000000\n",
      "2017-03-22 21:49:10,601 - DEBUG - Setting redshift to 1.000000\n",
      "2017-03-22 21:49:10,602 - DEBUG - Setting nu to 0.500000\n",
      "2017-03-22 21:49:10,603 - DEBUG - Setting hlr to 1.000000\n",
      "2017-03-22 21:49:10,604 - DEBUG - Setting e1 to 0.000000\n",
      "2017-03-22 21:49:10,605 - DEBUG - Setting e2 to 0.000000\n",
      "2017-03-22 21:49:10,606 - DEBUG - Setting mag_sed1 to 27.500000\n",
      "2017-03-22 21:49:10,608 - DEBUG - Setting mag_sed2 to 99.000000\n",
      "2017-03-22 21:49:10,609 - DEBUG - Setting mag_sed3 to 99.000000\n",
      "2017-03-22 21:49:10,610 - DEBUG - Setting mag_sed4 to 99.000000\n",
      "2017-03-22 21:49:10,611 - DEBUG - Setting dx to 0.000000\n",
      "2017-03-22 21:49:10,612 - DEBUG - Setting dy to 0.000000\n",
      "2017-03-22 21:49:10,905 - DEBUG - Setting redshift to 1.000000\n",
      "2017-03-22 21:49:10,906 - DEBUG - Setting nu to 0.500000\n",
      "2017-03-22 21:49:10,907 - DEBUG - Setting hlr to 1.000000\n",
      "2017-03-22 21:49:10,908 - DEBUG - Setting e1 to 0.000000\n",
      "2017-03-22 21:49:10,909 - DEBUG - Setting e2 to 0.000000\n",
      "2017-03-22 21:49:10,910 - DEBUG - Setting mag_sed1 to 27.500000\n",
      "2017-03-22 21:49:10,912 - DEBUG - Setting mag_sed2 to 99.000000\n",
      "2017-03-22 21:49:10,913 - DEBUG - Setting mag_sed3 to 99.000000\n",
      "2017-03-22 21:49:10,914 - DEBUG - Setting mag_sed4 to 99.000000\n",
      "2017-03-22 21:49:10,915 - DEBUG - Setting dx to 0.000000\n",
      "2017-03-22 21:49:10,916 - DEBUG - Setting dy to 0.000000\n",
      "2017-03-22 21:49:11,225 - DEBUG - Setting redshift to 1.000000\n",
      "2017-03-22 21:49:11,226 - DEBUG - Setting nu to 0.500000\n",
      "2017-03-22 21:49:11,227 - DEBUG - Setting hlr to 1.000000\n",
      "2017-03-22 21:49:11,228 - DEBUG - Setting e1 to 0.000000\n",
      "2017-03-22 21:49:11,230 - DEBUG - Setting e2 to 0.000000\n",
      "2017-03-22 21:49:11,231 - DEBUG - Setting mag_sed1 to 27.500000\n",
      "2017-03-22 21:49:11,232 - DEBUG - Setting mag_sed2 to 99.000000\n",
      "2017-03-22 21:49:11,234 - DEBUG - Setting mag_sed3 to 99.000000\n",
      "2017-03-22 21:49:11,235 - DEBUG - Setting mag_sed4 to 99.000000\n",
      "2017-03-22 21:49:11,236 - DEBUG - Setting dx to 0.000000\n",
      "2017-03-22 21:49:11,238 - DEBUG - Setting dy to 0.000000\n",
      "2017-03-22 21:49:11,546 - DEBUG - Setting redshift to 1.000000\n",
      "2017-03-22 21:49:11,547 - DEBUG - Setting nu to 0.500000\n",
      "2017-03-22 21:49:11,548 - DEBUG - Setting hlr to 1.000000\n",
      "2017-03-22 21:49:11,549 - DEBUG - Setting e1 to 0.000000\n",
      "2017-03-22 21:49:11,550 - DEBUG - Setting e2 to 0.000000\n",
      "2017-03-22 21:49:11,551 - DEBUG - Setting mag_sed1 to 27.500000\n",
      "2017-03-22 21:49:11,552 - DEBUG - Setting mag_sed2 to 99.000000\n",
      "2017-03-22 21:49:11,554 - DEBUG - Setting mag_sed3 to 99.000000\n",
      "2017-03-22 21:49:11,555 - DEBUG - Setting mag_sed4 to 99.000000\n",
      "2017-03-22 21:49:11,556 - DEBUG - Setting dx to 0.000000\n",
      "2017-03-22 21:49:11,557 - DEBUG - Setting dy to 0.000000\n",
      "2017-03-22 21:49:11,877 - DEBUG - Setting redshift to 1.000000\n",
      "2017-03-22 21:49:11,878 - DEBUG - Setting nu to 0.500000\n",
      "2017-03-22 21:49:11,879 - DEBUG - Setting hlr to 1.000000\n",
      "2017-03-22 21:49:11,880 - DEBUG - Setting e1 to 0.000000\n",
      "2017-03-22 21:49:11,881 - DEBUG - Setting e2 to 0.000000\n",
      "2017-03-22 21:49:11,882 - DEBUG - Setting mag_sed1 to 27.500000\n",
      "2017-03-22 21:49:11,884 - DEBUG - Setting mag_sed2 to 99.000000\n",
      "2017-03-22 21:49:11,885 - DEBUG - Setting mag_sed3 to 99.000000\n",
      "2017-03-22 21:49:11,886 - DEBUG - Setting mag_sed4 to 99.000000\n",
      "2017-03-22 21:49:11,888 - DEBUG - Setting dx to 0.000000\n",
      "2017-03-22 21:49:11,889 - DEBUG - Setting dy to 0.000000\n",
      "2017-03-22 21:49:12,204 - DEBUG - Setting redshift to 1.000000\n",
      "2017-03-22 21:49:12,205 - DEBUG - Setting nu to 0.500000\n",
      "2017-03-22 21:49:12,206 - DEBUG - Setting hlr to 1.000000\n",
      "2017-03-22 21:49:12,207 - DEBUG - Setting e1 to 0.000000\n",
      "2017-03-22 21:49:12,209 - DEBUG - Setting e2 to 0.000000\n",
      "2017-03-22 21:49:12,211 - DEBUG - Setting mag_sed1 to 27.500000\n",
      "2017-03-22 21:49:12,212 - DEBUG - Setting mag_sed2 to 99.000000\n",
      "2017-03-22 21:49:12,213 - DEBUG - Setting mag_sed3 to 99.000000\n",
      "2017-03-22 21:49:12,215 - DEBUG - Setting mag_sed4 to 99.000000\n",
      "2017-03-22 21:49:12,216 - DEBUG - Setting dx to 0.000000\n",
      "2017-03-22 21:49:12,218 - DEBUG - Setting dy to 0.000000\n",
      "2017-03-22 21:49:12,524 - DEBUG - Setting redshift to 1.000000\n",
      "2017-03-22 21:49:12,525 - DEBUG - Setting nu to 0.500000\n",
      "2017-03-22 21:49:12,526 - DEBUG - Setting hlr to 1.000000\n",
      "2017-03-22 21:49:12,528 - DEBUG - Setting e1 to 0.000000\n",
      "2017-03-22 21:49:12,529 - DEBUG - Setting e2 to 0.000000\n",
      "2017-03-22 21:49:12,530 - DEBUG - Setting mag_sed1 to 27.500000\n",
      "2017-03-22 21:49:12,532 - DEBUG - Setting mag_sed2 to 99.000000\n",
      "2017-03-22 21:49:12,533 - DEBUG - Setting mag_sed3 to 99.000000\n",
      "2017-03-22 21:49:12,535 - DEBUG - Setting mag_sed4 to 99.000000\n",
      "2017-03-22 21:49:12,536 - DEBUG - Setting dx to 0.000000\n",
      "2017-03-22 21:49:12,537 - DEBUG - Setting dy to 0.000000\n"
     ]
    },
    {
     "data": {
      "text/plain": [
       "<matplotlib.text.Text at 0x10fcb9390>"
      ]
     },
     "execution_count": 9,
     "metadata": {},
     "output_type": "execute_result"
    },
    {
     "data": {
      "image/png": "[encoded data removed]",
      "text/plain": [
       "<matplotlib.figure.Figure at 0x10fe2d590>"
      ]
     },
     "metadata": {},
     "output_type": "display_data"
    }
   ],
   "source": [
    "niter = 50\n",
    "nu_ml = 0.0\n",
    "\n",
    "fig = plt.figure(figsize=(8, 8/1.618))\n",
    "for inoise in xrange(niter):\n",
    "    images = rstr.render_model_images(nimages=1, nx=[80], ny=[80],\n",
    "                                      tel_names=['LSST'], psfs=['model'], noise_var=1.e2)\n",
    "    lnp = np.array([rstr([nu_i]) for nu_i in nu])\n",
    "    nu_ml += nu[np.argmax(lnp)]\n",
    "    plt.plot(nu, np.exp(lnp - np.max(lnp)), color=\"#348ABD\", alpha=0.3)\n",
    "nu_ml /= niter\n",
    "plt.axvline(0.5, color='grey')\n",
    "plt.axvline(nu_ml, color='red', linestyle='dashed')\n",
    "plt.xlabel(r\"$\\nu$\", fontsize=18)\n",
    "plt.ylabel(r\"Pr($\\nu$)\", fontsize=18)"
   ]
  },
  {
   "cell_type": "markdown",
   "metadata": {
    "collapsed": true,
    "deletable": true,
    "editable": true
   },
   "source": [
    "## Input image from GREAT3-like simulation"
   ]
  },
  {
   "cell_type": "code",
   "execution_count": 103,
   "metadata": {
    "collapsed": true
   },
   "outputs": [],
   "source": [
    "from astropy.io import fits\n",
    "\n",
    "iepoch = 0"
   ]
  },
  {
   "cell_type": "code",
   "execution_count": 104,
   "metadata": {
    "collapsed": false
   },
   "outputs": [],
   "source": [
    "f = fits.open(\"sim/control/ground/constant/epoch_catalog-000-0.fits\")\n",
    "sim_catalog = f[1].data"
   ]
  },
  {
   "cell_type": "code",
   "execution_count": 105,
   "metadata": {
    "collapsed": false
   },
   "outputs": [
    {
     "name": "stdout",
     "output_type": "stream",
     "text": [
      "ColDefs(\n",
      "    name = 'num'; format = 'J'\n",
      "    name = 'x'; format = 'D'\n",
      "    name = 'y'; format = 'D'\n",
      "    name = 'dx'; format = 'D'\n",
      "    name = 'dy'; format = 'D'\n",
      "    name = 'psf_e1'; format = 'D'\n",
      "    name = 'psf_e2'; format = 'D'\n",
      "    name = 'psf_fwhm'; format = 'D'\n",
      "    name = 'g1'; format = 'D'\n",
      "    name = 'g2'; format = 'D'\n",
      "    name = 'gal_e1'; format = 'D'\n",
      "    name = 'gal_e2'; format = 'D'\n",
      ")\n"
     ]
    }
   ],
   "source": [
    "colnames = f[1].columns\n",
    "f.close()\n",
    "print colnames"
   ]
  },
  {
   "cell_type": "code",
   "execution_count": 106,
   "metadata": {
    "collapsed": false
   },
   "outputs": [
    {
     "name": "stdout",
     "output_type": "stream",
     "text": [
      "<class 'astropy.io.fits.column.ColDefs'>\n",
      "['num', 'x', 'y', 'dx', 'dy', 'psf_e1', 'psf_e2', 'psf_fwhm', 'g1', 'g2', 'gal_e1', 'gal_e2']\n",
      "10\n"
     ]
    }
   ],
   "source": [
    "print colnames.__class__\n",
    "print colnames.names\n",
    "\n",
    "def colndx(colname):\n",
    "    \"\"\"\n",
    "    Return the column index corresponding to the given name\n",
    "    \"\"\"\n",
    "    return np.argwhere([x == colname for x in colnames.names])[0][0]\n",
    "print colndx('gal_e1')"
   ]
  },
  {
   "cell_type": "code",
   "execution_count": 107,
   "metadata": {
    "collapsed": false
   },
   "outputs": [
    {
     "data": {
      "text/plain": [
       "(0, 24.5, 24.5, -0.98060578946024179, -0.41024529468268156, 0.0, 0.0, 0.69999999999999996, 0.0014178461995583019, -0.041486870981251006, 0.0019704378462152999, -0.0030702104754297879)"
      ]
     },
     "execution_count": 107,
     "metadata": {},
     "output_type": "execute_result"
    }
   ],
   "source": [
    "sim_catalog[iepoch]"
   ]
  },
  {
   "cell_type": "markdown",
   "metadata": {},
   "source": [
    "### Load the data image"
   ]
  },
  {
   "cell_type": "code",
   "execution_count": 108,
   "metadata": {
    "collapsed": false
   },
   "outputs": [],
   "source": [
    "f = fits.open(\"sim/control/ground/constant/image-000-0.fits\")\n",
    "dat = f[0].data\n",
    "f.close()"
   ]
  },
  {
   "cell_type": "code",
   "execution_count": 110,
   "metadata": {
    "collapsed": false
   },
   "outputs": [
    {
     "data": {
      "text/plain": [
       "<matplotlib.colorbar.Colorbar at 0x10c98c2d0>"
      ]
     },
     "execution_count": 110,
     "metadata": {},
     "output_type": "execute_result"
    },
    {
     "data": {
      "image/png": "[encoded data removed]",
      "text/plain": [
       "<matplotlib.figure.Figure at 0x10c958c90>"
      ]
     },
     "metadata": {},
     "output_type": "display_data"
    }
   ],
   "source": [
    "nx = 48\n",
    "dat_seg = dat[(iepoch*nx):((iepoch+1)*nx), (iepoch*nx):((iepoch+1)*nx)]\n",
    "plt.imshow(dat_seg, interpolation='none', origin='lower')\n",
    "plt.colorbar()"
   ]
  },
  {
   "cell_type": "markdown",
   "metadata": {},
   "source": [
    "### Mimic the Roaster 'Load' function\n",
    "\n",
    "The Load() function is not flexible enough for this problem. So we mimic the load functionality here."
   ]
  },
  {
   "cell_type": "code",
   "execution_count": 111,
   "metadata": {
    "collapsed": false
   },
   "outputs": [],
   "source": [
    "rstr_sb = jif.Roaster(\"sim/roaster_shear_bias_test.yaml\")"
   ]
  },
  {
   "cell_type": "code",
   "execution_count": 112,
   "metadata": {
    "collapsed": false
   },
   "outputs": [
    {
     "name": "stdout",
     "output_type": "stream",
     "text": [
      "{'data': {'data_format': 'jif_segment',\n",
      "          'epoch_num': -1,\n",
      "          'filters': 'r',\n",
      "          'segment_number': 0,\n",
      "          'telescope': 'LSST'},\n",
      " 'infiles': {'infile_1': './sim/roaster_model_image.h5'},\n",
      " 'init': {'init_param_file': 'sim/roaster_params_shear_bias_test.cfg',\n",
      "          'seed': 9216526},\n",
      " 'metadata': {'outfile': './sim/roaster_out'},\n",
      " 'model': {'achromatic': True,\n",
      "           'galaxy_model_type': 'Spergel',\n",
      "           'model_params': 'nu',\n",
      "           'num_sources': 1},\n",
      " 'run': {'debug': False, 'output_model': True, 'quiet': True},\n",
      " 'sampling': {'nburn': 200,\n",
      "              'nsamples': 500,\n",
      "              'nthreads': 1,\n",
      "              'nwalkers': 32,\n",
      "              'sampler': 'emcee'}}\n"
     ]
    }
   ],
   "source": [
    "pprint.pprint(rstr_sb.config)"
   ]
  },
  {
   "cell_type": "code",
   "execution_count": 113,
   "metadata": {
    "collapsed": false
   },
   "outputs": [
    {
     "name": "stderr",
     "output_type": "stream",
     "text": [
      "2017-03-24 12:21:14,526 - DEBUG - Setting redshift to 1.000000\n",
      "2017-03-24 12:21:14,528 - DEBUG - Setting nu to 0.500000\n",
      "2017-03-24 12:21:14,528 - DEBUG - Setting hlr to 0.800000\n",
      "2017-03-24 12:21:14,530 - DEBUG - Setting e1 to 0.001970\n",
      "2017-03-24 12:21:14,531 - DEBUG - Setting e2 to -0.003070\n",
      "2017-03-24 12:21:14,532 - DEBUG - Setting mag_sed1 to 40.350000\n",
      "2017-03-24 12:21:14,533 - DEBUG - Setting mag_sed2 to 99.000000\n",
      "2017-03-24 12:21:14,535 - DEBUG - Setting mag_sed3 to 99.000000\n",
      "2017-03-24 12:21:14,536 - DEBUG - Setting mag_sed4 to 99.000000\n",
      "2017-03-24 12:21:14,538 - DEBUG - Setting dx to -0.196000\n",
      "2017-03-24 12:21:14,539 - DEBUG - Setting dy to -0.082000\n",
      "2017-03-24 12:21:14,540 - DEBUG - Setting psf_fwhm_0 to 0.700000\n",
      "2017-03-24 12:21:14,542 - DEBUG - Setting dx to -0.196121\n",
      "2017-03-24 12:21:14,544 - DEBUG - Setting dy to -0.082049\n",
      "2017-03-24 12:21:14,546 - DEBUG - Setting e1 to 0.000553\n",
      "2017-03-24 12:21:14,548 - DEBUG - Setting e2 to 0.038417\n"
     ]
    }
   ],
   "source": [
    "rstr_sb.pixel_data = [dat_seg]\n",
    "rstr_sb.pix_noise_var = [np.var(dat_seg[0:20, 0:20])]\n",
    "\n",
    "rstr_sb.num_epochs = 1\n",
    "rstr_sb.nx = [nx]\n",
    "rstr_sb.ny = [nx]\n",
    "rstr_sb.filter_names = ['r']\n",
    "\n",
    "rstr_sb._init_galaxy_models(nimages=1, tel_names=['LSST'], psfs=['model'])\n",
    "rstr_sb.initialize_param_values(rstr_sb.config['init']['init_param_file'])\n",
    "\n",
    "rstr_sb.set_param_by_name('dx', sim_catalog[iepoch][colndx('dx')]*0.2)\n",
    "rstr_sb.set_param_by_name('dy', sim_catalog[iepoch][colndx('dy')]*0.2)\n",
    "rstr_sb.set_param_by_name('e1', sim_catalog[iepoch][colndx('gal_e1')] - sim_catalog[iepoch][colndx('g1')])\n",
    "rstr_sb.set_param_by_name('e2', sim_catalog[iepoch][colndx('gal_e2')] - sim_catalog[iepoch][colndx('g2')])"
   ]
  },
  {
   "cell_type": "code",
   "execution_count": 114,
   "metadata": {
    "collapsed": false
   },
   "outputs": [
    {
     "data": {
      "text/plain": [
       "<matplotlib.image.AxesImage at 0x10bc49990>"
      ]
     },
     "execution_count": 114,
     "metadata": {},
     "output_type": "execute_result"
    },
    {
     "data": {
      "image/png": "[encoded data removed]",
      "text/plain": [
       "<matplotlib.figure.Figure at 0x10a518690>"
      ]
     },
     "metadata": {},
     "output_type": "display_data"
    }
   ],
   "source": [
    "m = rstr_sb._get_model_image(iepochs=0)\n",
    "\n",
    "vmin=-0.005\n",
    "vmax=0.013\n",
    "\n",
    "fig = plt.figure(figsize=(15,5))\n",
    "plt.subplot(1, 3, 1)\n",
    "plt.imshow(m.array, vmin=vmin, vmax=vmax)\n",
    "plt.subplot(1, 3, 2)\n",
    "plt.imshow(rstr_sb.pixel_data[0], vmin=vmin, vmax=vmax)\n",
    "plt.subplot(1, 3, 3)\n",
    "plt.imshow(rstr_sb.pixel_data[0] - m.array, vmin=vmin, vmax=vmax)"
   ]
  },
  {
   "cell_type": "markdown",
   "metadata": {},
   "source": [
    "### Check the 'nu' posterior"
   ]
  },
  {
   "cell_type": "code",
   "execution_count": 115,
   "metadata": {
    "collapsed": false
   },
   "outputs": [],
   "source": [
    "nu = np.linspace(0.0, 0.8, 160)\n",
    "\n",
    "lnp = np.array([rstr_sb([nu_i]) for nu_i in nu])"
   ]
  },
  {
   "cell_type": "code",
   "execution_count": 116,
   "metadata": {
    "collapsed": false
   },
   "outputs": [
    {
     "data": {
      "text/plain": [
       "<matplotlib.text.Text at 0x10bc6f7d0>"
      ]
     },
     "execution_count": 116,
     "metadata": {},
     "output_type": "execute_result"
    },
    {
     "data": {
      "image/png": "[encoded data removed]",
      "text/plain": [
       "<matplotlib.figure.Figure at 0x10ba64410>"
      ]
     },
     "metadata": {},
     "output_type": "display_data"
    }
   ],
   "source": [
    "plt.plot(nu, np.exp(lnp - np.max(lnp)), color=\"#348ABD\", alpha=1)\n",
    "plt.axvline(0.5, color='grey')\n",
    "plt.xlabel(r\"$\\nu$\", fontsize=18)\n",
    "plt.ylabel(r\"Pr($\\nu$)\", fontsize=18)"
   ]
  },
  {
   "cell_type": "code",
   "execution_count": null,
   "metadata": {
    "collapsed": true
   },
   "outputs": [],
   "source": []
  }
 ],
 "metadata": {
  "kernelspec": {
   "display_name": "Python 2",
   "language": "python",
   "name": "python2"
  },
  "language_info": {
   "codemirror_mode": {
    "name": "ipython",
    "version": 2
   },
   "file_extension": ".py",
   "mimetype": "text/x-python",
   "name": "python",
   "nbconvert_exporter": "python",
   "pygments_lexer": "ipython2",
   "version": "2.7.10"
  }
 },
 "nbformat": 4,
 "nbformat_minor": 2
}
