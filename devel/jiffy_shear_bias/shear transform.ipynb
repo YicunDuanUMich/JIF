{
 "cells": [
  {
   "cell_type": "markdown",
   "metadata": {
    "deletable": true,
    "editable": true
   },
   "source": [
    "1. Render an image with intrinsic ellipticity and shear as separate operations\n",
    "2. Render an image with ellipticity = e_int + shear\n",
    "3. Compare residual\n",
    "\n",
    "This let's us check that we're transforming model ellipticities correctly under the action of a shear."
   ]
  },
  {
   "cell_type": "code",
   "execution_count": 1,
   "metadata": {
    "collapsed": true,
    "deletable": true,
    "editable": true
   },
   "outputs": [],
   "source": [
    "import matplotlib.pyplot as plt\n",
    "%matplotlib inline\n",
    "import numpy as np\n",
    "import galsim"
   ]
  },
  {
   "cell_type": "code",
   "execution_count": 2,
   "metadata": {
    "collapsed": true,
    "deletable": true,
    "editable": true
   },
   "outputs": [],
   "source": [
    "nu = 0.5\n",
    "HLR = 1.0\n",
    "PSF = galsim.Kolmogorov(fwhm=0.6)\n",
    "scale = 0.2\n",
    "nx = ny = 64\n",
    "var = 3e-10\n",
    "noise = galsim.GaussianNoise(sigma=np.sqrt(var))\n",
    "dx = 0.6\n",
    "dy = -0.1"
   ]
  },
  {
   "cell_type": "code",
   "execution_count": 3,
   "metadata": {
    "collapsed": false,
    "deletable": true,
    "editable": true
   },
   "outputs": [
    {
     "name": "stdout",
     "output_type": "stream",
     "text": [
      "-3.75026249768e-09 3.62498812482e-08\n"
     ]
    }
   ],
   "source": [
    "e1int = 0.0015\n",
    "e2int = -0.002\n",
    "g1 = 0.003\n",
    "g2 = 0.001\n",
    "\n",
    "def apply_shear(e, g):\n",
    "    return (e + g) / (1.0 + g.conjugate() * e)\n",
    "\n",
    "e_sh = apply_shear(e1int + 1j*e2int, g1 + 1j*g2)\n",
    "\n",
    "e1 = e_sh.real\n",
    "e2 = e_sh.imag\n",
    "print e1 - e1int - g1, e2 - e2int - g2"
   ]
  },
  {
   "cell_type": "code",
   "execution_count": 4,
   "metadata": {
    "collapsed": false,
    "deletable": true,
    "editable": true
   },
   "outputs": [],
   "source": [
    "gal = galsim.Spergel(nu, half_light_radius=HLR)\n",
    "gal = gal.shear(galsim.Shear(g1=e1int, g2=e2int))\n",
    "gal = gal.shear(galsim.Shear(g1=g1, g2=g2))\n",
    "gal = gal.shift(dx=dx, dy=dy)\n",
    "obj = galsim.Convolve(PSF, gal)\n",
    "img = obj.drawImage(nx=nx, ny=ny, scale=scale)\n",
    "# img.addNoise(noise)    "
   ]
  },
  {
   "cell_type": "code",
   "execution_count": 5,
   "metadata": {
    "collapsed": true,
    "deletable": true,
    "editable": true
   },
   "outputs": [],
   "source": [
    "gal2 = galsim.Spergel(nu, half_light_radius=HLR)\n",
    "gal2 = gal2.shear(galsim.Shear(g1=e1, g2=e2))\n",
    "gal2 = gal2.shift(dx=dx, dy=dy)\n",
    "obj = galsim.Convolve(PSF, gal2)\n",
    "img2 = obj.drawImage(nx=nx, ny=ny, scale=scale)\n",
    "# img.addNoise(noise) "
   ]
  },
  {
   "cell_type": "code",
   "execution_count": 6,
   "metadata": {
    "collapsed": false,
    "deletable": true,
    "editable": true
   },
   "outputs": [
    {
     "data": {
      "text/plain": [
       "<matplotlib.image.AxesImage at 0x109451ad0>"
      ]
     },
     "execution_count": 6,
     "metadata": {},
     "output_type": "execute_result"
    },
    {
     "data": {
      "image/png": "[encoded data removed]",
      "text/plain": [
       "<matplotlib.figure.Figure at 0x107457910>"
      ]
     },
     "metadata": {},
     "output_type": "display_data"
    }
   ],
   "source": [
    "plt.imshow(img.array - img2.array, interpolation='none')"
   ]
  },
  {
   "cell_type": "code",
   "execution_count": null,
   "metadata": {
    "collapsed": true,
    "deletable": true,
    "editable": true
   },
   "outputs": [],
   "source": []
  }
 ],
 "metadata": {
  "kernelspec": {
   "display_name": "Python 2",
   "language": "python",
   "name": "python2"
  },
  "language_info": {
   "codemirror_mode": {
    "name": "ipython",
    "version": 2
   },
   "file_extension": ".py",
   "mimetype": "text/x-python",
   "name": "python",
   "nbconvert_exporter": "python",
   "pygments_lexer": "ipython2",
   "version": "2.7.10"
  }
 },
 "nbformat": 4,
 "nbformat_minor": 2
}
