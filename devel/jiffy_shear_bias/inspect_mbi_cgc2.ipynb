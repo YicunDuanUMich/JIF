{
 "cells": [
  {
   "cell_type": "code",
   "execution_count": 1,
   "metadata": {
    "collapsed": true
   },
   "outputs": [],
   "source": [
    "import os\n",
    "import numpy as np\n",
    "from astropy.io import fits\n",
    "import matplotlib.pyplot as plt\n",
    "%matplotlib inline\n",
    "\n",
    "plt.style.use('ggplot')"
   ]
  },
  {
   "cell_type": "code",
   "execution_count": 2,
   "metadata": {
    "collapsed": true
   },
   "outputs": [],
   "source": [
    "k_truth_topdir = \"./\"\n",
    "field_num = 0\n",
    "\n",
    "infile = os.path.join(k_truth_topdir, \n",
    "                          \"epoch_catalog-{0:0>3}-0.fits\".format(field_num))\n",
    "hdulist = fits.open(infile)\n",
    "tbdata = hdulist[1].data"
   ]
  },
  {
   "cell_type": "code",
   "execution_count": 3,
   "metadata": {
    "collapsed": false
   },
   "outputs": [
    {
     "data": {
      "text/plain": [
       "FITS_rec([ (   0,    24.5,    24.5,  0.48137597, -0.32379664,  0.,  0.,  0.6,  1.,  0.00280893, -0.08219063, -0.50109155,  0.08747675,  1.01555051, -0.24614718,  4.1477537 ),\n",
       "       (   1,    72.5,    24.5,  0.04134049,  0.33964404,  0.,  0.,  0.6,  1.,  0.00280893, -0.08219063,  0.20224708,  0.34515845,  0.82684625, -0.07522726,  1.46083066),\n",
       "       (   2,   120.5,    24.5, -0.03041825, -0.77496788,  0.,  0.,  0.6,  1.,  0.00280893, -0.08219063, -0.13094447,  0.11696897,  0.85565096,  0.03409452,  2.35989352),\n",
       "       ...,\n",
       "       (9997,  4680.5,  4776.5, -0.0395589 , -0.74801382,  0.,  0.,  0.6,  1.,  0.00280893, -0.08219063,  0.04640793, -0.12909492,  1.0101714 ,  0.06301214,  5.19275222),\n",
       "       (9998,  4728.5,  4776.5, -0.87360301, -0.97077956,  0.,  0.,  0.6,  1.,  0.00280893, -0.08219063,  0.19876005,  0.27577907,  0.93890939, -0.13306148,  3.20604021),\n",
       "       (9999,  4776.5,  4776.5, -0.42399617,  0.56796065,  0.,  0.,  0.6,  1.,  0.00280893, -0.08219063,  0.0868119 ,  0.03909066,  1.17409832, -0.55902862,  0.69579303)], \n",
       "      dtype=(numpy.record, [('num', '>i4'), ('x', '>f8'), ('y', '>f8'), ('dx', '>f8'), ('dy', '>f8'), ('psf_e1', '>f8'), ('psf_e2', '>f8'), ('psf_fwhm', '>f8'), ('mu', '>f8'), ('g1', '>f8'), ('g2', '>f8'), ('gal_e1', '>f8'), ('gal_e2', '>f8'), ('gal_hlr', '>f8'), ('gal_nu', '>f8'), ('gal_flux', '>f8')]))"
      ]
     },
     "execution_count": 3,
     "metadata": {},
     "output_type": "execute_result"
    }
   ],
   "source": [
    "tbdata"
   ]
  },
  {
   "cell_type": "code",
   "execution_count": 4,
   "metadata": {
    "collapsed": false
   },
   "outputs": [
    {
     "data": {
      "image/png": "[encoded data removed]",
      "text/plain": [
       "<matplotlib.figure.Figure at 0x10ce44a90>"
      ]
     },
     "metadata": {},
     "output_type": "display_data"
    }
   ],
   "source": [
    "h = plt.hist(tbdata['gal_e1'], bins=60)"
   ]
  },
  {
   "cell_type": "code",
   "execution_count": 5,
   "metadata": {
    "collapsed": false
   },
   "outputs": [
    {
     "data": {
      "text/plain": [
       "<matplotlib.text.Text at 0x10d2d8c50>"
      ]
     },
     "execution_count": 5,
     "metadata": {},
     "output_type": "execute_result"
    },
    {
     "data": {
      "image/png": "[encoded data removed]",
      "text/plain": [
       "<matplotlib.figure.Figure at 0x10ced2990>"
      ]
     },
     "metadata": {},
     "output_type": "display_data"
    }
   ],
   "source": [
    "h = plt.hist(np.hypot(tbdata['gal_e1'], tbdata['gal_e2']), bins=50)\n",
    "plt.xlabel(r\"$|e|$\", fontsize=18)\n",
    "plt.ylabel(\"Count\", fontsize=18)"
   ]
  },
  {
   "cell_type": "code",
   "execution_count": null,
   "metadata": {
    "collapsed": true
   },
   "outputs": [],
   "source": []
  }
 ],
 "metadata": {
  "kernelspec": {
   "display_name": "Python 2",
   "language": "python",
   "name": "python2"
  },
  "language_info": {
   "codemirror_mode": {
    "name": "ipython",
    "version": 2
   },
   "file_extension": ".py",
   "mimetype": "text/x-python",
   "name": "python",
   "nbconvert_exporter": "python",
   "pygments_lexer": "ipython2",
   "version": "2.7.10"
  }
 },
 "nbformat": 4,
 "nbformat_minor": 2
}
