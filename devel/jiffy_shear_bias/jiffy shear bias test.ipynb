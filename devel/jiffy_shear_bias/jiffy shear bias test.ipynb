{
 "cells": [
  {
   "cell_type": "code",
   "execution_count": 1,
   "metadata": {
    "collapsed": true,
    "deletable": true,
    "editable": true
   },
   "outputs": [],
   "source": [
    "import os\n",
    "import numpy as np\n",
    "import h5py\n",
    "import matplotlib.pyplot as plt\n",
    "%matplotlib inline\n",
    "from astropy.io import fits\n",
    "import galsim\n",
    "import jiffy\n",
    "\n",
    "scale = 0.2 # arcseconds"
   ]
  },
  {
   "cell_type": "markdown",
   "metadata": {
    "deletable": true,
    "editable": true
   },
   "source": [
    "1. Loop over fields\n",
    "2. Loop over galaxies in a field\n",
    "3. Load the image data\n",
    "4. Load the truth catalog\n",
    "5. Instantiate the Roaster model\n",
    "6. Set the Roaster parameters from the truth catalog\n",
    "7. Evaluate the conditional posterior of one shear component\n",
    "8. Calculate shear estimator bias and variance\n",
    "9. Aggregate results for all fields and infer (m, c)"
   ]
  },
  {
   "cell_type": "code",
   "execution_count": 2,
   "metadata": {
    "collapsed": true,
    "deletable": true,
    "editable": true
   },
   "outputs": [],
   "source": [
    "def load_footprint(ifield, igal):\n",
    "    infile = \"control/ground/constant/segments/seg_{:0>3}.h5\".format(ifield)\n",
    "    hfile = h5py.File(infile, 'r')\n",
    "    img = hfile['Footprints/seg{:d}/lsst/r/epoch_0/image'.format(igal)][...]\n",
    "    noise_var = hfile['Footprints/seg{:d}/lsst/r/epoch_0/noise'.format(igal)][...]\n",
    "#     print \"noise_var:\", noise_var\n",
    "#     print \"noise_var: {:3.2e}\".format(noise_var)\n",
    "    hfile.close()\n",
    "    return img\n",
    "\n",
    "def get_truths(ifield, igal):\n",
    "    \"\"\"\n",
    "    Get the true parameter values\n",
    "    \"\"\"\n",
    "    topdir = \"control/ground/constant\"\n",
    "    infile = os.path.join(topdir, \n",
    "                          \"epoch_catalog-{0:0>3}-0.fits\".format(ifield))\n",
    "    hdulist = fits.open(infile)\n",
    "    tbdata = hdulist[1].data\n",
    "    shears = [tbdata.field('g1')[0], tbdata.field('g2')[0]]\n",
    "    # Convert offsets in the truth catalog from pixels to arcseconds \n",
    "    # (which are the units expected by the galsim shift() method)\n",
    "    gal_params = np.array([tbdata.field('dx')[igal], tbdata.field('dy')[igal]]) * scale\n",
    "    return shears, gal_params\n",
    "\n",
    "def ln_gaus(xval, ln_amp, x_mean, sigma):\n",
    "    \"\"\"\n",
    "    Evaluate the log a Gaussian density function (unnormalized)\n",
    "    \"\"\"\n",
    "    return ln_amp - 0.5 * (xval - x_mean)**2 / sigma**2\n",
    "\n",
    "def fit_gaussian(dat_x, dat_y):\n",
    "    \"\"\"\n",
    "    Fit a 1D Gaussian to input data\n",
    "    \"\"\"\n",
    "    from scipy.optimize import curve_fit\n",
    "\n",
    "    params = [-2000, 0., 0.001]\n",
    "\n",
    "    popt, pcov = curve_fit(ln_gaus, dat_x, dat_y, p0=params)\n",
    "    return popt, pcov"
   ]
  },
  {
   "cell_type": "code",
   "execution_count": 3,
   "metadata": {
    "collapsed": true
   },
   "outputs": [],
   "source": [
    "hdulist = fits.open(\"control/ground/constant/epoch_catalog-000-0.fits\")\n",
    "tbdata = hdulist[1].data"
   ]
  },
  {
   "cell_type": "code",
   "execution_count": 4,
   "metadata": {
    "collapsed": false
   },
   "outputs": [
    {
     "data": {
      "text/plain": [
       "FITS_rec([ (0,  24.5,  24.5, -0.98060579, -0.41024529,  0.,  0.,  0.6,  0.00281564, -0.08238713,  0.,  0.),\n",
       "       (1,  72.5,  24.5,  0.69041946, -0.12537876,  0.,  0.,  0.6,  0.00281564, -0.08238713,  0.,  0.),\n",
       "       (2,  24.5,  72.5, -0.09994826,  0.0568242 ,  0.,  0.,  0.6,  0.00281564, -0.08238713,  0.,  0.),\n",
       "       (3,  72.5,  72.5,  0.64106718,  0.80819726,  0.,  0.,  0.6,  0.00281564, -0.08238713,  0.,  0.)], \n",
       "      dtype=(numpy.record, [('num', '>i4'), ('x', '>f8'), ('y', '>f8'), ('dx', '>f8'), ('dy', '>f8'), ('psf_e1', '>f8'), ('psf_e2', '>f8'), ('psf_fwhm', '>f8'), ('g1', '>f8'), ('g2', '>f8'), ('gal_e1', '>f8'), ('gal_e2', '>f8')]))"
      ]
     },
     "execution_count": 4,
     "metadata": {},
     "output_type": "execute_result"
    }
   ],
   "source": [
    "tbdata"
   ]
  },
  {
   "cell_type": "code",
   "execution_count": 8,
   "metadata": {
    "collapsed": false,
    "deletable": true,
    "editable": true
   },
   "outputs": [
    {
     "name": "stdout",
     "output_type": "stream",
     "text": [
      "--- Field 1 / 50 ---\n",
      "--- Field 2 / 50 ---\n",
      "--- Field 3 / 50 ---\n",
      "--- Field 4 / 50 ---\n",
      "--- Field 5 / 50 ---\n",
      "--- Field 6 / 50 ---\n",
      "--- Field 7 / 50 ---\n",
      "--- Field 8 / 50 ---\n",
      "--- Field 9 / 50 ---\n",
      "--- Field 10 / 50 ---\n",
      "--- Field 11 / 50 ---\n",
      "--- Field 12 / 50 ---\n",
      "--- Field 13 / 50 ---\n",
      "--- Field 14 / 50 ---\n",
      "--- Field 15 / 50 ---\n",
      "--- Field 16 / 50 ---\n",
      "--- Field 17 / 50 ---\n",
      "--- Field 18 / 50 ---\n",
      "--- Field 19 / 50 ---\n",
      "--- Field 20 / 50 ---\n",
      "--- Field 21 / 50 ---\n",
      "--- Field 22 / 50 ---\n",
      "--- Field 23 / 50 ---\n",
      "--- Field 24 / 50 ---\n",
      "--- Field 25 / 50 ---\n",
      "--- Field 26 / 50 ---\n",
      "--- Field 27 / 50 ---\n",
      "--- Field 28 / 50 ---\n",
      "--- Field 29 / 50 ---\n",
      "--- Field 30 / 50 ---\n",
      "--- Field 31 / 50 ---\n",
      "--- Field 32 / 50 ---\n",
      "--- Field 33 / 50 ---\n",
      "--- Field 34 / 50 ---\n",
      "--- Field 35 / 50 ---\n",
      "--- Field 36 / 50 ---\n",
      "--- Field 37 / 50 ---\n",
      "--- Field 38 / 50 ---\n",
      "--- Field 39 / 50 ---\n",
      "--- Field 40 / 50 ---\n",
      "--- Field 41 / 50 ---\n",
      "--- Field 42 / 50 ---\n",
      "--- Field 43 / 50 ---\n",
      "--- Field 44 / 50 ---\n",
      "--- Field 45 / 50 ---\n",
      "--- Field 46 / 50 ---\n",
      "--- Field 47 / 50 ---\n",
      "--- Field 48 / 50 ---\n",
      "--- Field 49 / 50 ---\n",
      "--- Field 50 / 50 ---\n",
      "[[  4.23028852e-04   3.97547318e-04]\n",
      " [  4.54837042e-05   1.58163632e-07]\n",
      " [  3.54476761e-04   3.99799749e-04]\n",
      " [ -1.41663842e-04   3.99297315e-04]\n",
      " [  1.07082927e-04   3.99280613e-04]\n",
      " [ -7.81920931e-05   1.99941172e-04]\n",
      " [  2.15512294e-05   3.98242254e-04]\n",
      " [  2.25490527e-04   3.98831330e-04]\n",
      " [ -2.12075777e-04   3.98911814e-04]\n",
      " [  2.52428196e-04   3.98204713e-04]\n",
      " [  2.64668071e-05   3.98281874e-04]\n",
      " [ -1.08106449e-04   3.97109552e-04]\n",
      " [  5.46812482e-06   3.98373301e-04]\n",
      " [  8.10276481e-05  -3.98834364e-04]\n",
      " [  7.35828135e-05   3.98807508e-04]\n",
      " [  1.94244964e-05   3.98508218e-04]\n",
      " [ -1.99629665e-04   3.98029572e-04]\n",
      " [ -1.45552143e-04   3.97295138e-04]\n",
      " [ -1.97403489e-04   3.99046403e-04]\n",
      " [ -2.35159381e-05   3.97900611e-04]\n",
      " [  2.65109530e-04   3.99536598e-04]\n",
      " [ -3.17439267e-04   3.98476999e-04]\n",
      " [  2.80357455e-04   3.99616948e-04]\n",
      " [ -5.15896053e-05   1.99849283e-04]\n",
      " [  1.25725780e-05   3.98044165e-04]\n",
      " [ -7.64292671e-05   3.99247046e-04]\n",
      " [  1.03593810e-04   1.99718136e-04]\n",
      " [  2.74923342e-04   3.99127742e-04]\n",
      " [ -3.83052629e-04   3.98256991e-04]\n",
      " [ -6.18024830e-05   3.97429838e-04]\n",
      " [ -2.24523676e-04   3.96927850e-04]\n",
      " [ -1.40821293e-04   4.34172783e-08]\n",
      " [  1.19988251e-04   3.98318060e-04]\n",
      " [  1.90859941e-04   1.99988219e-04]\n",
      " [  4.10613735e-05   3.99356567e-04]\n",
      " [ -1.91282321e-04   3.99485989e-04]\n",
      " [  5.18471256e-05   3.98516154e-04]\n",
      " [ -1.44467502e-04  -3.99676154e-04]\n",
      " [ -2.16350137e-04   1.99751548e-04]\n",
      " [ -3.68353193e-04   3.98326651e-04]\n",
      " [  2.05117299e-04  -3.97983991e-04]\n",
      " [  2.59841743e-04   3.99842423e-04]\n",
      " [  7.10696884e-05   3.97449400e-04]\n",
      " [ -1.34551856e-04   3.98679519e-04]\n",
      " [  1.56056709e-04   3.98988298e-04]\n",
      " [ -8.85186806e-05   3.97539971e-04]\n",
      " [ -2.21191315e-04   3.97932354e-04]\n",
      " [ -1.52528808e-04   3.96941053e-04]\n",
      " [ -2.77200511e-04   3.97589424e-04]\n",
      " [  2.88304721e-04   3.98107154e-04]]\n"
     ]
    }
   ],
   "source": [
    "nfields = 50\n",
    "ngals_per_field = 4\n",
    "\n",
    "nx = ny = 48\n",
    "\n",
    "# fig = plt.figure(figsize=(10, 10))\n",
    "\n",
    "bias = np.zeros((nfields, 2), dtype=np.float64)\n",
    "g_true = np.zeros(nfields, dtype=np.float64)\n",
    "for ifield in xrange(nfields):\n",
    "    print \"--- Field {:d} / {:d} ---\".format(ifield+1, nfields)\n",
    "    for igal in xrange(ngals_per_field):\n",
    "        img = load_footprint(ifield, igal)\n",
    "        true_shears, true_params = get_truths(ifield, igal)\n",
    "        # -----\n",
    "        rstr = jiffy.Roaster()\n",
    "        rstr.ngrid_x = nx\n",
    "        rstr.ngrid_y = ny\n",
    "        rstr.src_models[0].params[0].dx = true_params[0]\n",
    "        rstr.src_models[0].params[0].dy = true_params[1]\n",
    "        rstr.src_models[0].set_params(true_shears)\n",
    "        rstr.data = img\n",
    "#         print rstr.src_models[0].params\n",
    "        # -----\n",
    "#         model = rstr._get_model_image()\n",
    "#         plt.subplot(2, 2, igal+1)\n",
    "#         plt.imshow(rstr.data - model.array)\n",
    "#         plt.colorbar()\n",
    "        # -----\n",
    "        shear_val = true_shears[1]\n",
    "        g_true[ifield] = shear_val\n",
    "        shears = np.linspace(shear_val - 0.02, shear_val + 0.02, 100)\n",
    "        lnp = np.array([rstr([true_shears[0], g_val]) for g_val in shears])\n",
    "# ##         plt.plot(shears, lnp)\n",
    "        popt, _ = fit_gaussian(shears, lnp)\n",
    "        bias[ifield, 0] += popt[1] - shear_val\n",
    "        bias[ifield, 1] += popt[2]\n",
    "    bias[ifield, :] /= ngals_per_field"
   ]
  },
  {
   "cell_type": "code",
   "execution_count": 9,
   "metadata": {
    "collapsed": false
   },
   "outputs": [
    {
     "data": {
      "text/plain": [
       "<matplotlib.text.Text at 0x115ca6ad0>"
      ]
     },
     "execution_count": 9,
     "metadata": {},
     "output_type": "execute_result"
    },
    {
     "data": {
      "image/png": "[encoded data removed]",
      "text/plain": [
       "<matplotlib.figure.Figure at 0x115b3ca50>"
      ]
     },
     "metadata": {},
     "output_type": "display_data"
    }
   ],
   "source": [
    "from scipy.stats import linregress\n",
    "slope, intercept, r_value, p_value, std_err = linregress(g_true, bias[:,0])\n",
    "xl = np.linspace(np.min(g_true), np.max(g_true), 50)\n",
    "\n",
    "plt.errorbar(g_true, bias[:,0], yerr=bias[:,1], fmt='o')\n",
    "plt.axhline(0., color='grey')\n",
    "plt.plot(xl, slope*xl + intercept, '--')\n",
    "plt.xlabel(r\"$g_2$\", fontsize=18)\n",
    "plt.ylabel(r\"$\\Delta g_{:d}$\".format(2), fontsize=18)\n",
    "plt.xlim(-0.1, 0.1)\n",
    "plt.title(r\"$m = {:3.2e} +/- {:3.2e}$, $c = {:3.2e}$\".format(slope, std_err, intercept))"
   ]
  },
  {
   "cell_type": "code",
   "execution_count": null,
   "metadata": {
    "collapsed": true
   },
   "outputs": [],
   "source": []
  }
 ],
 "metadata": {
  "kernelspec": {
   "display_name": "Python 2",
   "language": "python",
   "name": "python2"
  },
  "language_info": {
   "codemirror_mode": {
    "name": "ipython",
    "version": 2
   },
   "file_extension": ".py",
   "mimetype": "text/x-python",
   "name": "python",
   "nbconvert_exporter": "python",
   "pygments_lexer": "ipython2",
   "version": "2.7.10"
  }
 },
 "nbformat": 4,
 "nbformat_minor": 2
}
