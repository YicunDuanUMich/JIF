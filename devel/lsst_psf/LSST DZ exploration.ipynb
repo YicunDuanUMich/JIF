{
 "cells": [
  {
   "cell_type": "code",
   "execution_count": 1,
   "metadata": {},
   "outputs": [
    {
     "name": "stderr",
     "output_type": "stream",
     "text": [
      "/Users/schneider42/local/galsim/lsst/lsst_wcs.py:38: UserWarning: You cannot use the LSST module.\n",
      "You either do not have the LSST stack installed,\n",
      "or you have it installed, but have not set it up.\n",
      "------------\n",
      "To install the LSST stack, follow the instructions at:\n",
      "\n",
      "\thttps://confluence.lsstcorp.org/display/SIM/Catalogs+and+MAF\n",
      "\n",
      "NOTE: Make sure that you use the same version of python to install\n",
      "the LSST stack as you do to build GalSim (or vice-versa).  See\n",
      "\thttps://github.com/GalSim-developers/GalSim/wiki/Building-GalSim-with-the-LSST-stack\n",
      "for more details\n",
      "\n",
      "------------\n",
      "If you have installed the stack, run\n",
      "\n",
      "If you installed from source:\n",
      "\tsource $LSST_HOME/loadLSST.bash\n",
      "\tsetup obs_lsstSim -t sims\n",
      "\n",
      "If you installed the binary (conda) distribution:\n",
      "\tsource eups-setups.sh\n",
      "\tsetup obs_lsstSim\n",
      "\n",
      "These commands setup the LSST package management system EUPS and then tell EUPS to setup the package that contains the model of the LSST camera.  For an explanation of what EUPS is and how it works, see\n",
      "\thttps://developer.lsst.io/build-ci/eups_tutorial.html\n",
      "\n",
      "  warnings.warn(\"You cannot use the LSST module.\\n\"\n"
     ]
    }
   ],
   "source": [
    "import numpy as np\n",
    "import galsim\n",
    "import galsim.lsst\n",
    "import jiffy\n",
    "\n",
    "import matplotlib.pyplot as plt\n",
    "%matplotlib inline"
   ]
  },
  {
   "cell_type": "code",
   "execution_count": 2,
   "metadata": {},
   "outputs": [],
   "source": [
    "# Read LSST nominal coefficients\n",
    "dat = galsim.lsst.lsst_psfs._read_aberrations()\n",
    "# npupil = int(np.max(dat[:, 0]))\n",
    "# nfield = int(np.max(dat[:, 2]))\n",
    "npupil = 57\n",
    "nfield = 29"
   ]
  },
  {
   "cell_type": "code",
   "execution_count": 3,
   "metadata": {},
   "outputs": [
    {
     "name": "stdout",
     "output_type": "stream",
     "text": [
      "(109, 5)\n",
      "[[ 2.          0.          2.          0.          0.23113484]\n",
      " [ 2.          2.          4.          2.         -0.09443532]\n",
      " [ 2.          0.          0.          0.         -0.13235281]\n",
      " [ 4.          0.          2.          0.         -0.12582651]\n",
      " [ 3.          3.          3.          3.          0.06807902]\n",
      " [ 3.          1.          1.          1.         -0.06762354]\n",
      " [ 6.          0.          0.          0.          0.07907768]\n",
      " [ 5.          1.          1.          1.          0.05214373]\n",
      " [ 8.          0.          0.          0.         -0.06537855]\n",
      " [ 3.          1.          3.          1.          0.03813519]]\n"
     ]
    }
   ],
   "source": [
    "print dat.shape\n",
    "print dat[0:10,:]"
   ]
  },
  {
   "cell_type": "code",
   "execution_count": 114,
   "metadata": {},
   "outputs": [],
   "source": [
    "# Make a lookup table\n",
    "noll_tab = np.zeros((59, 2), dtype=int)\n",
    "for j in range(59):\n",
    "    n, m = galsim.phase_screens._noll_to_zern(j)\n",
    "    noll_tab[j, :] = [n, m]\n",
    "\n",
    "def get_noll_index(n, m):\n",
    "    return np.where((noll_tab == (n, m)).all(axis=1))[0][0]\n",
    "    \n",
    "jp_max = 0\n",
    "jf_max = 0\n",
    "aberrations = np.zeros((npupil, nfield), dtype=np.float64)\n",
    "for i in xrange(dat.shape[0]):\n",
    "    n_pupil = int(dat[i, 0])\n",
    "    m_pupil = int(dat[i, 1])\n",
    "    n_field = int(dat[i, 2])\n",
    "    m_field = int(dat[i, 3])\n",
    "    \n",
    "#     j_pupil = get_noll_index(n_pupil, m_pupil)\n",
    "#     j_field = get_noll_index(n_field, m_field)\n",
    "#     aberrations[j_pupil, j_field] = dat[i, 4]\n",
    "    \n",
    "    for mp in [-m_pupil, m_pupil]:\n",
    "        j_pupil = get_noll_index(n_pupil, mp)\n",
    "        jp_max = np.max((jp_max, j_pupil))\n",
    "        for mf in [-m_field, m_field]:\n",
    "            j_field = get_noll_index(n_field, mf)\n",
    "            jf_max = np.max((jf_max, j_field))\n",
    "            #\n",
    "            aberrations[j_pupil, j_field] = dat[i, 4]"
   ]
  },
  {
   "cell_type": "code",
   "execution_count": 115,
   "metadata": {},
   "outputs": [
    {
     "name": "stdout",
     "output_type": "stream",
     "text": [
      "56 28\n"
     ]
    }
   ],
   "source": [
    "print jp_max, jf_max"
   ]
  },
  {
   "cell_type": "code",
   "execution_count": 116,
   "metadata": {},
   "outputs": [
    {
     "name": "stdout",
     "output_type": "stream",
     "text": [
      "0.0 0.0 0.23113484 0.23113484\n",
      "2.0 2.0 -0.09443532 -0.09443532\n",
      "0.0 0.0 -0.13235281 -0.13235281\n",
      "0.0 0.0 -0.12582651 -0.12582651\n",
      "3.0 3.0 0.06807902 0.06807902\n",
      "1.0 1.0 -0.06762354 -0.06762354\n",
      "0.0 0.0 0.07907768 0.07907768\n",
      "1.0 1.0 0.05214373 0.05214373\n",
      "0.0 0.0 -0.06537855 -0.06537855\n",
      "1.0 1.0 0.03813519 0.03813519\n",
      "1.0 1.0 -0.03655939 -0.03655939\n",
      "0.0 0.0 -0.04600754 -0.04600754\n",
      "1.0 1.0 0.01643176 0.01643176\n",
      "2.0 2.0 0.01588653 0.01588653\n",
      "0.0 0.0 0.02015844 0.02015844\n",
      "3.0 3.0 -0.01424397 -0.01424397\n",
      "0.0 0.0 0.0199 0.0199\n",
      "1.0 1.0 -0.01179766 -0.01179766\n",
      "2.0 2.0 0.01105129 0.01105129\n",
      "2.0 2.0 -0.00876696 -0.00876696\n",
      "2.0 2.0 0.0071078 0.0071078\n",
      "2.0 2.0 0.00689156 0.00689156\n",
      "0.0 0.0 -0.00893325 -0.00893325\n",
      "0.0 0.0 0.00646739 0.00646739\n",
      "3.0 3.0 0.00306412 0.00306412\n",
      "1.0 1.0 0.00261086 0.00261086\n",
      "0.0 0.0 0.00306868 0.00306868\n",
      "4.0 4.0 -0.00180046 -0.00180046\n",
      "2.0 2.0 0.00152473 0.00152473\n",
      "0.0 0.0 0.00186951 0.00186951\n",
      "2.0 2.0 -0.00087366 -0.00087366\n",
      "0.0 0.0 -0.00092896 -0.00092896\n",
      "4.0 4.0 -0.0006038 -0.0006038\n",
      "3.0 3.0 0.00053357 0.00053357\n",
      "5.0 5.0 -0.00046766 -0.00046766\n",
      "3.0 3.0 -0.00032172 -0.00032172\n",
      "1.0 1.0 -0.00022981 -0.00022981\n",
      "1.0 1.0 -0.0001505 -0.0001505\n",
      "4.0 4.0 -0.0001441 -0.0001441\n",
      "2.0 2.0 -9.47e-05 -9.47e-05\n",
      "2.0 2.0 -6.98e-05 -6.98e-05\n",
      "0.0 0.0 -7.73e-05 -7.73e-05\n",
      "0.0 0.0 -6.79e-05 -6.79e-05\n",
      "1.0 1.0 -4.47e-05 -4.47e-05\n",
      "4.0 4.0 -4.31e-05 -4.31e-05\n",
      "1.0 1.0 3.15e-05 3.15e-05\n",
      "1.0 1.0 2.7e-05 2.7e-05\n",
      "0.0 4.0 -2.54e-05 -2.54e-05\n",
      "2.0 6.0 -2.41e-05 -2.41e-05\n",
      "3.0 3.0 2.29e-05 2.29e-05\n",
      "3.0 3.0 -2.15e-05 -2.15e-05\n",
      "1.0 1.0 -2.04e-05 -2.04e-05\n",
      "0.0 4.0 2.03e-05 2.03e-05\n",
      "5.0 5.0 -1.67e-05 -1.67e-05\n",
      "3.0 1.0 1.21e-05 1.21e-05\n",
      "1.0 5.0 8.3e-06 8.3e-06\n",
      "0.0 4.0 -7.5e-06 -7.5e-06\n",
      "3.0 1.0 7.28e-06 7.28e-06\n",
      "6.0 6.0 5.6e-06 5.6e-06\n",
      "1.0 3.0 5.52e-06 5.52e-06\n",
      "1.0 3.0 3.67e-06 3.67e-06\n",
      "4.0 4.0 2.88e-06 2.88e-06\n",
      "3.0 1.0 -2.43e-06 -2.43e-06\n",
      "2.0 6.0 -2.35e-06 -2.35e-06\n",
      "1.0 5.0 -2.34e-06 -2.34e-06\n",
      "1.0 3.0 -2.01e-06 -2.01e-06\n",
      "2.0 2.0 1.93e-06 1.93e-06\n",
      "1.0 1.0 -1.87e-06 -1.87e-06\n",
      "3.0 1.0 1.82e-06 1.82e-06\n",
      "3.0 3.0 -1.8e-06 -1.8e-06\n",
      "0.0 4.0 -1.69e-06 -1.69e-06\n",
      "1.0 1.0 -1.66e-06 -1.66e-06\n",
      "0.0 0.0 2.12e-06 2.12e-06\n",
      "3.0 1.0 -1.42e-06 -1.42e-06\n",
      "5.0 5.0 -1.29e-06 -1.29e-06\n",
      "0.0 4.0 1.07e-06 1.07e-06\n",
      "1.0 3.0 -9.6e-07 -9.6e-07\n",
      "1.0 3.0 8.9e-07 8.9e-07\n",
      "4.0 0.0 -5.3e-07 -5.3e-07\n",
      "4.0 0.0 -4.8e-07 -4.8e-07\n",
      "3.0 1.0 -3.2e-07 -3.2e-07\n",
      "4.0 0.0 -2.6e-07 -2.6e-07\n",
      "2.0 6.0 -2.3e-07 -2.3e-07\n",
      "1.0 3.0 2.2e-07 2.2e-07\n",
      "0.0 4.0 -1.7e-07 -1.7e-07\n",
      "4.0 0.0 -1.5e-07 -1.5e-07\n",
      "4.0 0.0 -1.5e-07 -1.5e-07\n",
      "2.0 2.0 1.5e-07 1.5e-07\n",
      "0.0 0.0 1.9e-07 1.9e-07\n",
      "5.0 1.0 -1.2e-07 -1.2e-07\n",
      "0.0 4.0 1.2e-07 1.2e-07\n",
      "5.0 1.0 -9e-08 -9e-08\n",
      "3.0 1.0 8e-08 8e-08\n",
      "4.0 4.0 8e-08 8e-08\n",
      "4.0 0.0 -6e-08 -6e-08\n",
      "4.0 0.0 -6e-08 -6e-08\n",
      "6.0 6.0 -5e-08 -5e-08\n",
      "3.0 1.0 4e-08 4e-08\n",
      "5.0 1.0 -3e-08 -3e-08\n",
      "1.0 3.0 -2e-08 -2e-08\n",
      "1.0 5.0 -2e-08 -2e-08\n",
      "2.0 6.0 -2e-08 -2e-08\n",
      "4.0 0.0 -1e-08 -1e-08\n",
      "3.0 1.0 1e-08 1e-08\n",
      "0.0 4.0 -1e-08 -1e-08\n",
      "4.0 0.0 -1e-08 -1e-08\n",
      "4.0 0.0 -1e-08 -1e-08\n",
      "1.0 5.0 -1e-08 -1e-08\n",
      "1.0 3.0 0.0 0.0\n"
     ]
    }
   ],
   "source": [
    "for i in xrange(dat.shape[0]):\n",
    "    jp = get_noll_index(dat[i,0], -dat[i,1])\n",
    "    jf = get_noll_index(dat[i,2], dat[i,3])\n",
    "    print dat[i,1], dat[i,3], dat[i,4], aberrations[jp, jf]"
   ]
  },
  {
   "cell_type": "code",
   "execution_count": 117,
   "metadata": {},
   "outputs": [
    {
     "name": "stdout",
     "output_type": "stream",
     "text": [
      "[[ 0  0]\n",
      " [ 0  0]\n",
      " [ 1  1]\n",
      " [ 1 -1]\n",
      " [ 2  0]\n",
      " [ 2 -2]\n",
      " [ 2  2]\n",
      " [ 3 -1]\n",
      " [ 3  1]\n",
      " [ 3 -3]\n",
      " [ 3  3]\n",
      " [ 4  0]\n",
      " [ 4  2]\n",
      " [ 4 -2]\n",
      " [ 4  4]\n",
      " [ 4 -4]\n",
      " [ 5  1]\n",
      " [ 5 -1]\n",
      " [ 5  3]\n",
      " [ 5 -3]\n",
      " [ 5  5]\n",
      " [ 5 -5]\n",
      " [ 6  0]\n",
      " [ 6 -2]\n",
      " [ 6  2]\n",
      " [ 6 -4]\n",
      " [ 6  4]\n",
      " [ 6 -6]\n",
      " [ 6  6]\n",
      " [ 7 -1]\n",
      " [ 7  1]\n",
      " [ 7 -3]\n",
      " [ 7  3]\n",
      " [ 7 -5]\n",
      " [ 7  5]\n",
      " [ 7 -7]\n",
      " [ 7  7]\n",
      " [ 8  0]\n",
      " [ 8  2]\n",
      " [ 8 -2]\n",
      " [ 8  4]\n",
      " [ 8 -4]\n",
      " [ 8  6]\n",
      " [ 8 -6]\n",
      " [ 8  8]\n",
      " [ 8 -8]\n",
      " [ 9  1]\n",
      " [ 9 -1]\n",
      " [ 9  3]\n",
      " [ 9 -3]\n",
      " [ 9  5]\n",
      " [ 9 -5]\n",
      " [ 9  7]\n",
      " [ 9 -7]\n",
      " [ 9  9]\n",
      " [ 9 -9]\n",
      " [10  0]\n",
      " [10 -2]\n",
      " [10  2]]\n"
     ]
    }
   ],
   "source": [
    "print noll_tab"
   ]
  },
  {
   "cell_type": "code",
   "execution_count": 118,
   "metadata": {},
   "outputs": [
    {
     "name": "stdout",
     "output_type": "stream",
     "text": [
      "-0.13235281 0.23113484\n"
     ]
    }
   ],
   "source": [
    "print np.min(aberrations), np.max(aberrations)"
   ]
  },
  {
   "cell_type": "code",
   "execution_count": 119,
   "metadata": {},
   "outputs": [
    {
     "name": "stderr",
     "output_type": "stream",
     "text": [
      "/Users/schneider42/Envs/mbi/lib/python2.7/site-packages/ipykernel_launcher.py:3: RuntimeWarning: divide by zero encountered in log\n",
      "  This is separate from the ipykernel package so we can avoid doing imports until\n"
     ]
    },
    {
     "data": {
      "text/plain": [
       "Text(0,0.5,u'Pupil index')"
      ]
     },
     "execution_count": 119,
     "metadata": {},
     "output_type": "execute_result"
    },
    {
     "data": {
      "image/png": "[encoded data removed]",
      "text/plain": [
       "<matplotlib.figure.Figure at 0x10c261390>"
      ]
     },
     "metadata": {},
     "output_type": "display_data"
    }
   ],
   "source": [
    "plt.figure(figsize=(10,8))\n",
    "# plt.imshow(aberrations)\n",
    "plt.imshow(np.log(np.abs(aberrations)))\n",
    "plt.colorbar()\n",
    "plt.xlabel(r\"Field index\")\n",
    "plt.ylabel(r\"Pupil index\")"
   ]
  },
  {
   "cell_type": "markdown",
   "metadata": {},
   "source": [
    "## Compare to non-field-dependent OpticalScreen"
   ]
  },
  {
   "cell_type": "code",
   "execution_count": 120,
   "metadata": {},
   "outputs": [],
   "source": [
    "theta = (1.75*60.*galsim.arcmin, 0.0*galsim.arcmin)"
   ]
  },
  {
   "cell_type": "code",
   "execution_count": 121,
   "metadata": {},
   "outputs": [],
   "source": [
    "psf3 = jiffy.GalsimPSFLSST()\n",
    "img3 = psf3.get_model(theta=theta, with_atmos=False).drawImage(nx=64, ny=64)"
   ]
  },
  {
   "cell_type": "code",
   "execution_count": 122,
   "metadata": {},
   "outputs": [],
   "source": [
    "fov_radius = 1.75 * galsim.degrees\n",
    "\n",
    "a = galsim.OpticalScreenField(aberrations, diam=8.4, fov_radius=fov_radius).getAberrations(theta[0].tan(), theta[1].tan())\n",
    "screen1 = galsim.OpticalScreen(diam=8.4, aberrations=a)\n",
    "\n",
    "screen2 = galsim.OpticalScreenField(diam=8.4, a_nmrs=aberrations, fov_radius=fov_radius)\n",
    "\n",
    "psf1 = galsim.PhaseScreenList(screen1).makePSF(diam=8.4, lam=500.0,\n",
    "                                              theta=theta)\n",
    "psf2 = galsim.PhaseScreenList(screen2).makePSF(diam=8.4, lam=500.0,\n",
    "                                              theta=theta)\n",
    "\n",
    "img1 = psf1.drawImage(nx=64, ny=64)\n",
    "img2 = psf2.drawImage(nx=64, ny=64)"
   ]
  },
  {
   "cell_type": "code",
   "execution_count": 123,
   "metadata": {},
   "outputs": [
    {
     "name": "stdout",
     "output_type": "stream",
     "text": [
      "(64, 64)\n"
     ]
    },
    {
     "data": {
      "text/plain": [
       "<matplotlib.colorbar.Colorbar at 0x10cc56710>"
      ]
     },
     "execution_count": 123,
     "metadata": {},
     "output_type": "execute_result"
    },
    {
     "data": {
      "image/png": "[encoded data removed]",
      "text/plain": [
       "<matplotlib.figure.Figure at 0x10ca786d0>"
      ]
     },
     "metadata": {},
     "output_type": "display_data"
    }
   ],
   "source": [
    "print img1.array.shape\n",
    "plt.imshow(img1.array)\n",
    "plt.colorbar()"
   ]
  },
  {
   "cell_type": "code",
   "execution_count": 124,
   "metadata": {},
   "outputs": [
    {
     "name": "stdout",
     "output_type": "stream",
     "text": [
      "(64, 64)\n"
     ]
    },
    {
     "data": {
      "text/plain": [
       "<matplotlib.colorbar.Colorbar at 0x10d0fbcd0>"
      ]
     },
     "execution_count": 124,
     "metadata": {},
     "output_type": "execute_result"
    },
    {
     "data": {
      "image/png": "[encoded data removed]",
      "text/plain": [
       "<matplotlib.figure.Figure at 0x10cb3bfd0>"
      ]
     },
     "metadata": {},
     "output_type": "display_data"
    }
   ],
   "source": [
    "print img2.array.shape\n",
    "plt.imshow(img2.array)\n",
    "plt.colorbar()"
   ]
  },
  {
   "cell_type": "code",
   "execution_count": 125,
   "metadata": {},
   "outputs": [
    {
     "name": "stdout",
     "output_type": "stream",
     "text": [
      "(64, 64)\n"
     ]
    },
    {
     "data": {
      "text/plain": [
       "<matplotlib.colorbar.Colorbar at 0x10d368350>"
      ]
     },
     "execution_count": 125,
     "metadata": {},
     "output_type": "execute_result"
    },
    {
     "data": {
      "image/png": "[encoded data removed]",
      "text/plain": [
       "<matplotlib.figure.Figure at 0x10d0c55d0>"
      ]
     },
     "metadata": {},
     "output_type": "display_data"
    }
   ],
   "source": [
    "print img3.array.shape\n",
    "plt.imshow(img3.array)\n",
    "plt.colorbar()"
   ]
  },
  {
   "cell_type": "markdown",
   "metadata": {},
   "source": [
    "## Explore Zernike evaluations in GalSim"
   ]
  },
  {
   "cell_type": "code",
   "execution_count": 108,
   "metadata": {},
   "outputs": [
    {
     "name": "stdout",
     "output_type": "stream",
     "text": [
      "0.0305527632986 0.0\n"
     ]
    }
   ],
   "source": [
    "fov_radius = 1.75 * galsim.degrees\n",
    "theta = (1.75*60.*galsim.arcmin, 0.0*galsim.arcmin)\n",
    "print theta[0].tan(), theta[1].tan()"
   ]
  },
  {
   "cell_type": "code",
   "execution_count": 109,
   "metadata": {},
   "outputs": [
    {
     "name": "stdout",
     "output_type": "stream",
     "text": [
      "1 0.00000000\n",
      "2 -0.00032000\n",
      "3 -0.00032000\n",
      "4 0.30244369\n",
      "5 -0.26594584\n",
      "6 -0.26594584\n",
      "7 -0.01828311\n",
      "8 -0.01828311\n",
      "9 0.20322207\n",
      "10 0.20322207\n",
      "11 -0.23817955\n",
      "12 0.01082720\n",
      "13 0.01082720\n",
      "14 -0.00623439\n",
      "15 -0.00623439\n",
      "16 0.07011174\n",
      "17 0.07011174\n",
      "18 -0.04141249\n",
      "19 -0.04141249\n",
      "20 -0.00162062\n",
      "21 -0.00162062\n",
      "22 0.00324324\n",
      "23 0.01465409\n",
      "24 0.01465409\n",
      "25 -0.00189903\n",
      "26 -0.00189903\n",
      "27 0.00002095\n",
      "28 0.00002095\n",
      "29 -0.07311877\n",
      "30 -0.07311877\n",
      "31 0.00143499\n",
      "32 0.00143499\n",
      "33 -0.00005785\n",
      "34 -0.00005785\n",
      "35 0.00000000\n",
      "36 0.00000000\n",
      "37 0.01103285\n",
      "38 0.01666056\n",
      "39 0.01666056\n",
      "40 -0.00013601\n",
      "41 -0.00013601\n",
      "42 -0.00000019\n",
      "43 -0.00000019\n",
      "44 0.00000000\n",
      "45 0.00000000\n",
      "46 0.03273309\n",
      "47 0.03273309\n",
      "48 0.00005854\n",
      "49 0.00005854\n",
      "50 -0.00000447\n",
      "51 -0.00000447\n",
      "52 0.00000000\n",
      "53 0.00000000\n",
      "54 0.00000000\n",
      "55 0.00000000\n",
      "56 0.00000000\n"
     ]
    }
   ],
   "source": [
    "a = galsim.OpticalScreenField(aberrations, diam=8.4, \n",
    "                              fov_radius=fov_radius).getAberrations(theta[0].tan(), theta[1].tan())\n",
    "# print np.array(a).ravel()\n",
    "\n",
    "for j in xrange(1,npupil):\n",
    "    print \"{:d} {:9.8f}\".format(j, a[j])"
   ]
  },
  {
   "cell_type": "code",
   "execution_count": 129,
   "metadata": {},
   "outputs": [
    {
     "name": "stdout",
     "output_type": "stream",
     "text": [
      "[[ 0.00000000e+00+0.00000000e+00j  1.17539417e-03-1.17539417e-03j\n",
      "   0.00000000e+00+0.00000000e+00j -5.65685425e-08+5.65685425e-08j\n",
      "   0.00000000e+00+0.00000000e+00j -6.92820323e-08+6.92820323e-08j\n",
      "   0.00000000e+00+0.00000000e+00j]\n",
      " [ 0.00000000e+00+0.00000000e+00j -2.58646526e-03+2.58646526e-03j\n",
      "   0.00000000e+00+0.00000000e+00j  0.00000000e+00+0.00000000e+00j\n",
      "   0.00000000e+00+0.00000000e+00j  0.00000000e+00+0.00000000e+00j\n",
      "   0.00000000e+00+0.00000000e+00j]\n",
      " [ 0.00000000e+00+0.00000000e+00j  1.09119201e-03-1.09119201e-03j\n",
      "   0.00000000e+00+0.00000000e+00j  0.00000000e+00+0.00000000e+00j\n",
      "   0.00000000e+00+0.00000000e+00j  0.00000000e+00+0.00000000e+00j\n",
      "   0.00000000e+00+0.00000000e+00j]\n",
      " [ 0.00000000e+00+0.00000000e+00j  0.00000000e+00+0.00000000e+00j\n",
      "   0.00000000e+00+0.00000000e+00j  0.00000000e+00+0.00000000e+00j\n",
      "   0.00000000e+00+0.00000000e+00j  0.00000000e+00+0.00000000e+00j\n",
      "   0.00000000e+00+0.00000000e+00j]]\n"
     ]
    }
   ],
   "source": [
    "print screen2.coef_arrays[2]"
   ]
  },
  {
   "cell_type": "code",
   "execution_count": 70,
   "metadata": {},
   "outputs": [],
   "source": [
    "noll_coef = galsim.phase_screens._noll_coef_array(nfield-1, 0.0, False)"
   ]
  },
  {
   "cell_type": "code",
   "execution_count": 71,
   "metadata": {},
   "outputs": [
    {
     "name": "stdout",
     "output_type": "stream",
     "text": [
      "(4, 7, 28)\n"
     ]
    }
   ],
   "source": [
    "print noll_coef.shape"
   ]
  },
  {
   "cell_type": "code",
   "execution_count": 72,
   "metadata": {},
   "outputs": [],
   "source": [
    "coef_arrays = [np.dot(noll_coef, a[1:]) for a in aberrations]"
   ]
  },
  {
   "cell_type": "code",
   "execution_count": 74,
   "metadata": {},
   "outputs": [
    {
     "name": "stdout",
     "output_type": "stream",
     "text": [
      "(57, 29)\n",
      "(57, 4, 7)\n"
     ]
    }
   ],
   "source": [
    "print aberrations.shape\n",
    "print np.array(coef_arrays).shape"
   ]
  },
  {
   "cell_type": "code",
   "execution_count": 76,
   "metadata": {},
   "outputs": [
    {
     "data": {
      "text/plain": [
       "array([[ 0.00000000e+00+0.00000000e+00j,  1.17539417e-03-1.17539417e-03j,\n",
       "         0.00000000e+00+0.00000000e+00j, -5.65685425e-08+5.65685425e-08j,\n",
       "         0.00000000e+00+0.00000000e+00j, -6.92820323e-08+6.92820323e-08j,\n",
       "         0.00000000e+00+0.00000000e+00j],\n",
       "       [ 0.00000000e+00+0.00000000e+00j, -2.58646526e-03+2.58646526e-03j,\n",
       "         0.00000000e+00+0.00000000e+00j,  0.00000000e+00+0.00000000e+00j,\n",
       "         0.00000000e+00+0.00000000e+00j,  0.00000000e+00+0.00000000e+00j,\n",
       "         0.00000000e+00+0.00000000e+00j],\n",
       "       [ 0.00000000e+00+0.00000000e+00j,  1.09119201e-03-1.09119201e-03j,\n",
       "         0.00000000e+00+0.00000000e+00j,  0.00000000e+00+0.00000000e+00j,\n",
       "         0.00000000e+00+0.00000000e+00j,  0.00000000e+00+0.00000000e+00j,\n",
       "         0.00000000e+00+0.00000000e+00j],\n",
       "       [ 0.00000000e+00+0.00000000e+00j,  0.00000000e+00+0.00000000e+00j,\n",
       "         0.00000000e+00+0.00000000e+00j,  0.00000000e+00+0.00000000e+00j,\n",
       "         0.00000000e+00+0.00000000e+00j,  0.00000000e+00+0.00000000e+00j,\n",
       "         0.00000000e+00+0.00000000e+00j]])"
      ]
     },
     "execution_count": 76,
     "metadata": {},
     "output_type": "execute_result"
    }
   ],
   "source": [
    "coef_arrays[2]"
   ]
  },
  {
   "cell_type": "code",
   "execution_count": null,
   "metadata": {},
   "outputs": [],
   "source": []
  }
 ],
 "metadata": {
  "kernelspec": {
   "display_name": "Python 2",
   "language": "python",
   "name": "python2"
  },
  "language_info": {
   "codemirror_mode": {
    "name": "ipython",
    "version": 2
   },
   "file_extension": ".py",
   "mimetype": "text/x-python",
   "name": "python",
   "nbconvert_exporter": "python",
   "pygments_lexer": "ipython2",
   "version": "2.7.10"
  }
 },
 "nbformat": 4,
 "nbformat_minor": 2
}
